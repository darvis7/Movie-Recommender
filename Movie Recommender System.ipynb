{
 "cells": [
  {
   "cell_type": "code",
   "execution_count": 2,
   "id": "49703803",
   "metadata": {},
   "outputs": [],
   "source": [
    "#Import necessary libraries to be used\n",
    "\n",
    "import numpy as np\n",
    "import pandas as pd"
   ]
  },
  {
   "cell_type": "code",
   "execution_count": 3,
   "id": "98033c4b",
   "metadata": {},
   "outputs": [],
   "source": [
    "#read dataset into notebook\n",
    "\n",
    "movies = pd.read_csv('tmdb_5000_movies.csv')\n",
    "\n",
    "credits = pd.read_csv(\"tmdb_5000_credits.csv\")"
   ]
  },
  {
   "cell_type": "code",
   "execution_count": 4,
   "id": "e334da76",
   "metadata": {},
   "outputs": [
    {
     "data": {
      "text/html": [
       "<div>\n",
       "<style scoped>\n",
       "    .dataframe tbody tr th:only-of-type {\n",
       "        vertical-align: middle;\n",
       "    }\n",
       "\n",
       "    .dataframe tbody tr th {\n",
       "        vertical-align: top;\n",
       "    }\n",
       "\n",
       "    .dataframe thead th {\n",
       "        text-align: right;\n",
       "    }\n",
       "</style>\n",
       "<table border=\"1\" class=\"dataframe\">\n",
       "  <thead>\n",
       "    <tr style=\"text-align: right;\">\n",
       "      <th></th>\n",
       "      <th>budget</th>\n",
       "      <th>genres</th>\n",
       "      <th>homepage</th>\n",
       "      <th>id</th>\n",
       "      <th>keywords</th>\n",
       "      <th>original_language</th>\n",
       "      <th>original_title</th>\n",
       "      <th>overview</th>\n",
       "      <th>popularity</th>\n",
       "      <th>production_companies</th>\n",
       "      <th>production_countries</th>\n",
       "      <th>release_date</th>\n",
       "      <th>revenue</th>\n",
       "      <th>runtime</th>\n",
       "      <th>spoken_languages</th>\n",
       "      <th>status</th>\n",
       "      <th>tagline</th>\n",
       "      <th>title</th>\n",
       "      <th>vote_average</th>\n",
       "      <th>vote_count</th>\n",
       "    </tr>\n",
       "  </thead>\n",
       "  <tbody>\n",
       "    <tr>\n",
       "      <th>0</th>\n",
       "      <td>237000000</td>\n",
       "      <td>[{\"id\": 28, \"name\": \"Action\"}, {\"id\": 12, \"nam...</td>\n",
       "      <td>http://www.avatarmovie.com/</td>\n",
       "      <td>19995</td>\n",
       "      <td>[{\"id\": 1463, \"name\": \"culture clash\"}, {\"id\":...</td>\n",
       "      <td>en</td>\n",
       "      <td>Avatar</td>\n",
       "      <td>In the 22nd century, a paraplegic Marine is di...</td>\n",
       "      <td>150.437577</td>\n",
       "      <td>[{\"name\": \"Ingenious Film Partners\", \"id\": 289...</td>\n",
       "      <td>[{\"iso_3166_1\": \"US\", \"name\": \"United States o...</td>\n",
       "      <td>2009-12-10</td>\n",
       "      <td>2787965087</td>\n",
       "      <td>162.0</td>\n",
       "      <td>[{\"iso_639_1\": \"en\", \"name\": \"English\"}, {\"iso...</td>\n",
       "      <td>Released</td>\n",
       "      <td>Enter the World of Pandora.</td>\n",
       "      <td>Avatar</td>\n",
       "      <td>7.2</td>\n",
       "      <td>11800</td>\n",
       "    </tr>\n",
       "    <tr>\n",
       "      <th>1</th>\n",
       "      <td>300000000</td>\n",
       "      <td>[{\"id\": 12, \"name\": \"Adventure\"}, {\"id\": 14, \"...</td>\n",
       "      <td>http://disney.go.com/disneypictures/pirates/</td>\n",
       "      <td>285</td>\n",
       "      <td>[{\"id\": 270, \"name\": \"ocean\"}, {\"id\": 726, \"na...</td>\n",
       "      <td>en</td>\n",
       "      <td>Pirates of the Caribbean: At World's End</td>\n",
       "      <td>Captain Barbossa, long believed to be dead, ha...</td>\n",
       "      <td>139.082615</td>\n",
       "      <td>[{\"name\": \"Walt Disney Pictures\", \"id\": 2}, {\"...</td>\n",
       "      <td>[{\"iso_3166_1\": \"US\", \"name\": \"United States o...</td>\n",
       "      <td>2007-05-19</td>\n",
       "      <td>961000000</td>\n",
       "      <td>169.0</td>\n",
       "      <td>[{\"iso_639_1\": \"en\", \"name\": \"English\"}]</td>\n",
       "      <td>Released</td>\n",
       "      <td>At the end of the world, the adventure begins.</td>\n",
       "      <td>Pirates of the Caribbean: At World's End</td>\n",
       "      <td>6.9</td>\n",
       "      <td>4500</td>\n",
       "    </tr>\n",
       "  </tbody>\n",
       "</table>\n",
       "</div>"
      ],
      "text/plain": [
       "      budget                                             genres  \\\n",
       "0  237000000  [{\"id\": 28, \"name\": \"Action\"}, {\"id\": 12, \"nam...   \n",
       "1  300000000  [{\"id\": 12, \"name\": \"Adventure\"}, {\"id\": 14, \"...   \n",
       "\n",
       "                                       homepage     id  \\\n",
       "0                   http://www.avatarmovie.com/  19995   \n",
       "1  http://disney.go.com/disneypictures/pirates/    285   \n",
       "\n",
       "                                            keywords original_language  \\\n",
       "0  [{\"id\": 1463, \"name\": \"culture clash\"}, {\"id\":...                en   \n",
       "1  [{\"id\": 270, \"name\": \"ocean\"}, {\"id\": 726, \"na...                en   \n",
       "\n",
       "                             original_title  \\\n",
       "0                                    Avatar   \n",
       "1  Pirates of the Caribbean: At World's End   \n",
       "\n",
       "                                            overview  popularity  \\\n",
       "0  In the 22nd century, a paraplegic Marine is di...  150.437577   \n",
       "1  Captain Barbossa, long believed to be dead, ha...  139.082615   \n",
       "\n",
       "                                production_companies  \\\n",
       "0  [{\"name\": \"Ingenious Film Partners\", \"id\": 289...   \n",
       "1  [{\"name\": \"Walt Disney Pictures\", \"id\": 2}, {\"...   \n",
       "\n",
       "                                production_countries release_date     revenue  \\\n",
       "0  [{\"iso_3166_1\": \"US\", \"name\": \"United States o...   2009-12-10  2787965087   \n",
       "1  [{\"iso_3166_1\": \"US\", \"name\": \"United States o...   2007-05-19   961000000   \n",
       "\n",
       "   runtime                                   spoken_languages    status  \\\n",
       "0    162.0  [{\"iso_639_1\": \"en\", \"name\": \"English\"}, {\"iso...  Released   \n",
       "1    169.0           [{\"iso_639_1\": \"en\", \"name\": \"English\"}]  Released   \n",
       "\n",
       "                                          tagline  \\\n",
       "0                     Enter the World of Pandora.   \n",
       "1  At the end of the world, the adventure begins.   \n",
       "\n",
       "                                      title  vote_average  vote_count  \n",
       "0                                    Avatar           7.2       11800  \n",
       "1  Pirates of the Caribbean: At World's End           6.9        4500  "
      ]
     },
     "execution_count": 4,
     "metadata": {},
     "output_type": "execute_result"
    }
   ],
   "source": [
    "movies.head(2)"
   ]
  },
  {
   "cell_type": "code",
   "execution_count": 5,
   "id": "8b6e2e3a",
   "metadata": {},
   "outputs": [
    {
     "data": {
      "text/html": [
       "<div>\n",
       "<style scoped>\n",
       "    .dataframe tbody tr th:only-of-type {\n",
       "        vertical-align: middle;\n",
       "    }\n",
       "\n",
       "    .dataframe tbody tr th {\n",
       "        vertical-align: top;\n",
       "    }\n",
       "\n",
       "    .dataframe thead th {\n",
       "        text-align: right;\n",
       "    }\n",
       "</style>\n",
       "<table border=\"1\" class=\"dataframe\">\n",
       "  <thead>\n",
       "    <tr style=\"text-align: right;\">\n",
       "      <th></th>\n",
       "      <th>movie_id</th>\n",
       "      <th>title</th>\n",
       "      <th>cast</th>\n",
       "      <th>crew</th>\n",
       "    </tr>\n",
       "  </thead>\n",
       "  <tbody>\n",
       "    <tr>\n",
       "      <th>0</th>\n",
       "      <td>19995</td>\n",
       "      <td>Avatar</td>\n",
       "      <td>[{\"cast_id\": 242, \"character\": \"Jake Sully\", \"...</td>\n",
       "      <td>[{\"credit_id\": \"52fe48009251416c750aca23\", \"de...</td>\n",
       "    </tr>\n",
       "    <tr>\n",
       "      <th>1</th>\n",
       "      <td>285</td>\n",
       "      <td>Pirates of the Caribbean: At World's End</td>\n",
       "      <td>[{\"cast_id\": 4, \"character\": \"Captain Jack Spa...</td>\n",
       "      <td>[{\"credit_id\": \"52fe4232c3a36847f800b579\", \"de...</td>\n",
       "    </tr>\n",
       "  </tbody>\n",
       "</table>\n",
       "</div>"
      ],
      "text/plain": [
       "   movie_id                                     title  \\\n",
       "0     19995                                    Avatar   \n",
       "1       285  Pirates of the Caribbean: At World's End   \n",
       "\n",
       "                                                cast  \\\n",
       "0  [{\"cast_id\": 242, \"character\": \"Jake Sully\", \"...   \n",
       "1  [{\"cast_id\": 4, \"character\": \"Captain Jack Spa...   \n",
       "\n",
       "                                                crew  \n",
       "0  [{\"credit_id\": \"52fe48009251416c750aca23\", \"de...  \n",
       "1  [{\"credit_id\": \"52fe4232c3a36847f800b579\", \"de...  "
      ]
     },
     "execution_count": 5,
     "metadata": {},
     "output_type": "execute_result"
    }
   ],
   "source": [
    "credits.head(2)"
   ]
  },
  {
   "cell_type": "code",
   "execution_count": 6,
   "id": "c91b865f",
   "metadata": {},
   "outputs": [
    {
     "data": {
      "text/plain": [
       "'The seemingly invincible Spider-Man goes up against an all-new crop of villain – including the shape-shifting Sandman. While Spider-Man’s superpowers are altered by an alien organism, his alter ego, Peter Parker, deals with nemesis Eddie Brock and also gets caught up in a love triangle.'"
      ]
     },
     "execution_count": 6,
     "metadata": {},
     "output_type": "execute_result"
    }
   ],
   "source": [
    "# An overview of movie number 5\n",
    "\n",
    "movies[\"overview\"].values[5]"
   ]
  },
  {
   "cell_type": "code",
   "execution_count": 7,
   "id": "8aef7627",
   "metadata": {},
   "outputs": [
    {
     "data": {
      "text/plain": [
       "'[{\"cast_id\": 30, \"character\": \"Peter Parker / Spider-Man\", \"credit_id\": \"52fe4252c3a36847f80151c7\", \"gender\": 2, \"id\": 2219, \"name\": \"Tobey Maguire\", \"order\": 0}, {\"cast_id\": 7, \"character\": \"Mary Jane Watson\", \"credit_id\": \"52fe4252c3a36847f801514f\", \"gender\": 1, \"id\": 205, \"name\": \"Kirsten Dunst\", \"order\": 1}, {\"cast_id\": 35, \"character\": \"Harry Osborn / New Goblin\", \"credit_id\": \"52fe4252c3a36847f80151db\", \"gender\": 2, \"id\": 17051, \"name\": \"James Franco\", \"order\": 2}, {\"cast_id\": 36, \"character\": \"Flint Marko / Sandman\", \"credit_id\": \"52fe4252c3a36847f80151df\", \"gender\": 2, \"id\": 19159, \"name\": \"Thomas Haden Church\", \"order\": 3}, {\"cast_id\": 37, \"character\": \"Eddie Brock / Venom\", \"credit_id\": \"52fe4252c3a36847f80151e3\", \"gender\": 2, \"id\": 17052, \"name\": \"Topher Grace\", \"order\": 4}, {\"cast_id\": 8, \"character\": \"Gwen Stacey\", \"credit_id\": \"52fe4252c3a36847f8015153\", \"gender\": 1, \"id\": 18997, \"name\": \"Bryce Dallas Howard\", \"order\": 5}, {\"cast_id\": 31, \"character\": \"May Parker\", \"credit_id\": \"52fe4252c3a36847f80151cb\", \"gender\": 1, \"id\": 18998, \"name\": \"Rosemary Harris\", \"order\": 6}, {\"cast_id\": 9, \"character\": \"Captain Stacey\", \"credit_id\": \"52fe4252c3a36847f8015157\", \"gender\": 2, \"id\": 2505, \"name\": \"James Cromwell\", \"order\": 7}, {\"cast_id\": 10, \"character\": \"J. Jonah Jameson\", \"credit_id\": \"52fe4252c3a36847f801515b\", \"gender\": 2, \"id\": 18999, \"name\": \"J.K. Simmons\", \"order\": 8}, {\"cast_id\": 14, \"character\": \"Mrs. Marko\", \"credit_id\": \"52fe4252c3a36847f801516d\", \"gender\": 1, \"id\": 9207, \"name\": \"Theresa Russell\", \"order\": 9}, {\"cast_id\": 12, \"character\": \"Dr. Curt Connors\", \"credit_id\": \"52fe4252c3a36847f8015165\", \"gender\": 2, \"id\": 19152, \"name\": \"Dylan Baker\", \"order\": 10}, {\"cast_id\": 13, \"character\": \"Joseph Robertson\", \"credit_id\": \"52fe4252c3a36847f8015169\", \"gender\": 2, \"id\": 5502, \"name\": \"Bill Nunn\", \"order\": 11}, {\"cast_id\": 33, \"character\": \"Miss Brant\", \"credit_id\": \"52fe4252c3a36847f80151d3\", \"gender\": 1, \"id\": 9281, \"name\": \"Elizabeth Banks\", \"order\": 12}, {\"cast_id\": 34, \"character\": \"Hoffman\", \"credit_id\": \"52fe4252c3a36847f80151d7\", \"gender\": 2, \"id\": 11769, \"name\": \"Ted Raimi\", \"order\": 13}, {\"cast_id\": 38, \"character\": \"Penny Marko\", \"credit_id\": \"52fe4252c3a36847f80151e7\", \"gender\": 1, \"id\": 6585, \"name\": \"Perla Haney-Jardine\", \"order\": 14}, {\"cast_id\": 39, \"character\": \"Norman Osborn / Green Goblin\", \"credit_id\": \"52fe4252c3a36847f80151eb\", \"gender\": 2, \"id\": 5293, \"name\": \"Willem Dafoe\", \"order\": 15}, {\"cast_id\": 15, \"character\": \"Ben Parker\", \"credit_id\": \"52fe4252c3a36847f8015171\", \"gender\": 0, \"id\": 19153, \"name\": \"Cliff Robertson\", \"order\": 16}, {\"cast_id\": 41, \"character\": \"Mr. Ditkovitch\", \"credit_id\": \"52fe4252c3a36847f80151f3\", \"gender\": 2, \"id\": 2368, \"name\": \"Elya Baskin\", \"order\": 17}, {\"cast_id\": 42, \"character\": \"Ursula\", \"credit_id\": \"52fe4252c3a36847f80151f7\", \"gender\": 1, \"id\": 20645, \"name\": \"Mageina Tovah\", \"order\": 18}, {\"cast_id\": 46, \"character\": \"Dennis Carradine / Carjacker\", \"credit_id\": \"52fe4252c3a36847f8015207\", \"gender\": 2, \"id\": 20582, \"name\": \"Michael Papajohn\", \"order\": 19}, {\"cast_id\": 47, \"character\": \"Flash Thompson\", \"credit_id\": \"52fe4252c3a36847f801520b\", \"gender\": 2, \"id\": 20580, \"name\": \"Joe Manganiello\", \"order\": 20}, {\"cast_id\": 45, \"character\": \"Man in Times Square\", \"credit_id\": \"52fe4252c3a36847f8015203\", \"gender\": 2, \"id\": 7624, \"name\": \"Stan Lee\", \"order\": 21}, {\"cast_id\": 32, \"character\": \"Ma\\\\u00eetre d\", \"credit_id\": \"52fe4252c3a36847f80151cf\", \"gender\": 2, \"id\": 11357, \"name\": \"Bruce Campbell\", \"order\": 22}, {\"cast_id\": 199, \"character\": \"Pianist\", \"credit_id\": \"595bf201c3a36828fc055217\", \"gender\": 2, \"id\": 19155, \"name\": \"Christopher Young\", \"order\": 23}, {\"cast_id\": 200, \"character\": \"Driver\", \"credit_id\": \"595bf2489251415a4002bf26\", \"gender\": 0, \"id\": 7628, \"name\": \"Grant Curtis\", \"order\": 24}, {\"cast_id\": 16, \"character\": \"John Jameson\", \"credit_id\": \"52fe4252c3a36847f8015175\", \"gender\": 2, \"id\": 19154, \"name\": \"Daniel Gillies\", \"order\": 25}, {\"cast_id\": 43, \"character\": \"Houseman\", \"credit_id\": \"52fe4252c3a36847f80151fb\", \"gender\": 0, \"id\": 19326, \"name\": \"John Paxton\", \"order\": 26}, {\"cast_id\": 44, \"character\": \"Mrs. Stacy\", \"credit_id\": \"52fe4252c3a36847f80151ff\", \"gender\": 1, \"id\": 59206, \"name\": \"Becky Ann Baker\", \"order\": 27}, {\"cast_id\": 48, \"character\": \"Photographer\", \"credit_id\": \"52fe4252c3a36847f801520f\", \"gender\": 2, \"id\": 78311, \"name\": \"Steve Valentine\", \"order\": 28}, {\"cast_id\": 49, \"character\": \"Anchorman\", \"credit_id\": \"52fe4252c3a36847f8015213\", \"gender\": 0, \"id\": 116627, \"name\": \"Hal Fishman\", \"order\": 29}, {\"cast_id\": 50, \"character\": \"Jennifer Dugan\", \"credit_id\": \"52fe4252c3a36847f8015217\", \"gender\": 1, \"id\": 113608, \"name\": \"Lucy Gordon\", \"order\": 30}, {\"cast_id\": 53, \"character\": \"Congratulatory Woman at Daily Bugle\", \"credit_id\": \"566ad9b9c3a36826470046eb\", \"gender\": 1, \"id\": 99932, \"name\": \"Toni Wynne\", \"order\": 31}, {\"cast_id\": 55, \"character\": \"Crane Disaster Radio Policeman\", \"credit_id\": \"57756ff59251412ffa0000c2\", \"gender\": 2, \"id\": 552526, \"name\": \"Andre B. Blake\", \"order\": 32}, {\"cast_id\": 56, \"character\": \"Play Director\", \"credit_id\": \"58d15feec3a36838e900c3ba\", \"gender\": 2, \"id\": 1226471, \"name\": \"Tim Maculan\", \"order\": 33}, {\"cast_id\": 57, \"character\": \"Play Producer\", \"credit_id\": \"58d160059251411acb00d04b\", \"gender\": 2, \"id\": 159456, \"name\": \"Marc Vann\", \"order\": 34}, {\"cast_id\": 58, \"character\": \"Jazz Club Manager\", \"credit_id\": \"58d1611d9251411adc00d9c4\", \"gender\": 2, \"id\": 105701, \"name\": \"Joe Bays\", \"order\": 35}, {\"cast_id\": 59, \"character\": \"Precinct Detective\", \"credit_id\": \"58d1612d9251411adc00d9c9\", \"gender\": 2, \"id\": 66653, \"name\": \"Gregg Daniel\", \"order\": 36}, {\"cast_id\": 60, \"character\": \"Emergency Room Doctor\", \"credit_id\": \"58d16141c3a36838c900d369\", \"gender\": 2, \"id\": 1451076, \"name\": \"Rogelio T. Ramos\", \"order\": 37}, {\"cast_id\": 61, \"character\": \"Crane Operator\", \"credit_id\": \"58d1614fc3a36838af00d209\", \"gender\": 0, \"id\": 11766, \"name\": \"Timothy Patrick Quill\", \"order\": 38}, {\"cast_id\": 62, \"character\": \"Woman Outside Theater\", \"credit_id\": \"58d1616f9251411aef00d00e\", \"gender\": 1, \"id\": 1781288, \"name\": \"Kathryn Bryding\", \"order\": 39}, {\"cast_id\": 63, \"character\": \"Police Detective\", \"credit_id\": \"58d161fac3a36838f100c1bb\", \"gender\": 0, \"id\": 1739821, \"name\": \"Joe Virzi\", \"order\": 40}, {\"cast_id\": 64, \"character\": \"New Jersey State Policeman\", \"credit_id\": \"58d162189251411a9f00d705\", \"gender\": 0, \"id\": 1735986, \"name\": \"Bill E. Rogers\", \"order\": 41}, {\"cast_id\": 65, \"character\": \"New Jersey State Policeman\", \"credit_id\": \"58d1626d9251411ae800d6cb\", \"gender\": 0, \"id\": 1781297, \"name\": \"Michael Alexander\", \"order\": 42}, {\"cast_id\": 66, \"character\": \"Test Site Technician\", \"credit_id\": \"58d16283c3a36838f100c1f4\", \"gender\": 1, \"id\": 1435965, \"name\": \"April Parker-Jones\", \"order\": 43}, {\"cast_id\": 67, \"character\": \"Test Site Technician\", \"credit_id\": \"58d162959251411ae800d6ed\", \"gender\": 0, \"id\": 1781298, \"name\": \"Edward Padilla\", \"order\": 44}, {\"cast_id\": 68, \"character\": \"Test Site Technician\", \"credit_id\": \"58d162a49251411adc00da92\", \"gender\": 2, \"id\": 233298, \"name\": \"Robert Curtis Brown\", \"order\": 45}, {\"cast_id\": 69, \"character\": \"Test Site Technician\", \"credit_id\": \"58d162b5c3a36838af00d2c5\", \"gender\": 2, \"id\": 60490, \"name\": \"Paul Terrell Clayton\", \"order\": 46}, {\"cast_id\": 70, \"character\": \"Test Site Technician\", \"credit_id\": \"58d162ce9251411adc00daa9\", \"gender\": 0, \"id\": 175606, \"name\": \"Carolyn Neff\", \"order\": 47}, {\"cast_id\": 71, \"character\": \"Test Site Technician\", \"credit_id\": \"58d162df9251411ad800d2c7\", \"gender\": 1, \"id\": 1656631, \"name\": \"Christina Cindrich\", \"order\": 48}, {\"cast_id\": 72, \"character\": \"ICU Nurse\", \"credit_id\": \"58d16309c3a368390800bed1\", \"gender\": 0, \"id\": 173163, \"name\": \"Sonya Maddox\", \"order\": 49}, {\"cast_id\": 73, \"character\": \"Cop at Crane Disaster\", \"credit_id\": \"58d16360c3a368390800bf07\", \"gender\": 0, \"id\": 1781299, \"name\": \"Derrick \\'Phoenix\\' Thomas\", \"order\": 50}, {\"cast_id\": 74, \"character\": \"Mary Jane\\'s Replacement\", \"credit_id\": \"58d16380c3a36838df00c615\", \"gender\": 1, \"id\": 1781300, \"name\": \"Jessi Collins\", \"order\": 51}, {\"cast_id\": 75, \"character\": \"Boy at Key to the City Ceremony\", \"credit_id\": \"58d163b2c3a36838d500b54b\", \"gender\": 0, \"id\": 1781301, \"name\": \"Michael McLaughlin\", \"order\": 52}, {\"cast_id\": 76, \"character\": \"Councilwoman\", \"credit_id\": \"58d163cac3a368390800bf4a\", \"gender\": 1, \"id\": 1781302, \"name\": \"Anne Gartlan\", \"order\": 53}, {\"cast_id\": 77, \"character\": \"Policeman at Sand Truck\", \"credit_id\": \"58d163fb9251411ad800d379\", \"gender\": 2, \"id\": 53257, \"name\": \"Emilio Rivera\", \"order\": 54}, {\"cast_id\": 78, \"character\": \"Policeman at Sand Truck\", \"credit_id\": \"58d1640b9251411ad800d38f\", \"gender\": 0, \"id\": 92486, \"name\": \"Keith Woulard\", \"order\": 55}, {\"cast_id\": 79, \"character\": \"Armored Car Driver\", \"credit_id\": \"58d1641ac3a36838f900cfe8\", \"gender\": 2, \"id\": 52946, \"name\": \"Reynaldo Gallegos\", \"order\": 56}, {\"cast_id\": 80, \"character\": \"Newstand Patron\", \"credit_id\": \"58d164299251411aef00d182\", \"gender\": 0, \"id\": 1781303, \"name\": \"Jim Coope\", \"order\": 57}, {\"cast_id\": 81, \"character\": \"Newstand Patron\", \"credit_id\": \"58d164449251411adc00db8a\", \"gender\": 0, \"id\": 98396, \"name\": \"Dean Edwards\", \"order\": 58}, {\"cast_id\": 82, \"character\": \"Newstand Patron\", \"credit_id\": \"58d1645cc3a36838d500b59c\", \"gender\": 1, \"id\": 558055, \"name\": \"Margaret Laney\", \"order\": 59}, {\"cast_id\": 83, \"character\": \"Coffee Shop Waitress\", \"credit_id\": \"58d1654dc3a36838d500b62c\", \"gender\": 1, \"id\": 1781304, \"name\": \"Aimee Miles\", \"order\": 60}, {\"cast_id\": 84, \"character\": \"Jazz Club Waitress\", \"credit_id\": \"58d1663dc3a36838f900d144\", \"gender\": 1, \"id\": 1781307, \"name\": \"Tanya Bond\", \"order\": 61}, {\"cast_id\": 85, \"character\": \"Jazz Club Bouncer\", \"credit_id\": \"58d166c69251411adc00dd32\", \"gender\": 2, \"id\": 193946, \"name\": \"Mark Kubr\", \"order\": 62}, {\"cast_id\": 86, \"character\": \"Photoshoot Client\", \"credit_id\": \"58d166ee9251411ad800d533\", \"gender\": 0, \"id\": 1446719, \"name\": \"Tony Besson\", \"order\": 63}, {\"cast_id\": 87, \"character\": \"Businessman (uncredited)\", \"credit_id\": \"58d16701c3a36838c900d6e9\", \"gender\": 0, \"id\": 1781308, \"name\": \"Ramon Adams\", \"order\": 64}, {\"cast_id\": 88, \"character\": \"Theater Attendee (uncredited)\", \"credit_id\": \"58d1670e9251411ae800d97b\", \"gender\": 0, \"id\": 1781309, \"name\": \"A.J. Adelman\", \"order\": 65}, {\"cast_id\": 89, \"character\": \"Pedestrian (uncredited)\", \"credit_id\": \"58d1671cc3a36838e900c7e5\", \"gender\": 0, \"id\": 1781310, \"name\": \"Angelis Alexandris\", \"order\": 66}, {\"cast_id\": 90, \"character\": \"I.C.U Nurse (uncredited)\", \"credit_id\": \"58d167349251411adc00dd7f\", \"gender\": 1, \"id\": 1781311, \"name\": \"Dawn Marie Anderson\", \"order\": 67}, {\"cast_id\": 91, \"character\": \"NYPD Officer (uncredited)\", \"credit_id\": \"58d167b6c3a36838f100c4f6\", \"gender\": 2, \"id\": 1653331, \"name\": \"Frank Anello\", \"order\": 68}, {\"cast_id\": 92, \"character\": \"Model (uncredited)\", \"credit_id\": \"58d167d69251411ab500dabf\", \"gender\": 1, \"id\": 1781312, \"name\": \"Anya Avaeva\", \"order\": 69}, {\"cast_id\": 93, \"character\": \"Bucket Boy (uncredited)\", \"credit_id\": \"58d1685cc3a36838af00d6a6\", \"gender\": 2, \"id\": 111243, \"name\": \"David Backus\", \"order\": 70}, {\"cast_id\": 94, \"character\": \"News Reporter (uncredited)\", \"credit_id\": \"58d16875c3a36838f100c571\", \"gender\": 1, \"id\": 1781313, \"name\": \"Tiffany L. Baker\", \"order\": 71}, {\"cast_id\": 95, \"character\": \"Photographer (uncredited)\", \"credit_id\": \"58d16910c3a368390800c28a\", \"gender\": 0, \"id\": 1781194, \"name\": \"Marc C. Cancassi\", \"order\": 72}, {\"cast_id\": 96, \"character\": \"Rescued Girl (uncredited)\", \"credit_id\": \"58d16935c3a36838f100c5e8\", \"gender\": 1, \"id\": 1781318, \"name\": \"Sujeilee Candele\", \"order\": 73}, {\"cast_id\": 97, \"character\": \"Photographer (uncredited)\", \"credit_id\": \"58d16a5dc3a36838af00d80b\", \"gender\": 0, \"id\": 454223, \"name\": \"Michael Ciesla\", \"order\": 74}, {\"cast_id\": 98, \"character\": \"Jazz Club Waitress (uncredited)\", \"credit_id\": \"58d16a749251411a9f00dc8f\", \"gender\": 1, \"id\": 232042, \"name\": \"Irina Costa\", \"order\": 75}, {\"cast_id\": 99, \"character\": \"Theater Patron (uncredited)\", \"credit_id\": \"58d16abb9251411adc00dfb6\", \"gender\": 0, \"id\": 1496942, \"name\": \"John Crann\", \"order\": 76}, {\"cast_id\": 100, \"character\": \"Jazz Club Girl (uncredited)\", \"credit_id\": \"58d16acbc3a36838e900ca3e\", \"gender\": 1, \"id\": 1209717, \"name\": \"Crystal Marie Denha\", \"order\": 77}, {\"cast_id\": 101, \"character\": \"Columbia Grad Student (uncredited)\", \"credit_id\": \"58d16b819251411aef00d5d2\", \"gender\": 1, \"id\": 1781325, \"name\": \"Amy V. Dewhurst\", \"order\": 78}, {\"cast_id\": 102, \"character\": \"New York City Commuter / Driver (uncredited)\", \"credit_id\": \"58d16c169251411aef00d633\", \"gender\": 2, \"id\": 1509622, \"name\": \"Paul Edney\", \"order\": 79}, {\"cast_id\": 54, \"character\": \"Girl at Key Ceremony (uncredited)\", \"credit_id\": \"571ce0119251414a870019c0\", \"gender\": 1, \"id\": 1610271, \"name\": \"Natalie Fabry\", \"order\": 80}, {\"cast_id\": 103, \"character\": \"Pedestrian (uncredited)\", \"credit_id\": \"58d16c5e9251411af400dc6c\", \"gender\": 0, \"id\": 1781326, \"name\": \"Keith Fausnaught\", \"order\": 81}, {\"cast_id\": 104, \"character\": \"A Spidey Kid (uncredited)\", \"credit_id\": \"58d16c6c9251411ae800dd2f\", \"gender\": 1, \"id\": 1781199, \"name\": \"Amanda Florian\", \"order\": 82}, {\"cast_id\": 105, \"character\": \"A Spidey Kid (uncredited)\", \"credit_id\": \"58d16c7ac3a36838f900d572\", \"gender\": 1, \"id\": 1781205, \"name\": \"Brianna Leann Florian\", \"order\": 83}, {\"cast_id\": 106, \"character\": \"A Spidey Kid (uncredited)\", \"credit_id\": \"58d16c869251411af400dc87\", \"gender\": 1, \"id\": 1781217, \"name\": \"Tiffany Ashley Florian\", \"order\": 84}, {\"cast_id\": 107, \"character\": \"Businessman (uncredited)\", \"credit_id\": \"58d16c929251411acb00d793\", \"gender\": 0, \"id\": 1781327, \"name\": \"Shaun Patrick Flynn\", \"order\": 85}, {\"cast_id\": 108, \"character\": \"Automobile Driver (uncredited)\", \"credit_id\": \"58d16ca29251411a9f00de11\", \"gender\": 0, \"id\": 1636759, \"name\": \"Logan Fry\", \"order\": 86}, {\"cast_id\": 109, \"character\": \"Spectator (uncredited)\", \"credit_id\": \"58d16caec3a36838d500ba61\", \"gender\": 0, \"id\": 1781328, \"name\": \"Kevin Fung\", \"order\": 87}, {\"cast_id\": 110, \"character\": \"News Spectator (uncredited)\", \"credit_id\": \"58d16cbd9251411ab500ddf6\", \"gender\": 0, \"id\": 1781329, \"name\": \"Tony Galtieri\", \"order\": 88}, {\"cast_id\": 111, \"character\": \"Funeral Limo Driver (uncredited)\", \"credit_id\": \"58d16cccc3a36838d500ba7f\", \"gender\": 0, \"id\": 1781330, \"name\": \"Chuck Gerena\", \"order\": 89}, {\"cast_id\": 112, \"character\": \"News Reporter (uncredited)\", \"credit_id\": \"58d16cf2c3a36838f900d5c7\", \"gender\": 0, \"id\": 1639432, \"name\": \"Brian Hopson\", \"order\": 90}, {\"cast_id\": 113, \"character\": \"Cop (uncredited)\", \"credit_id\": \"58d16cff9251411aef00d6ca\", \"gender\": 0, \"id\": 1781331, \"name\": \"Claude Jay\", \"order\": 91}, {\"cast_id\": 114, \"character\": \"Female New Yorker (uncredited)\", \"credit_id\": \"58d16d19c3a368390800c4f2\", \"gender\": 1, \"id\": 1781332, \"name\": \"Julie Jei\", \"order\": 92}, {\"cast_id\": 115, \"character\": \"Jazz Club Bouncer (uncredited)\", \"credit_id\": \"58d16d5e9251411af400dd23\", \"gender\": 0, \"id\": 1316667, \"name\": \"Andrew James Jones\", \"order\": 93}, {\"cast_id\": 116, \"character\": \"Girl at Key Ceremony (uncredited)\", \"credit_id\": \"58d16d9e9251411a9f00de90\", \"gender\": 1, \"id\": 105632, \"name\": \"Natalie Jones\", \"order\": 94}, {\"cast_id\": 117, \"character\": \"Student (uncredited)\", \"credit_id\": \"58d16e49c3a36838e900cc60\", \"gender\": 0, \"id\": 1781333, \"name\": \"Christopher Jude\", \"order\": 95}, {\"cast_id\": 51, \"character\": \"ER Nurse (uncredited)\", \"credit_id\": \"52fe4252c3a36847f801521b\", \"gender\": 1, \"id\": 1292243, \"name\": \"Brittany Krall\", \"order\": 96}, {\"cast_id\": 118, \"character\": \"Dog Walker (uncredited)\", \"credit_id\": \"58d16f2f9251411aef00d801\", \"gender\": 1, \"id\": 1781334, \"name\": \"Alyssa Lakota\", \"order\": 97}, {\"cast_id\": 119, \"character\": \"Observer (uncredited)\", \"credit_id\": \"58d170979251411acb00d9bf\", \"gender\": 0, \"id\": 1752230, \"name\": \"Tia Latrell\", \"order\": 98}, {\"cast_id\": 120, \"character\": \"Businesswoman (uncredited)\", \"credit_id\": \"58d170a5c3a36838df00cdb6\", \"gender\": 1, \"id\": 1781221, \"name\": \"Linda Lee\", \"order\": 99}, {\"cast_id\": 121, \"character\": \"Woman in Court (uncredited)\", \"credit_id\": \"58d170ba9251411adc00e372\", \"gender\": 1, \"id\": 570374, \"name\": \"Pierangeli Llinas\", \"order\": 100}, {\"cast_id\": 122, \"character\": \"British Publicist (uncredited)\", \"credit_id\": \"58d175cec3a36838d500bfdd\", \"gender\": 1, \"id\": 1246221, \"name\": \"Bernadette Lords\", \"order\": 101}, {\"cast_id\": 123, \"character\": \"Shocked Pedestrian (uncredited)\", \"credit_id\": \"58d175ea9251411ad800dec4\", \"gender\": 1, \"id\": 1781344, \"name\": \"Sandrine Marlier\", \"order\": 102}, {\"cast_id\": 124, \"character\": \"Journalist (uncredited)\", \"credit_id\": \"58d176bfc3a36838f900dcc4\", \"gender\": 1, \"id\": 1781345, \"name\": \"Laura McDavid\", \"order\": 103}, {\"cast_id\": 125, \"character\": \"Girl Screaming in Camaro (uncredited)\", \"credit_id\": \"58d17715c3a368390800cb60\", \"gender\": 1, \"id\": 1781346, \"name\": \"Natalie McNeil\", \"order\": 104}, {\"cast_id\": 126, \"character\": \"Kid in Times Square (uncredited)\", \"credit_id\": \"58d177939251411adc00e854\", \"gender\": 0, \"id\": 1781347, \"name\": \"Daniel Mignault\", \"order\": 105}, {\"cast_id\": 127, \"character\": \"Oscorp Receptionist (uncredited)\", \"credit_id\": \"58d177b7c3a368390800cbc0\", \"gender\": 1, \"id\": 163930, \"name\": \"Martha Millan\", \"order\": 106}, {\"cast_id\": 128, \"character\": \"Girl in Times Square (uncredited)\", \"credit_id\": \"58d1783ac3a36838af00e15f\", \"gender\": 1, \"id\": 1781348, \"name\": \"Michele-Nanette Miller\", \"order\": 107}, {\"cast_id\": 129, \"character\": \"Robbie\\'s Assistant (uncredited)\", \"credit_id\": \"58d178949251411aef00de7e\", \"gender\": 1, \"id\": 1697017, \"name\": \"Claudia Katz Minnick\", \"order\": 108}, {\"cast_id\": 130, \"character\": \"Theatergoer (uncredited)\", \"credit_id\": \"58d1797dc3a36838c900e3e5\", \"gender\": 0, \"id\": 1781349, \"name\": \"Robert Myers\", \"order\": 109}, {\"cast_id\": 131, \"character\": \"Businessman (uncredited)\", \"credit_id\": \"58d179929251411af400e50b\", \"gender\": 0, \"id\": 1480150, \"name\": \"Joseph O\\'Brien\", \"order\": 110}, {\"cast_id\": 132, \"character\": \"Beautiful Girl (uncredited)\", \"credit_id\": \"58d179a9c3a36838e900d412\", \"gender\": 1, \"id\": 1178562, \"name\": \"Jen Oda\", \"order\": 111}, {\"cast_id\": 133, \"character\": \"Beautiful Woman (uncredited)\", \"credit_id\": \"58d17b319251411ad800e234\", \"gender\": 1, \"id\": 1344665, \"name\": \"Anjelia Pelay\", \"order\": 112}, {\"cast_id\": 134, \"character\": \"Police Officer (uncredited)\", \"credit_id\": \"58d17bcfc3a36838c900e571\", \"gender\": 0, \"id\": 118389, \"name\": \"Nick Poltoranin\", \"order\": 113}, {\"cast_id\": 135, \"character\": \"Beautiful Woman (uncredited)\", \"credit_id\": \"58d17beac3a36838df00d55a\", \"gender\": 1, \"id\": 1781350, \"name\": \"Vanessa Reseland\", \"order\": 114}, {\"cast_id\": 136, \"character\": \"Beautiful Woman (uncredited)\", \"credit_id\": \"58d17c759251411a9f00e80e\", \"gender\": 0, \"id\": 1781351, \"name\": \"La Rivers\", \"order\": 115}, {\"cast_id\": 137, \"character\": \"Businesswoman (uncredited)\", \"credit_id\": \"58d17c98c3a36838e900d5e6\", \"gender\": 1, \"id\": 60127, \"name\": \"Bria Roberts\", \"order\": 116}, {\"cast_id\": 138, \"character\": \"Pedestrian (uncredited)\", \"credit_id\": \"58d17d239251411a9f00e897\", \"gender\": 0, \"id\": 1781352, \"name\": \"Luis Rosa\", \"order\": 117}, {\"cast_id\": 139, \"character\": \"Sandman Victim (uncredited)\", \"credit_id\": \"58d17d359251411a9f00e8a9\", \"gender\": 1, \"id\": 1422991, \"name\": \"Vanessa Ross\", \"order\": 118}, {\"cast_id\": 140, \"character\": \"Bad Girl (uncredited)\", \"credit_id\": \"58d17d599251411aef00e1b3\", \"gender\": 1, \"id\": 106147, \"name\": \"Brenna Roth\", \"order\": 119}, {\"cast_id\": 141, \"character\": \"City Hall Cheerer (uncredited)\", \"credit_id\": \"58d17db39251411ae800e895\", \"gender\": 0, \"id\": 1691382, \"name\": \"Shade Rupe\", \"order\": 120}, {\"cast_id\": 142, \"character\": \"Guy with Ticket (uncredited)\", \"credit_id\": \"58d17dc19251411ab500e8bb\", \"gender\": 0, \"id\": 1781353, \"name\": \"Arick Salmea\", \"order\": 121}, {\"cast_id\": 143, \"character\": \"Jazz Club Beatnik (uncredited)\", \"credit_id\": \"58d17dd2c3a36838af00e524\", \"gender\": 0, \"id\": 1367833, \"name\": \"Eric Shackelford\", \"order\": 122}, {\"cast_id\": 144, \"character\": \"Jazz Club Guest (uncredited)\", \"credit_id\": \"58d17ddfc3a36838df00d6b1\", \"gender\": 0, \"id\": 1781354, \"name\": \"Daniel Shafer\", \"order\": 123}, {\"cast_id\": 145, \"character\": \"Caf\\\\u00e9 Girl (uncredited)\", \"credit_id\": \"58d17df7c3a36838d500c4b8\", \"gender\": 1, \"id\": 1781355, \"name\": \"Abbey Skinner\", \"order\": 124}, {\"cast_id\": 146, \"character\": \"Jazz Club Patron (uncredited)\", \"credit_id\": \"58d17e2fc3a36838df00d6f3\", \"gender\": 1, \"id\": 1781356, \"name\": \"Kristin Somo\", \"order\": 125}, {\"cast_id\": 147, \"character\": \"Jazz Club Waitress (uncredited)\", \"credit_id\": \"58d17efc9251411adc00ed24\", \"gender\": 1, \"id\": 1340943, \"name\": \"Jennifer Sparks\", \"order\": 126}, {\"cast_id\": 148, \"character\": \"Firefighter (uncredited)\", \"credit_id\": \"58d17f9c9251411aef00e34c\", \"gender\": 0, \"id\": 211964, \"name\": \"Christopher Stadulis\", \"order\": 127}, {\"cast_id\": 149, \"character\": \"Police Officer (uncredited)\", \"credit_id\": \"58d17fabc3a36838f900e297\", \"gender\": 0, \"id\": 1781358, \"name\": \"Jimmy Star\", \"order\": 128}, {\"cast_id\": 150, \"character\": \"Broadway Audience Member (uncredited)\", \"credit_id\": \"58d17fbbc3a36838df00d807\", \"gender\": 0, \"id\": 1778304, \"name\": \"Arne Starr\", \"order\": 129}, {\"cast_id\": 151, \"character\": \"Jazz Club Musician (uncredited)\", \"credit_id\": \"58d17fca9251411af400e902\", \"gender\": 0, \"id\": 1781359, \"name\": \"Liam Stone\", \"order\": 130}, {\"cast_id\": 152, \"character\": \"Girl in Cab (uncredited)\", \"credit_id\": \"58d17fe7c3a36838af00e6b7\", \"gender\": 1, \"id\": 1781360, \"name\": \"Tajna Tanovic\", \"order\": 131}, {\"cast_id\": 153, \"character\": \"Model (uncredited)\", \"credit_id\": \"58d180779251411ad800e59e\", \"gender\": 1, \"id\": 1454306, \"name\": \"Aija Terauda\", \"order\": 132}, {\"cast_id\": 154, \"character\": \"Hot Girl (uncredited)\", \"credit_id\": \"58d180a4c3a36838e900d867\", \"gender\": 0, \"id\": 1781361, \"name\": \"Brigid Turner\", \"order\": 133}, {\"cast_id\": 155, \"character\": \"Beautiful Woman (uncredited)\", \"credit_id\": \"58d180c79251411ad800e5db\", \"gender\": 1, \"id\": 1781362, \"name\": \"Evelyn Vaccaro\", \"order\": 134}, {\"cast_id\": 156, \"character\": \"Bar Patron #5 (uncredited)\", \"credit_id\": \"58d18160c3a36838df00d910\", \"gender\": 0, \"id\": 1781365, \"name\": \"Nick Vlassopoulos\", \"order\": 135}, {\"cast_id\": 157, \"character\": \"Model (uncredited)\", \"credit_id\": \"58d1816fc3a36838f900e3e3\", \"gender\": 1, \"id\": 1614425, \"name\": \"Sincerely A. Ward\", \"order\": 136}, {\"cast_id\": 158, \"character\": \"Model (uncredited)\", \"credit_id\": \"58d1817a9251411ad800e664\", \"gender\": 0, \"id\": 567242, \"name\": \"Silq Webster\", \"order\": 137}, {\"cast_id\": 159, \"character\": \"Student (uncredited)\", \"credit_id\": \"58d181979251411adc00eefb\", \"gender\": 0, \"id\": 1781366, \"name\": \"Graig F. Weich\", \"order\": 138}, {\"cast_id\": 160, \"character\": \"Restaurant Patron (uncredited)\", \"credit_id\": \"58d181a69251411aef00e49e\", \"gender\": 0, \"id\": 1781368, \"name\": \"Fredrick Weiss\", \"order\": 139}, {\"cast_id\": 161, \"character\": \"ER Nurse (uncredited)\", \"credit_id\": \"58d181b5c3a36838e900d903\", \"gender\": 1, \"id\": 1225878, \"name\": \"Jennifer Weston\", \"order\": 140}, {\"cast_id\": 162, \"character\": \"City Hall Cheerer (uncredited)\", \"credit_id\": \"58d181d3c3a36838e900d916\", \"gender\": 0, \"id\": 1781371, \"name\": \"Trenton Willey\", \"order\": 141}, {\"cast_id\": 163, \"character\": \"Spectator (uncredited)\", \"credit_id\": \"58d181e0c3a36838d500c6f3\", \"gender\": 2, \"id\": 1368459, \"name\": \"Ray Wineteer\", \"order\": 142}]'"
      ]
     },
     "execution_count": 7,
     "metadata": {},
     "output_type": "execute_result"
    }
   ],
   "source": [
    "# Cast of the movie number 5\n",
    "\n",
    "credits['cast'].values[5]"
   ]
  },
  {
   "cell_type": "code",
   "execution_count": 8,
   "id": "f1fa8af3",
   "metadata": {},
   "outputs": [],
   "source": [
    "# Merging the two dataset on title feature\n",
    "\n",
    "movies = movies.merge(credits,on='title')"
   ]
  },
  {
   "cell_type": "code",
   "execution_count": 9,
   "id": "e49696bb",
   "metadata": {},
   "outputs": [
    {
     "data": {
      "text/html": [
       "<div>\n",
       "<style scoped>\n",
       "    .dataframe tbody tr th:only-of-type {\n",
       "        vertical-align: middle;\n",
       "    }\n",
       "\n",
       "    .dataframe tbody tr th {\n",
       "        vertical-align: top;\n",
       "    }\n",
       "\n",
       "    .dataframe thead th {\n",
       "        text-align: right;\n",
       "    }\n",
       "</style>\n",
       "<table border=\"1\" class=\"dataframe\">\n",
       "  <thead>\n",
       "    <tr style=\"text-align: right;\">\n",
       "      <th></th>\n",
       "      <th>budget</th>\n",
       "      <th>genres</th>\n",
       "      <th>homepage</th>\n",
       "      <th>id</th>\n",
       "      <th>keywords</th>\n",
       "      <th>original_language</th>\n",
       "      <th>original_title</th>\n",
       "      <th>overview</th>\n",
       "      <th>popularity</th>\n",
       "      <th>production_companies</th>\n",
       "      <th>...</th>\n",
       "      <th>runtime</th>\n",
       "      <th>spoken_languages</th>\n",
       "      <th>status</th>\n",
       "      <th>tagline</th>\n",
       "      <th>title</th>\n",
       "      <th>vote_average</th>\n",
       "      <th>vote_count</th>\n",
       "      <th>movie_id</th>\n",
       "      <th>cast</th>\n",
       "      <th>crew</th>\n",
       "    </tr>\n",
       "  </thead>\n",
       "  <tbody>\n",
       "    <tr>\n",
       "      <th>0</th>\n",
       "      <td>237000000</td>\n",
       "      <td>[{\"id\": 28, \"name\": \"Action\"}, {\"id\": 12, \"nam...</td>\n",
       "      <td>http://www.avatarmovie.com/</td>\n",
       "      <td>19995</td>\n",
       "      <td>[{\"id\": 1463, \"name\": \"culture clash\"}, {\"id\":...</td>\n",
       "      <td>en</td>\n",
       "      <td>Avatar</td>\n",
       "      <td>In the 22nd century, a paraplegic Marine is di...</td>\n",
       "      <td>150.437577</td>\n",
       "      <td>[{\"name\": \"Ingenious Film Partners\", \"id\": 289...</td>\n",
       "      <td>...</td>\n",
       "      <td>162.0</td>\n",
       "      <td>[{\"iso_639_1\": \"en\", \"name\": \"English\"}, {\"iso...</td>\n",
       "      <td>Released</td>\n",
       "      <td>Enter the World of Pandora.</td>\n",
       "      <td>Avatar</td>\n",
       "      <td>7.2</td>\n",
       "      <td>11800</td>\n",
       "      <td>19995</td>\n",
       "      <td>[{\"cast_id\": 242, \"character\": \"Jake Sully\", \"...</td>\n",
       "      <td>[{\"credit_id\": \"52fe48009251416c750aca23\", \"de...</td>\n",
       "    </tr>\n",
       "    <tr>\n",
       "      <th>1</th>\n",
       "      <td>300000000</td>\n",
       "      <td>[{\"id\": 12, \"name\": \"Adventure\"}, {\"id\": 14, \"...</td>\n",
       "      <td>http://disney.go.com/disneypictures/pirates/</td>\n",
       "      <td>285</td>\n",
       "      <td>[{\"id\": 270, \"name\": \"ocean\"}, {\"id\": 726, \"na...</td>\n",
       "      <td>en</td>\n",
       "      <td>Pirates of the Caribbean: At World's End</td>\n",
       "      <td>Captain Barbossa, long believed to be dead, ha...</td>\n",
       "      <td>139.082615</td>\n",
       "      <td>[{\"name\": \"Walt Disney Pictures\", \"id\": 2}, {\"...</td>\n",
       "      <td>...</td>\n",
       "      <td>169.0</td>\n",
       "      <td>[{\"iso_639_1\": \"en\", \"name\": \"English\"}]</td>\n",
       "      <td>Released</td>\n",
       "      <td>At the end of the world, the adventure begins.</td>\n",
       "      <td>Pirates of the Caribbean: At World's End</td>\n",
       "      <td>6.9</td>\n",
       "      <td>4500</td>\n",
       "      <td>285</td>\n",
       "      <td>[{\"cast_id\": 4, \"character\": \"Captain Jack Spa...</td>\n",
       "      <td>[{\"credit_id\": \"52fe4232c3a36847f800b579\", \"de...</td>\n",
       "    </tr>\n",
       "  </tbody>\n",
       "</table>\n",
       "<p>2 rows × 23 columns</p>\n",
       "</div>"
      ],
      "text/plain": [
       "      budget                                             genres  \\\n",
       "0  237000000  [{\"id\": 28, \"name\": \"Action\"}, {\"id\": 12, \"nam...   \n",
       "1  300000000  [{\"id\": 12, \"name\": \"Adventure\"}, {\"id\": 14, \"...   \n",
       "\n",
       "                                       homepage     id  \\\n",
       "0                   http://www.avatarmovie.com/  19995   \n",
       "1  http://disney.go.com/disneypictures/pirates/    285   \n",
       "\n",
       "                                            keywords original_language  \\\n",
       "0  [{\"id\": 1463, \"name\": \"culture clash\"}, {\"id\":...                en   \n",
       "1  [{\"id\": 270, \"name\": \"ocean\"}, {\"id\": 726, \"na...                en   \n",
       "\n",
       "                             original_title  \\\n",
       "0                                    Avatar   \n",
       "1  Pirates of the Caribbean: At World's End   \n",
       "\n",
       "                                            overview  popularity  \\\n",
       "0  In the 22nd century, a paraplegic Marine is di...  150.437577   \n",
       "1  Captain Barbossa, long believed to be dead, ha...  139.082615   \n",
       "\n",
       "                                production_companies  ... runtime  \\\n",
       "0  [{\"name\": \"Ingenious Film Partners\", \"id\": 289...  ...   162.0   \n",
       "1  [{\"name\": \"Walt Disney Pictures\", \"id\": 2}, {\"...  ...   169.0   \n",
       "\n",
       "                                    spoken_languages    status  \\\n",
       "0  [{\"iso_639_1\": \"en\", \"name\": \"English\"}, {\"iso...  Released   \n",
       "1           [{\"iso_639_1\": \"en\", \"name\": \"English\"}]  Released   \n",
       "\n",
       "                                          tagline  \\\n",
       "0                     Enter the World of Pandora.   \n",
       "1  At the end of the world, the adventure begins.   \n",
       "\n",
       "                                      title vote_average vote_count movie_id  \\\n",
       "0                                    Avatar          7.2      11800    19995   \n",
       "1  Pirates of the Caribbean: At World's End          6.9       4500      285   \n",
       "\n",
       "                                                cast  \\\n",
       "0  [{\"cast_id\": 242, \"character\": \"Jake Sully\", \"...   \n",
       "1  [{\"cast_id\": 4, \"character\": \"Captain Jack Spa...   \n",
       "\n",
       "                                                crew  \n",
       "0  [{\"credit_id\": \"52fe48009251416c750aca23\", \"de...  \n",
       "1  [{\"credit_id\": \"52fe4232c3a36847f800b579\", \"de...  \n",
       "\n",
       "[2 rows x 23 columns]"
      ]
     },
     "execution_count": 9,
     "metadata": {},
     "output_type": "execute_result"
    }
   ],
   "source": [
    "movies.head(2)"
   ]
  },
  {
   "cell_type": "code",
   "execution_count": 10,
   "id": "8b24bdca",
   "metadata": {},
   "outputs": [
    {
     "data": {
      "text/plain": [
       "(4809, 23)"
      ]
     },
     "execution_count": 10,
     "metadata": {},
     "output_type": "execute_result"
    }
   ],
   "source": [
    "#There are 4,809 rows and 23 columns\n",
    "\n",
    "movies.shape"
   ]
  },
  {
   "cell_type": "code",
   "execution_count": 11,
   "id": "4df8bde4",
   "metadata": {},
   "outputs": [
    {
     "data": {
      "text/plain": [
       "original_language\n",
       "en    4510\n",
       "fr      70\n",
       "es      32\n",
       "zh      27\n",
       "de      27\n",
       "hi      19\n",
       "ja      16\n",
       "it      14\n",
       "ko      12\n",
       "cn      12\n",
       "ru      11\n",
       "pt       9\n",
       "da       7\n",
       "sv       5\n",
       "nl       4\n",
       "fa       4\n",
       "th       3\n",
       "he       3\n",
       "ta       2\n",
       "cs       2\n",
       "ro       2\n",
       "id       2\n",
       "ar       2\n",
       "vi       1\n",
       "sl       1\n",
       "ps       1\n",
       "no       1\n",
       "ky       1\n",
       "hu       1\n",
       "pl       1\n",
       "af       1\n",
       "nb       1\n",
       "tr       1\n",
       "is       1\n",
       "xx       1\n",
       "te       1\n",
       "el       1\n",
       "Name: count, dtype: int64"
      ]
     },
     "execution_count": 11,
     "metadata": {},
     "output_type": "execute_result"
    }
   ],
   "source": [
    "#The languages feature is unbalanced as there are more English speaking languages\n",
    "\n",
    "movies['original_language'].value_counts()"
   ]
  },
  {
   "cell_type": "code",
   "execution_count": 12,
   "id": "3ef334ec",
   "metadata": {},
   "outputs": [
    {
     "name": "stdout",
     "output_type": "stream",
     "text": [
      "<class 'pandas.core.frame.DataFrame'>\n",
      "RangeIndex: 4809 entries, 0 to 4808\n",
      "Data columns (total 23 columns):\n",
      " #   Column                Non-Null Count  Dtype  \n",
      "---  ------                --------------  -----  \n",
      " 0   budget                4809 non-null   int64  \n",
      " 1   genres                4809 non-null   object \n",
      " 2   homepage              1713 non-null   object \n",
      " 3   id                    4809 non-null   int64  \n",
      " 4   keywords              4809 non-null   object \n",
      " 5   original_language     4809 non-null   object \n",
      " 6   original_title        4809 non-null   object \n",
      " 7   overview              4806 non-null   object \n",
      " 8   popularity            4809 non-null   float64\n",
      " 9   production_companies  4809 non-null   object \n",
      " 10  production_countries  4809 non-null   object \n",
      " 11  release_date          4808 non-null   object \n",
      " 12  revenue               4809 non-null   int64  \n",
      " 13  runtime               4807 non-null   float64\n",
      " 14  spoken_languages      4809 non-null   object \n",
      " 15  status                4809 non-null   object \n",
      " 16  tagline               3965 non-null   object \n",
      " 17  title                 4809 non-null   object \n",
      " 18  vote_average          4809 non-null   float64\n",
      " 19  vote_count            4809 non-null   int64  \n",
      " 20  movie_id              4809 non-null   int64  \n",
      " 21  cast                  4809 non-null   object \n",
      " 22  crew                  4809 non-null   object \n",
      "dtypes: float64(3), int64(5), object(15)\n",
      "memory usage: 864.2+ KB\n"
     ]
    }
   ],
   "source": [
    "# A view of all the 23 columns and their data type\n",
    "\n",
    "movies.info()"
   ]
  },
  {
   "cell_type": "markdown",
   "id": "9547312f",
   "metadata": {},
   "source": [
    "## Only the following columns is important for this project while the rest is deleted:\n",
    "###   movie_id\n",
    "###   title\n",
    "###   overview\n",
    "###   genres\n",
    "###   keywords\n",
    "###   cast\n",
    "###   crew\n"
   ]
  },
  {
   "cell_type": "code",
   "execution_count": 13,
   "id": "cc9776ce",
   "metadata": {},
   "outputs": [],
   "source": [
    "movies = movies[['movie_id', 'title', 'overview', 'genres', 'keywords', 'cast', 'crew']]"
   ]
  },
  {
   "cell_type": "code",
   "execution_count": 14,
   "id": "53ec2a61",
   "metadata": {},
   "outputs": [
    {
     "data": {
      "text/html": [
       "<div>\n",
       "<style scoped>\n",
       "    .dataframe tbody tr th:only-of-type {\n",
       "        vertical-align: middle;\n",
       "    }\n",
       "\n",
       "    .dataframe tbody tr th {\n",
       "        vertical-align: top;\n",
       "    }\n",
       "\n",
       "    .dataframe thead th {\n",
       "        text-align: right;\n",
       "    }\n",
       "</style>\n",
       "<table border=\"1\" class=\"dataframe\">\n",
       "  <thead>\n",
       "    <tr style=\"text-align: right;\">\n",
       "      <th></th>\n",
       "      <th>movie_id</th>\n",
       "      <th>title</th>\n",
       "      <th>overview</th>\n",
       "      <th>genres</th>\n",
       "      <th>keywords</th>\n",
       "      <th>cast</th>\n",
       "      <th>crew</th>\n",
       "    </tr>\n",
       "  </thead>\n",
       "  <tbody>\n",
       "    <tr>\n",
       "      <th>0</th>\n",
       "      <td>19995</td>\n",
       "      <td>Avatar</td>\n",
       "      <td>In the 22nd century, a paraplegic Marine is di...</td>\n",
       "      <td>[{\"id\": 28, \"name\": \"Action\"}, {\"id\": 12, \"nam...</td>\n",
       "      <td>[{\"id\": 1463, \"name\": \"culture clash\"}, {\"id\":...</td>\n",
       "      <td>[{\"cast_id\": 242, \"character\": \"Jake Sully\", \"...</td>\n",
       "      <td>[{\"credit_id\": \"52fe48009251416c750aca23\", \"de...</td>\n",
       "    </tr>\n",
       "    <tr>\n",
       "      <th>1</th>\n",
       "      <td>285</td>\n",
       "      <td>Pirates of the Caribbean: At World's End</td>\n",
       "      <td>Captain Barbossa, long believed to be dead, ha...</td>\n",
       "      <td>[{\"id\": 12, \"name\": \"Adventure\"}, {\"id\": 14, \"...</td>\n",
       "      <td>[{\"id\": 270, \"name\": \"ocean\"}, {\"id\": 726, \"na...</td>\n",
       "      <td>[{\"cast_id\": 4, \"character\": \"Captain Jack Spa...</td>\n",
       "      <td>[{\"credit_id\": \"52fe4232c3a36847f800b579\", \"de...</td>\n",
       "    </tr>\n",
       "    <tr>\n",
       "      <th>2</th>\n",
       "      <td>206647</td>\n",
       "      <td>Spectre</td>\n",
       "      <td>A cryptic message from Bond’s past sends him o...</td>\n",
       "      <td>[{\"id\": 28, \"name\": \"Action\"}, {\"id\": 12, \"nam...</td>\n",
       "      <td>[{\"id\": 470, \"name\": \"spy\"}, {\"id\": 818, \"name...</td>\n",
       "      <td>[{\"cast_id\": 1, \"character\": \"James Bond\", \"cr...</td>\n",
       "      <td>[{\"credit_id\": \"54805967c3a36829b5002c41\", \"de...</td>\n",
       "    </tr>\n",
       "  </tbody>\n",
       "</table>\n",
       "</div>"
      ],
      "text/plain": [
       "   movie_id                                     title  \\\n",
       "0     19995                                    Avatar   \n",
       "1       285  Pirates of the Caribbean: At World's End   \n",
       "2    206647                                   Spectre   \n",
       "\n",
       "                                            overview  \\\n",
       "0  In the 22nd century, a paraplegic Marine is di...   \n",
       "1  Captain Barbossa, long believed to be dead, ha...   \n",
       "2  A cryptic message from Bond’s past sends him o...   \n",
       "\n",
       "                                              genres  \\\n",
       "0  [{\"id\": 28, \"name\": \"Action\"}, {\"id\": 12, \"nam...   \n",
       "1  [{\"id\": 12, \"name\": \"Adventure\"}, {\"id\": 14, \"...   \n",
       "2  [{\"id\": 28, \"name\": \"Action\"}, {\"id\": 12, \"nam...   \n",
       "\n",
       "                                            keywords  \\\n",
       "0  [{\"id\": 1463, \"name\": \"culture clash\"}, {\"id\":...   \n",
       "1  [{\"id\": 270, \"name\": \"ocean\"}, {\"id\": 726, \"na...   \n",
       "2  [{\"id\": 470, \"name\": \"spy\"}, {\"id\": 818, \"name...   \n",
       "\n",
       "                                                cast  \\\n",
       "0  [{\"cast_id\": 242, \"character\": \"Jake Sully\", \"...   \n",
       "1  [{\"cast_id\": 4, \"character\": \"Captain Jack Spa...   \n",
       "2  [{\"cast_id\": 1, \"character\": \"James Bond\", \"cr...   \n",
       "\n",
       "                                                crew  \n",
       "0  [{\"credit_id\": \"52fe48009251416c750aca23\", \"de...  \n",
       "1  [{\"credit_id\": \"52fe4232c3a36847f800b579\", \"de...  \n",
       "2  [{\"credit_id\": \"54805967c3a36829b5002c41\", \"de...  "
      ]
     },
     "execution_count": 14,
     "metadata": {},
     "output_type": "execute_result"
    }
   ],
   "source": [
    "movies.head(3)"
   ]
  },
  {
   "cell_type": "code",
   "execution_count": 15,
   "id": "7376da2d",
   "metadata": {},
   "outputs": [
    {
     "data": {
      "text/plain": [
       "movie_id    0\n",
       "title       0\n",
       "overview    3\n",
       "genres      0\n",
       "keywords    0\n",
       "cast        0\n",
       "crew        0\n",
       "dtype: int64"
      ]
     },
     "execution_count": 15,
     "metadata": {},
     "output_type": "execute_result"
    }
   ],
   "source": [
    "#There exist only 3 null value in the dataset\n",
    "\n",
    "movies.isnull().sum()"
   ]
  },
  {
   "cell_type": "code",
   "execution_count": 16,
   "id": "d58d7ca2",
   "metadata": {},
   "outputs": [],
   "source": [
    "# Drop null cells\n",
    "\n",
    "movies = movies.dropna()"
   ]
  },
  {
   "cell_type": "code",
   "execution_count": 17,
   "id": "ec558ed7",
   "metadata": {},
   "outputs": [
    {
     "data": {
      "text/plain": [
       "0"
      ]
     },
     "execution_count": 17,
     "metadata": {},
     "output_type": "execute_result"
    }
   ],
   "source": [
    "# Remove duplicates\n",
    "\n",
    "movies.duplicated().sum()"
   ]
  },
  {
   "cell_type": "code",
   "execution_count": 18,
   "id": "15b0911d",
   "metadata": {},
   "outputs": [
    {
     "data": {
      "text/plain": [
       "'[{\"id\": 28, \"name\": \"Action\"}, {\"id\": 12, \"name\": \"Adventure\"}, {\"id\": 14, \"name\": \"Fantasy\"}, {\"id\": 878, \"name\": \"Science Fiction\"}]'"
      ]
     },
     "execution_count": 18,
     "metadata": {},
     "output_type": "execute_result"
    }
   ],
   "source": [
    "#Types of genres in the dataset\n",
    "\n",
    "movies.iloc[0].genres"
   ]
  },
  {
   "cell_type": "code",
   "execution_count": 19,
   "id": "803fb3f7",
   "metadata": {},
   "outputs": [],
   "source": [
    "#We have [Action, Adventure, Fantasy, Science Fiction]"
   ]
  },
  {
   "cell_type": "code",
   "execution_count": 20,
   "id": "35a81a81",
   "metadata": {},
   "outputs": [],
   "source": [
    "import ast"
   ]
  },
  {
   "cell_type": "code",
   "execution_count": 21,
   "id": "92a69f51",
   "metadata": {},
   "outputs": [],
   "source": [
    "#Function to select the value of genres only\n",
    "\n",
    "def covert(obj):\n",
    "    L = []\n",
    "    for i in ast.literal_eval(obj):\n",
    "        L.append(i['name'])\n",
    "    return L"
   ]
  },
  {
   "cell_type": "code",
   "execution_count": 22,
   "id": "b9312aad",
   "metadata": {},
   "outputs": [],
   "source": [
    "movies['genres'] = movies['genres'].apply(covert)"
   ]
  },
  {
   "cell_type": "code",
   "execution_count": 23,
   "id": "ae0896db",
   "metadata": {},
   "outputs": [
    {
     "data": {
      "text/html": [
       "<div>\n",
       "<style scoped>\n",
       "    .dataframe tbody tr th:only-of-type {\n",
       "        vertical-align: middle;\n",
       "    }\n",
       "\n",
       "    .dataframe tbody tr th {\n",
       "        vertical-align: top;\n",
       "    }\n",
       "\n",
       "    .dataframe thead th {\n",
       "        text-align: right;\n",
       "    }\n",
       "</style>\n",
       "<table border=\"1\" class=\"dataframe\">\n",
       "  <thead>\n",
       "    <tr style=\"text-align: right;\">\n",
       "      <th></th>\n",
       "      <th>movie_id</th>\n",
       "      <th>title</th>\n",
       "      <th>overview</th>\n",
       "      <th>genres</th>\n",
       "      <th>keywords</th>\n",
       "      <th>cast</th>\n",
       "      <th>crew</th>\n",
       "    </tr>\n",
       "  </thead>\n",
       "  <tbody>\n",
       "    <tr>\n",
       "      <th>0</th>\n",
       "      <td>19995</td>\n",
       "      <td>Avatar</td>\n",
       "      <td>In the 22nd century, a paraplegic Marine is di...</td>\n",
       "      <td>[Action, Adventure, Fantasy, Science Fiction]</td>\n",
       "      <td>[{\"id\": 1463, \"name\": \"culture clash\"}, {\"id\":...</td>\n",
       "      <td>[{\"cast_id\": 242, \"character\": \"Jake Sully\", \"...</td>\n",
       "      <td>[{\"credit_id\": \"52fe48009251416c750aca23\", \"de...</td>\n",
       "    </tr>\n",
       "    <tr>\n",
       "      <th>1</th>\n",
       "      <td>285</td>\n",
       "      <td>Pirates of the Caribbean: At World's End</td>\n",
       "      <td>Captain Barbossa, long believed to be dead, ha...</td>\n",
       "      <td>[Adventure, Fantasy, Action]</td>\n",
       "      <td>[{\"id\": 270, \"name\": \"ocean\"}, {\"id\": 726, \"na...</td>\n",
       "      <td>[{\"cast_id\": 4, \"character\": \"Captain Jack Spa...</td>\n",
       "      <td>[{\"credit_id\": \"52fe4232c3a36847f800b579\", \"de...</td>\n",
       "    </tr>\n",
       "    <tr>\n",
       "      <th>2</th>\n",
       "      <td>206647</td>\n",
       "      <td>Spectre</td>\n",
       "      <td>A cryptic message from Bond’s past sends him o...</td>\n",
       "      <td>[Action, Adventure, Crime]</td>\n",
       "      <td>[{\"id\": 470, \"name\": \"spy\"}, {\"id\": 818, \"name...</td>\n",
       "      <td>[{\"cast_id\": 1, \"character\": \"James Bond\", \"cr...</td>\n",
       "      <td>[{\"credit_id\": \"54805967c3a36829b5002c41\", \"de...</td>\n",
       "    </tr>\n",
       "    <tr>\n",
       "      <th>3</th>\n",
       "      <td>49026</td>\n",
       "      <td>The Dark Knight Rises</td>\n",
       "      <td>Following the death of District Attorney Harve...</td>\n",
       "      <td>[Action, Crime, Drama, Thriller]</td>\n",
       "      <td>[{\"id\": 849, \"name\": \"dc comics\"}, {\"id\": 853,...</td>\n",
       "      <td>[{\"cast_id\": 2, \"character\": \"Bruce Wayne / Ba...</td>\n",
       "      <td>[{\"credit_id\": \"52fe4781c3a36847f81398c3\", \"de...</td>\n",
       "    </tr>\n",
       "    <tr>\n",
       "      <th>4</th>\n",
       "      <td>49529</td>\n",
       "      <td>John Carter</td>\n",
       "      <td>John Carter is a war-weary, former military ca...</td>\n",
       "      <td>[Action, Adventure, Science Fiction]</td>\n",
       "      <td>[{\"id\": 818, \"name\": \"based on novel\"}, {\"id\":...</td>\n",
       "      <td>[{\"cast_id\": 5, \"character\": \"John Carter\", \"c...</td>\n",
       "      <td>[{\"credit_id\": \"52fe479ac3a36847f813eaa3\", \"de...</td>\n",
       "    </tr>\n",
       "  </tbody>\n",
       "</table>\n",
       "</div>"
      ],
      "text/plain": [
       "   movie_id                                     title  \\\n",
       "0     19995                                    Avatar   \n",
       "1       285  Pirates of the Caribbean: At World's End   \n",
       "2    206647                                   Spectre   \n",
       "3     49026                     The Dark Knight Rises   \n",
       "4     49529                               John Carter   \n",
       "\n",
       "                                            overview  \\\n",
       "0  In the 22nd century, a paraplegic Marine is di...   \n",
       "1  Captain Barbossa, long believed to be dead, ha...   \n",
       "2  A cryptic message from Bond’s past sends him o...   \n",
       "3  Following the death of District Attorney Harve...   \n",
       "4  John Carter is a war-weary, former military ca...   \n",
       "\n",
       "                                          genres  \\\n",
       "0  [Action, Adventure, Fantasy, Science Fiction]   \n",
       "1                   [Adventure, Fantasy, Action]   \n",
       "2                     [Action, Adventure, Crime]   \n",
       "3               [Action, Crime, Drama, Thriller]   \n",
       "4           [Action, Adventure, Science Fiction]   \n",
       "\n",
       "                                            keywords  \\\n",
       "0  [{\"id\": 1463, \"name\": \"culture clash\"}, {\"id\":...   \n",
       "1  [{\"id\": 270, \"name\": \"ocean\"}, {\"id\": 726, \"na...   \n",
       "2  [{\"id\": 470, \"name\": \"spy\"}, {\"id\": 818, \"name...   \n",
       "3  [{\"id\": 849, \"name\": \"dc comics\"}, {\"id\": 853,...   \n",
       "4  [{\"id\": 818, \"name\": \"based on novel\"}, {\"id\":...   \n",
       "\n",
       "                                                cast  \\\n",
       "0  [{\"cast_id\": 242, \"character\": \"Jake Sully\", \"...   \n",
       "1  [{\"cast_id\": 4, \"character\": \"Captain Jack Spa...   \n",
       "2  [{\"cast_id\": 1, \"character\": \"James Bond\", \"cr...   \n",
       "3  [{\"cast_id\": 2, \"character\": \"Bruce Wayne / Ba...   \n",
       "4  [{\"cast_id\": 5, \"character\": \"John Carter\", \"c...   \n",
       "\n",
       "                                                crew  \n",
       "0  [{\"credit_id\": \"52fe48009251416c750aca23\", \"de...  \n",
       "1  [{\"credit_id\": \"52fe4232c3a36847f800b579\", \"de...  \n",
       "2  [{\"credit_id\": \"54805967c3a36829b5002c41\", \"de...  \n",
       "3  [{\"credit_id\": \"52fe4781c3a36847f81398c3\", \"de...  \n",
       "4  [{\"credit_id\": \"52fe479ac3a36847f813eaa3\", \"de...  "
      ]
     },
     "execution_count": 23,
     "metadata": {},
     "output_type": "execute_result"
    }
   ],
   "source": [
    "movies.head()"
   ]
  },
  {
   "cell_type": "code",
   "execution_count": 24,
   "id": "665eeafa",
   "metadata": {},
   "outputs": [],
   "source": [
    "movies['keywords'] = movies['keywords'].apply(covert)\n",
    "movies['cast'] = movies['cast'].apply(covert)"
   ]
  },
  {
   "cell_type": "code",
   "execution_count": 25,
   "id": "0d240137",
   "metadata": {},
   "outputs": [
    {
     "data": {
      "text/html": [
       "<div>\n",
       "<style scoped>\n",
       "    .dataframe tbody tr th:only-of-type {\n",
       "        vertical-align: middle;\n",
       "    }\n",
       "\n",
       "    .dataframe tbody tr th {\n",
       "        vertical-align: top;\n",
       "    }\n",
       "\n",
       "    .dataframe thead th {\n",
       "        text-align: right;\n",
       "    }\n",
       "</style>\n",
       "<table border=\"1\" class=\"dataframe\">\n",
       "  <thead>\n",
       "    <tr style=\"text-align: right;\">\n",
       "      <th></th>\n",
       "      <th>movie_id</th>\n",
       "      <th>title</th>\n",
       "      <th>overview</th>\n",
       "      <th>genres</th>\n",
       "      <th>keywords</th>\n",
       "      <th>cast</th>\n",
       "      <th>crew</th>\n",
       "    </tr>\n",
       "  </thead>\n",
       "  <tbody>\n",
       "    <tr>\n",
       "      <th>0</th>\n",
       "      <td>19995</td>\n",
       "      <td>Avatar</td>\n",
       "      <td>In the 22nd century, a paraplegic Marine is di...</td>\n",
       "      <td>[Action, Adventure, Fantasy, Science Fiction]</td>\n",
       "      <td>[culture clash, future, space war, space colon...</td>\n",
       "      <td>[Sam Worthington, Zoe Saldana, Sigourney Weave...</td>\n",
       "      <td>[{\"credit_id\": \"52fe48009251416c750aca23\", \"de...</td>\n",
       "    </tr>\n",
       "    <tr>\n",
       "      <th>1</th>\n",
       "      <td>285</td>\n",
       "      <td>Pirates of the Caribbean: At World's End</td>\n",
       "      <td>Captain Barbossa, long believed to be dead, ha...</td>\n",
       "      <td>[Adventure, Fantasy, Action]</td>\n",
       "      <td>[ocean, drug abuse, exotic island, east india ...</td>\n",
       "      <td>[Johnny Depp, Orlando Bloom, Keira Knightley, ...</td>\n",
       "      <td>[{\"credit_id\": \"52fe4232c3a36847f800b579\", \"de...</td>\n",
       "    </tr>\n",
       "    <tr>\n",
       "      <th>2</th>\n",
       "      <td>206647</td>\n",
       "      <td>Spectre</td>\n",
       "      <td>A cryptic message from Bond’s past sends him o...</td>\n",
       "      <td>[Action, Adventure, Crime]</td>\n",
       "      <td>[spy, based on novel, secret agent, sequel, mi...</td>\n",
       "      <td>[Daniel Craig, Christoph Waltz, Léa Seydoux, R...</td>\n",
       "      <td>[{\"credit_id\": \"54805967c3a36829b5002c41\", \"de...</td>\n",
       "    </tr>\n",
       "    <tr>\n",
       "      <th>3</th>\n",
       "      <td>49026</td>\n",
       "      <td>The Dark Knight Rises</td>\n",
       "      <td>Following the death of District Attorney Harve...</td>\n",
       "      <td>[Action, Crime, Drama, Thriller]</td>\n",
       "      <td>[dc comics, crime fighter, terrorist, secret i...</td>\n",
       "      <td>[Christian Bale, Michael Caine, Gary Oldman, A...</td>\n",
       "      <td>[{\"credit_id\": \"52fe4781c3a36847f81398c3\", \"de...</td>\n",
       "    </tr>\n",
       "    <tr>\n",
       "      <th>4</th>\n",
       "      <td>49529</td>\n",
       "      <td>John Carter</td>\n",
       "      <td>John Carter is a war-weary, former military ca...</td>\n",
       "      <td>[Action, Adventure, Science Fiction]</td>\n",
       "      <td>[based on novel, mars, medallion, space travel...</td>\n",
       "      <td>[Taylor Kitsch, Lynn Collins, Samantha Morton,...</td>\n",
       "      <td>[{\"credit_id\": \"52fe479ac3a36847f813eaa3\", \"de...</td>\n",
       "    </tr>\n",
       "  </tbody>\n",
       "</table>\n",
       "</div>"
      ],
      "text/plain": [
       "   movie_id                                     title  \\\n",
       "0     19995                                    Avatar   \n",
       "1       285  Pirates of the Caribbean: At World's End   \n",
       "2    206647                                   Spectre   \n",
       "3     49026                     The Dark Knight Rises   \n",
       "4     49529                               John Carter   \n",
       "\n",
       "                                            overview  \\\n",
       "0  In the 22nd century, a paraplegic Marine is di...   \n",
       "1  Captain Barbossa, long believed to be dead, ha...   \n",
       "2  A cryptic message from Bond’s past sends him o...   \n",
       "3  Following the death of District Attorney Harve...   \n",
       "4  John Carter is a war-weary, former military ca...   \n",
       "\n",
       "                                          genres  \\\n",
       "0  [Action, Adventure, Fantasy, Science Fiction]   \n",
       "1                   [Adventure, Fantasy, Action]   \n",
       "2                     [Action, Adventure, Crime]   \n",
       "3               [Action, Crime, Drama, Thriller]   \n",
       "4           [Action, Adventure, Science Fiction]   \n",
       "\n",
       "                                            keywords  \\\n",
       "0  [culture clash, future, space war, space colon...   \n",
       "1  [ocean, drug abuse, exotic island, east india ...   \n",
       "2  [spy, based on novel, secret agent, sequel, mi...   \n",
       "3  [dc comics, crime fighter, terrorist, secret i...   \n",
       "4  [based on novel, mars, medallion, space travel...   \n",
       "\n",
       "                                                cast  \\\n",
       "0  [Sam Worthington, Zoe Saldana, Sigourney Weave...   \n",
       "1  [Johnny Depp, Orlando Bloom, Keira Knightley, ...   \n",
       "2  [Daniel Craig, Christoph Waltz, Léa Seydoux, R...   \n",
       "3  [Christian Bale, Michael Caine, Gary Oldman, A...   \n",
       "4  [Taylor Kitsch, Lynn Collins, Samantha Morton,...   \n",
       "\n",
       "                                                crew  \n",
       "0  [{\"credit_id\": \"52fe48009251416c750aca23\", \"de...  \n",
       "1  [{\"credit_id\": \"52fe4232c3a36847f800b579\", \"de...  \n",
       "2  [{\"credit_id\": \"54805967c3a36829b5002c41\", \"de...  \n",
       "3  [{\"credit_id\": \"52fe4781c3a36847f81398c3\", \"de...  \n",
       "4  [{\"credit_id\": \"52fe479ac3a36847f813eaa3\", \"de...  "
      ]
     },
     "execution_count": 25,
     "metadata": {},
     "output_type": "execute_result"
    }
   ],
   "source": [
    "movies.head()"
   ]
  },
  {
   "cell_type": "code",
   "execution_count": 26,
   "id": "d3558803",
   "metadata": {},
   "outputs": [
    {
     "data": {
      "text/plain": [
       "0    [Sam Worthington, Zoe Saldana, Sigourney Weave...\n",
       "1    [Johnny Depp, Orlando Bloom, Keira Knightley, ...\n",
       "2    [Daniel Craig, Christoph Waltz, Léa Seydoux, R...\n",
       "3    [Christian Bale, Michael Caine, Gary Oldman, A...\n",
       "4    [Taylor Kitsch, Lynn Collins, Samantha Morton,...\n",
       "Name: cast, dtype: object"
      ]
     },
     "execution_count": 26,
     "metadata": {},
     "output_type": "execute_result"
    }
   ],
   "source": [
    "#Selecting the top 5 cast only\n",
    "\n",
    "movies['cast'][:5]"
   ]
  },
  {
   "cell_type": "code",
   "execution_count": 27,
   "id": "9dd5106d",
   "metadata": {},
   "outputs": [],
   "source": [
    "def convert(obj):\n",
    "    return obj[:3]"
   ]
  },
  {
   "cell_type": "code",
   "execution_count": 28,
   "id": "ad4f3a35",
   "metadata": {},
   "outputs": [],
   "source": [
    "movies['cast'] = movies['cast'].apply(convert)"
   ]
  },
  {
   "cell_type": "code",
   "execution_count": 29,
   "id": "ec500a58",
   "metadata": {},
   "outputs": [
    {
     "data": {
      "text/html": [
       "<div>\n",
       "<style scoped>\n",
       "    .dataframe tbody tr th:only-of-type {\n",
       "        vertical-align: middle;\n",
       "    }\n",
       "\n",
       "    .dataframe tbody tr th {\n",
       "        vertical-align: top;\n",
       "    }\n",
       "\n",
       "    .dataframe thead th {\n",
       "        text-align: right;\n",
       "    }\n",
       "</style>\n",
       "<table border=\"1\" class=\"dataframe\">\n",
       "  <thead>\n",
       "    <tr style=\"text-align: right;\">\n",
       "      <th></th>\n",
       "      <th>movie_id</th>\n",
       "      <th>title</th>\n",
       "      <th>overview</th>\n",
       "      <th>genres</th>\n",
       "      <th>keywords</th>\n",
       "      <th>cast</th>\n",
       "      <th>crew</th>\n",
       "    </tr>\n",
       "  </thead>\n",
       "  <tbody>\n",
       "    <tr>\n",
       "      <th>0</th>\n",
       "      <td>19995</td>\n",
       "      <td>Avatar</td>\n",
       "      <td>In the 22nd century, a paraplegic Marine is di...</td>\n",
       "      <td>[Action, Adventure, Fantasy, Science Fiction]</td>\n",
       "      <td>[culture clash, future, space war, space colon...</td>\n",
       "      <td>[Sam Worthington, Zoe Saldana, Sigourney Weaver]</td>\n",
       "      <td>[{\"credit_id\": \"52fe48009251416c750aca23\", \"de...</td>\n",
       "    </tr>\n",
       "    <tr>\n",
       "      <th>1</th>\n",
       "      <td>285</td>\n",
       "      <td>Pirates of the Caribbean: At World's End</td>\n",
       "      <td>Captain Barbossa, long believed to be dead, ha...</td>\n",
       "      <td>[Adventure, Fantasy, Action]</td>\n",
       "      <td>[ocean, drug abuse, exotic island, east india ...</td>\n",
       "      <td>[Johnny Depp, Orlando Bloom, Keira Knightley]</td>\n",
       "      <td>[{\"credit_id\": \"52fe4232c3a36847f800b579\", \"de...</td>\n",
       "    </tr>\n",
       "    <tr>\n",
       "      <th>2</th>\n",
       "      <td>206647</td>\n",
       "      <td>Spectre</td>\n",
       "      <td>A cryptic message from Bond’s past sends him o...</td>\n",
       "      <td>[Action, Adventure, Crime]</td>\n",
       "      <td>[spy, based on novel, secret agent, sequel, mi...</td>\n",
       "      <td>[Daniel Craig, Christoph Waltz, Léa Seydoux]</td>\n",
       "      <td>[{\"credit_id\": \"54805967c3a36829b5002c41\", \"de...</td>\n",
       "    </tr>\n",
       "    <tr>\n",
       "      <th>3</th>\n",
       "      <td>49026</td>\n",
       "      <td>The Dark Knight Rises</td>\n",
       "      <td>Following the death of District Attorney Harve...</td>\n",
       "      <td>[Action, Crime, Drama, Thriller]</td>\n",
       "      <td>[dc comics, crime fighter, terrorist, secret i...</td>\n",
       "      <td>[Christian Bale, Michael Caine, Gary Oldman]</td>\n",
       "      <td>[{\"credit_id\": \"52fe4781c3a36847f81398c3\", \"de...</td>\n",
       "    </tr>\n",
       "    <tr>\n",
       "      <th>4</th>\n",
       "      <td>49529</td>\n",
       "      <td>John Carter</td>\n",
       "      <td>John Carter is a war-weary, former military ca...</td>\n",
       "      <td>[Action, Adventure, Science Fiction]</td>\n",
       "      <td>[based on novel, mars, medallion, space travel...</td>\n",
       "      <td>[Taylor Kitsch, Lynn Collins, Samantha Morton]</td>\n",
       "      <td>[{\"credit_id\": \"52fe479ac3a36847f813eaa3\", \"de...</td>\n",
       "    </tr>\n",
       "  </tbody>\n",
       "</table>\n",
       "</div>"
      ],
      "text/plain": [
       "   movie_id                                     title  \\\n",
       "0     19995                                    Avatar   \n",
       "1       285  Pirates of the Caribbean: At World's End   \n",
       "2    206647                                   Spectre   \n",
       "3     49026                     The Dark Knight Rises   \n",
       "4     49529                               John Carter   \n",
       "\n",
       "                                            overview  \\\n",
       "0  In the 22nd century, a paraplegic Marine is di...   \n",
       "1  Captain Barbossa, long believed to be dead, ha...   \n",
       "2  A cryptic message from Bond’s past sends him o...   \n",
       "3  Following the death of District Attorney Harve...   \n",
       "4  John Carter is a war-weary, former military ca...   \n",
       "\n",
       "                                          genres  \\\n",
       "0  [Action, Adventure, Fantasy, Science Fiction]   \n",
       "1                   [Adventure, Fantasy, Action]   \n",
       "2                     [Action, Adventure, Crime]   \n",
       "3               [Action, Crime, Drama, Thriller]   \n",
       "4           [Action, Adventure, Science Fiction]   \n",
       "\n",
       "                                            keywords  \\\n",
       "0  [culture clash, future, space war, space colon...   \n",
       "1  [ocean, drug abuse, exotic island, east india ...   \n",
       "2  [spy, based on novel, secret agent, sequel, mi...   \n",
       "3  [dc comics, crime fighter, terrorist, secret i...   \n",
       "4  [based on novel, mars, medallion, space travel...   \n",
       "\n",
       "                                               cast  \\\n",
       "0  [Sam Worthington, Zoe Saldana, Sigourney Weaver]   \n",
       "1     [Johnny Depp, Orlando Bloom, Keira Knightley]   \n",
       "2      [Daniel Craig, Christoph Waltz, Léa Seydoux]   \n",
       "3      [Christian Bale, Michael Caine, Gary Oldman]   \n",
       "4    [Taylor Kitsch, Lynn Collins, Samantha Morton]   \n",
       "\n",
       "                                                crew  \n",
       "0  [{\"credit_id\": \"52fe48009251416c750aca23\", \"de...  \n",
       "1  [{\"credit_id\": \"52fe4232c3a36847f800b579\", \"de...  \n",
       "2  [{\"credit_id\": \"54805967c3a36829b5002c41\", \"de...  \n",
       "3  [{\"credit_id\": \"52fe4781c3a36847f81398c3\", \"de...  \n",
       "4  [{\"credit_id\": \"52fe479ac3a36847f813eaa3\", \"de...  "
      ]
     },
     "execution_count": 29,
     "metadata": {},
     "output_type": "execute_result"
    }
   ],
   "source": [
    "movies.head(5)"
   ]
  },
  {
   "cell_type": "code",
   "execution_count": 30,
   "id": "a906c3c3",
   "metadata": {},
   "outputs": [
    {
     "data": {
      "text/plain": [
       "array(['[{\"credit_id\": \"52fe48009251416c750aca23\", \"department\": \"Editing\", \"gender\": 0, \"id\": 1721, \"job\": \"Editor\", \"name\": \"Stephen E. Rivkin\"}, {\"credit_id\": \"539c47ecc3a36810e3001f87\", \"department\": \"Art\", \"gender\": 2, \"id\": 496, \"job\": \"Production Design\", \"name\": \"Rick Carter\"}, {\"credit_id\": \"54491c89c3a3680fb4001cf7\", \"department\": \"Sound\", \"gender\": 0, \"id\": 900, \"job\": \"Sound Designer\", \"name\": \"Christopher Boyes\"}, {\"credit_id\": \"54491cb70e0a267480001bd0\", \"department\": \"Sound\", \"gender\": 0, \"id\": 900, \"job\": \"Supervising Sound Editor\", \"name\": \"Christopher Boyes\"}, {\"credit_id\": \"539c4a4cc3a36810c9002101\", \"department\": \"Production\", \"gender\": 1, \"id\": 1262, \"job\": \"Casting\", \"name\": \"Mali Finn\"}, {\"credit_id\": \"5544ee3b925141499f0008fc\", \"department\": \"Sound\", \"gender\": 2, \"id\": 1729, \"job\": \"Original Music Composer\", \"name\": \"James Horner\"}, {\"credit_id\": \"52fe48009251416c750ac9c3\", \"department\": \"Directing\", \"gender\": 2, \"id\": 2710, \"job\": \"Director\", \"name\": \"James Cameron\"}, {\"credit_id\": \"52fe48009251416c750ac9d9\", \"department\": \"Writing\", \"gender\": 2, \"id\": 2710, \"job\": \"Writer\", \"name\": \"James Cameron\"}, {\"credit_id\": \"52fe48009251416c750aca17\", \"department\": \"Editing\", \"gender\": 2, \"id\": 2710, \"job\": \"Editor\", \"name\": \"James Cameron\"}, {\"credit_id\": \"52fe48009251416c750aca29\", \"department\": \"Production\", \"gender\": 2, \"id\": 2710, \"job\": \"Producer\", \"name\": \"James Cameron\"}, {\"credit_id\": \"52fe48009251416c750aca3f\", \"department\": \"Writing\", \"gender\": 2, \"id\": 2710, \"job\": \"Screenplay\", \"name\": \"James Cameron\"}, {\"credit_id\": \"539c4987c3a36810ba0021a4\", \"department\": \"Art\", \"gender\": 2, \"id\": 7236, \"job\": \"Art Direction\", \"name\": \"Andrew Menzies\"}, {\"credit_id\": \"549598c3c3a3686ae9004383\", \"department\": \"Visual Effects\", \"gender\": 0, \"id\": 6690, \"job\": \"Visual Effects Producer\", \"name\": \"Jill Brooks\"}, {\"credit_id\": \"52fe48009251416c750aca4b\", \"department\": \"Production\", \"gender\": 1, \"id\": 6347, \"job\": \"Casting\", \"name\": \"Margery Simkin\"}, {\"credit_id\": \"570b6f419251417da70032fe\", \"department\": \"Art\", \"gender\": 2, \"id\": 6878, \"job\": \"Supervising Art Director\", \"name\": \"Kevin Ishioka\"}, {\"credit_id\": \"5495a0fac3a3686ae9004468\", \"department\": \"Sound\", \"gender\": 0, \"id\": 6883, \"job\": \"Music Editor\", \"name\": \"Dick Bernstein\"}, {\"credit_id\": \"54959706c3a3686af3003e81\", \"department\": \"Sound\", \"gender\": 0, \"id\": 8159, \"job\": \"Sound Effects Editor\", \"name\": \"Shannon Mills\"}, {\"credit_id\": \"54491d58c3a3680fb1001ccb\", \"department\": \"Sound\", \"gender\": 0, \"id\": 8160, \"job\": \"Foley\", \"name\": \"Dennie Thorpe\"}, {\"credit_id\": \"54491d6cc3a3680fa5001b2c\", \"department\": \"Sound\", \"gender\": 0, \"id\": 8163, \"job\": \"Foley\", \"name\": \"Jana Vance\"}, {\"credit_id\": \"52fe48009251416c750aca57\", \"department\": \"Costume & Make-Up\", \"gender\": 1, \"id\": 8527, \"job\": \"Costume Design\", \"name\": \"Deborah Lynn Scott\"}, {\"credit_id\": \"52fe48009251416c750aca2f\", \"department\": \"Production\", \"gender\": 2, \"id\": 8529, \"job\": \"Producer\", \"name\": \"Jon Landau\"}, {\"credit_id\": \"539c4937c3a36810ba002194\", \"department\": \"Art\", \"gender\": 0, \"id\": 9618, \"job\": \"Art Direction\", \"name\": \"Sean Haworth\"}, {\"credit_id\": \"539c49b6c3a36810c10020e6\", \"department\": \"Art\", \"gender\": 1, \"id\": 12653, \"job\": \"Set Decoration\", \"name\": \"Kim Sinclair\"}, {\"credit_id\": \"570b6f2f9251413a0e00020d\", \"department\": \"Art\", \"gender\": 1, \"id\": 12653, \"job\": \"Supervising Art Director\", \"name\": \"Kim Sinclair\"}, {\"credit_id\": \"54491a6c0e0a26748c001b19\", \"department\": \"Art\", \"gender\": 2, \"id\": 14350, \"job\": \"Set Designer\", \"name\": \"Richard F. Mays\"}, {\"credit_id\": \"56928cf4c3a3684cff0025c4\", \"department\": \"Production\", \"gender\": 1, \"id\": 20294, \"job\": \"Executive Producer\", \"name\": \"Laeta Kalogridis\"}, {\"credit_id\": \"52fe48009251416c750aca51\", \"department\": \"Costume & Make-Up\", \"gender\": 0, \"id\": 17675, \"job\": \"Costume Design\", \"name\": \"Mayes C. Rubeo\"}, {\"credit_id\": \"52fe48009251416c750aca11\", \"department\": \"Camera\", \"gender\": 2, \"id\": 18265, \"job\": \"Director of Photography\", \"name\": \"Mauro Fiore\"}, {\"credit_id\": \"5449194d0e0a26748f001b39\", \"department\": \"Art\", \"gender\": 0, \"id\": 42281, \"job\": \"Set Designer\", \"name\": \"Scott Herbertson\"}, {\"credit_id\": \"52fe48009251416c750aca05\", \"department\": \"Crew\", \"gender\": 0, \"id\": 42288, \"job\": \"Stunts\", \"name\": \"Woody Schultz\"}, {\"credit_id\": \"5592aefb92514152de0010f5\", \"department\": \"Costume & Make-Up\", \"gender\": 0, \"id\": 29067, \"job\": \"Makeup Artist\", \"name\": \"Linda DeVetta\"}, {\"credit_id\": \"5592afa492514152de00112c\", \"department\": \"Costume & Make-Up\", \"gender\": 0, \"id\": 29067, \"job\": \"Hairstylist\", \"name\": \"Linda DeVetta\"}, {\"credit_id\": \"54959ed592514130fc002e5d\", \"department\": \"Camera\", \"gender\": 2, \"id\": 33302, \"job\": \"Camera Operator\", \"name\": \"Richard Bluck\"}, {\"credit_id\": \"539c4891c3a36810ba002147\", \"department\": \"Art\", \"gender\": 2, \"id\": 33303, \"job\": \"Art Direction\", \"name\": \"Simon Bright\"}, {\"credit_id\": \"54959c069251417a81001f3a\", \"department\": \"Visual Effects\", \"gender\": 0, \"id\": 113145, \"job\": \"Visual Effects Supervisor\", \"name\": \"Richard Martin\"}, {\"credit_id\": \"54959a0dc3a3680ff5002c8d\", \"department\": \"Crew\", \"gender\": 2, \"id\": 58188, \"job\": \"Visual Effects Editor\", \"name\": \"Steve R. Moore\"}, {\"credit_id\": \"52fe48009251416c750aca1d\", \"department\": \"Editing\", \"gender\": 2, \"id\": 58871, \"job\": \"Editor\", \"name\": \"John Refoua\"}, {\"credit_id\": \"54491a4dc3a3680fc30018ca\", \"department\": \"Art\", \"gender\": 0, \"id\": 92359, \"job\": \"Set Designer\", \"name\": \"Karl J. Martin\"}, {\"credit_id\": \"52fe48009251416c750aca35\", \"department\": \"Camera\", \"gender\": 1, \"id\": 72201, \"job\": \"Director of Photography\", \"name\": \"Chiling Lin\"}, {\"credit_id\": \"52fe48009251416c750ac9ff\", \"department\": \"Crew\", \"gender\": 0, \"id\": 89714, \"job\": \"Stunts\", \"name\": \"Ilram Choi\"}, {\"credit_id\": \"54959c529251416e2b004394\", \"department\": \"Visual Effects\", \"gender\": 2, \"id\": 93214, \"job\": \"Visual Effects Supervisor\", \"name\": \"Steven Quale\"}, {\"credit_id\": \"54491edf0e0a267489001c37\", \"department\": \"Crew\", \"gender\": 1, \"id\": 122607, \"job\": \"Dialect Coach\", \"name\": \"Carla Meyer\"}, {\"credit_id\": \"539c485bc3a368653d001a3a\", \"department\": \"Art\", \"gender\": 2, \"id\": 132585, \"job\": \"Art Direction\", \"name\": \"Nick Bassett\"}, {\"credit_id\": \"539c4903c3a368653d001a74\", \"department\": \"Art\", \"gender\": 0, \"id\": 132596, \"job\": \"Art Direction\", \"name\": \"Jill Cormack\"}, {\"credit_id\": \"539c4967c3a368653d001a94\", \"department\": \"Art\", \"gender\": 0, \"id\": 132604, \"job\": \"Art Direction\", \"name\": \"Andy McLaren\"}, {\"credit_id\": \"52fe48009251416c750aca45\", \"department\": \"Crew\", \"gender\": 0, \"id\": 236696, \"job\": \"Motion Capture Artist\", \"name\": \"Terry Notary\"}, {\"credit_id\": \"54959e02c3a3680fc60027d2\", \"department\": \"Crew\", \"gender\": 2, \"id\": 956198, \"job\": \"Stunt Coordinator\", \"name\": \"Garrett Warren\"}, {\"credit_id\": \"54959ca3c3a3686ae300438c\", \"department\": \"Visual Effects\", \"gender\": 2, \"id\": 957874, \"job\": \"Visual Effects Supervisor\", \"name\": \"Jonathan Rothbart\"}, {\"credit_id\": \"570b6f519251412c74001b2f\", \"department\": \"Art\", \"gender\": 0, \"id\": 957889, \"job\": \"Supervising Art Director\", \"name\": \"Stefan Dechant\"}, {\"credit_id\": \"570b6f62c3a3680b77007460\", \"department\": \"Art\", \"gender\": 2, \"id\": 959555, \"job\": \"Supervising Art Director\", \"name\": \"Todd Cherniawsky\"}, {\"credit_id\": \"539c4a3ac3a36810da0021cc\", \"department\": \"Production\", \"gender\": 0, \"id\": 1016177, \"job\": \"Casting\", \"name\": \"Miranda Rivers\"}, {\"credit_id\": \"539c482cc3a36810c1002062\", \"department\": \"Art\", \"gender\": 0, \"id\": 1032536, \"job\": \"Production Design\", \"name\": \"Robert Stromberg\"}, {\"credit_id\": \"539c4b65c3a36810c9002125\", \"department\": \"Costume & Make-Up\", \"gender\": 2, \"id\": 1071680, \"job\": \"Costume Design\", \"name\": \"John Harding\"}, {\"credit_id\": \"54959e6692514130fc002e4e\", \"department\": \"Camera\", \"gender\": 0, \"id\": 1177364, \"job\": \"Steadicam Operator\", \"name\": \"Roberto De Angelis\"}, {\"credit_id\": \"539c49f1c3a368653d001aac\", \"department\": \"Costume & Make-Up\", \"gender\": 2, \"id\": 1202850, \"job\": \"Makeup Department Head\", \"name\": \"Mike Smithson\"}, {\"credit_id\": \"5495999ec3a3686ae100460c\", \"department\": \"Visual Effects\", \"gender\": 0, \"id\": 1204668, \"job\": \"Visual Effects Producer\", \"name\": \"Alain Lalanne\"}, {\"credit_id\": \"54959cdfc3a3681153002729\", \"department\": \"Visual Effects\", \"gender\": 0, \"id\": 1206410, \"job\": \"Visual Effects Supervisor\", \"name\": \"Lucas Salton\"}, {\"credit_id\": \"549596239251417a81001eae\", \"department\": \"Crew\", \"gender\": 0, \"id\": 1234266, \"job\": \"Post Production Supervisor\", \"name\": \"Janace Tashjian\"}, {\"credit_id\": \"54959c859251416e1e003efe\", \"department\": \"Visual Effects\", \"gender\": 0, \"id\": 1271932, \"job\": \"Visual Effects Supervisor\", \"name\": \"Stephen Rosenbaum\"}, {\"credit_id\": \"5592af28c3a368775a00105f\", \"department\": \"Costume & Make-Up\", \"gender\": 0, \"id\": 1310064, \"job\": \"Makeup Artist\", \"name\": \"Frankie Karena\"}, {\"credit_id\": \"539c4adfc3a36810e300203b\", \"department\": \"Costume & Make-Up\", \"gender\": 1, \"id\": 1319844, \"job\": \"Costume Supervisor\", \"name\": \"Lisa Lovaas\"}, {\"credit_id\": \"54959b579251416e2b004371\", \"department\": \"Visual Effects\", \"gender\": 0, \"id\": 1327028, \"job\": \"Visual Effects Supervisor\", \"name\": \"Jonathan Fawkner\"}, {\"credit_id\": \"539c48a7c3a36810b5001fa7\", \"department\": \"Art\", \"gender\": 0, \"id\": 1330561, \"job\": \"Art Direction\", \"name\": \"Robert Bavin\"}, {\"credit_id\": \"539c4a71c3a36810da0021e0\", \"department\": \"Costume & Make-Up\", \"gender\": 0, \"id\": 1330567, \"job\": \"Costume Supervisor\", \"name\": \"Anthony Almaraz\"}, {\"credit_id\": \"539c4a8ac3a36810ba0021e4\", \"department\": \"Costume & Make-Up\", \"gender\": 0, \"id\": 1330570, \"job\": \"Costume Supervisor\", \"name\": \"Carolyn M. Fenton\"}, {\"credit_id\": \"539c4ab6c3a36810da0021f0\", \"department\": \"Costume & Make-Up\", \"gender\": 0, \"id\": 1330574, \"job\": \"Costume Supervisor\", \"name\": \"Beth Koenigsberg\"}, {\"credit_id\": \"54491ab70e0a267480001ba2\", \"department\": \"Art\", \"gender\": 0, \"id\": 1336191, \"job\": \"Set Designer\", \"name\": \"Sam Page\"}, {\"credit_id\": \"544919d9c3a3680fc30018bd\", \"department\": \"Art\", \"gender\": 0, \"id\": 1339441, \"job\": \"Set Designer\", \"name\": \"Tex Kadonaga\"}, {\"credit_id\": \"54491cf50e0a267483001b0c\", \"department\": \"Editing\", \"gender\": 0, \"id\": 1352422, \"job\": \"Dialogue Editor\", \"name\": \"Kim Foscato\"}, {\"credit_id\": \"544919f40e0a26748c001b09\", \"department\": \"Art\", \"gender\": 0, \"id\": 1352962, \"job\": \"Set Designer\", \"name\": \"Tammy S. Lee\"}, {\"credit_id\": \"5495a115c3a3680ff5002d71\", \"department\": \"Crew\", \"gender\": 0, \"id\": 1357070, \"job\": \"Transportation Coordinator\", \"name\": \"Denny Caira\"}, {\"credit_id\": \"5495a12f92514130fc002e94\", \"department\": \"Crew\", \"gender\": 0, \"id\": 1357071, \"job\": \"Transportation Coordinator\", \"name\": \"James Waitkus\"}, {\"credit_id\": \"5495976fc3a36811530026b0\", \"department\": \"Sound\", \"gender\": 0, \"id\": 1360103, \"job\": \"Supervising Sound Editor\", \"name\": \"Addison Teague\"}, {\"credit_id\": \"54491837c3a3680fb1001c5a\", \"department\": \"Art\", \"gender\": 2, \"id\": 1376887, \"job\": \"Set Designer\", \"name\": \"C. Scott Baker\"}, {\"credit_id\": \"54491878c3a3680fb4001c9d\", \"department\": \"Art\", \"gender\": 0, \"id\": 1376888, \"job\": \"Set Designer\", \"name\": \"Luke Caska\"}, {\"credit_id\": \"544918dac3a3680fa5001ae0\", \"department\": \"Art\", \"gender\": 0, \"id\": 1376889, \"job\": \"Set Designer\", \"name\": \"David Chow\"}, {\"credit_id\": \"544919110e0a267486001b68\", \"department\": \"Art\", \"gender\": 0, \"id\": 1376890, \"job\": \"Set Designer\", \"name\": \"Jonathan Dyer\"}, {\"credit_id\": \"54491967c3a3680faa001b5e\", \"department\": \"Art\", \"gender\": 0, \"id\": 1376891, \"job\": \"Set Designer\", \"name\": \"Joseph Hiura\"}, {\"credit_id\": \"54491997c3a3680fb1001c8a\", \"department\": \"Art\", \"gender\": 0, \"id\": 1376892, \"job\": \"Art Department Coordinator\", \"name\": \"Rebecca Jellie\"}, {\"credit_id\": \"544919ba0e0a26748f001b42\", \"department\": \"Art\", \"gender\": 0, \"id\": 1376893, \"job\": \"Set Designer\", \"name\": \"Robert Andrew Johnson\"}, {\"credit_id\": \"54491b1dc3a3680faa001b8c\", \"department\": \"Art\", \"gender\": 0, \"id\": 1376895, \"job\": \"Assistant Art Director\", \"name\": \"Mike Stassi\"}, {\"credit_id\": \"54491b79c3a3680fbb001826\", \"department\": \"Art\", \"gender\": 0, \"id\": 1376897, \"job\": \"Construction Coordinator\", \"name\": \"John Villarino\"}, {\"credit_id\": \"54491baec3a3680fb4001ce6\", \"department\": \"Art\", \"gender\": 2, \"id\": 1376898, \"job\": \"Assistant Art Director\", \"name\": \"Jeffrey Wisniewski\"}, {\"credit_id\": \"54491d2fc3a3680fb4001d07\", \"department\": \"Editing\", \"gender\": 0, \"id\": 1376899, \"job\": \"Dialogue Editor\", \"name\": \"Cheryl Nardi\"}, {\"credit_id\": \"54491d86c3a3680fa5001b2f\", \"department\": \"Editing\", \"gender\": 0, \"id\": 1376901, \"job\": \"Dialogue Editor\", \"name\": \"Marshall Winn\"}, {\"credit_id\": \"54491d9dc3a3680faa001bb0\", \"department\": \"Sound\", \"gender\": 0, \"id\": 1376902, \"job\": \"Supervising Sound Editor\", \"name\": \"Gwendolyn Yates Whittle\"}, {\"credit_id\": \"54491dc10e0a267486001bce\", \"department\": \"Sound\", \"gender\": 0, \"id\": 1376903, \"job\": \"Sound Re-Recording Mixer\", \"name\": \"William Stein\"}, {\"credit_id\": \"54491f500e0a26747c001c07\", \"department\": \"Crew\", \"gender\": 0, \"id\": 1376909, \"job\": \"Choreographer\", \"name\": \"Lula Washington\"}, {\"credit_id\": \"549599239251412c4e002a2e\", \"department\": \"Visual Effects\", \"gender\": 0, \"id\": 1391692, \"job\": \"Visual Effects Producer\", \"name\": \"Chris Del Conte\"}, {\"credit_id\": \"54959d54c3a36831b8001d9a\", \"department\": \"Visual Effects\", \"gender\": 2, \"id\": 1391695, \"job\": \"Visual Effects Supervisor\", \"name\": \"R. Christopher White\"}, {\"credit_id\": \"54959bdf9251412c4e002a66\", \"department\": \"Visual Effects\", \"gender\": 0, \"id\": 1394070, \"job\": \"Visual Effects Supervisor\", \"name\": \"Dan Lemmon\"}, {\"credit_id\": \"5495971d92514132ed002922\", \"department\": \"Sound\", \"gender\": 0, \"id\": 1394129, \"job\": \"Sound Effects Editor\", \"name\": \"Tim Nielsen\"}, {\"credit_id\": \"5592b25792514152cc0011aa\", \"department\": \"Crew\", \"gender\": 0, \"id\": 1394286, \"job\": \"CG Supervisor\", \"name\": \"Michael Mulholland\"}, {\"credit_id\": \"54959a329251416e2b004355\", \"department\": \"Crew\", \"gender\": 0, \"id\": 1394750, \"job\": \"Visual Effects Editor\", \"name\": \"Thomas Nittmann\"}, {\"credit_id\": \"54959d6dc3a3686ae9004401\", \"department\": \"Visual Effects\", \"gender\": 0, \"id\": 1394755, \"job\": \"Visual Effects Supervisor\", \"name\": \"Edson Williams\"}, {\"credit_id\": \"5495a08fc3a3686ae300441c\", \"department\": \"Editing\", \"gender\": 0, \"id\": 1394953, \"job\": \"Digital Intermediate\", \"name\": \"Christine Carr\"}, {\"credit_id\": \"55402d659251413d6d000249\", \"department\": \"Visual Effects\", \"gender\": 0, \"id\": 1395269, \"job\": \"Visual Effects Supervisor\", \"name\": \"John Bruno\"}, {\"credit_id\": \"54959e7b9251416e1e003f3e\", \"department\": \"Camera\", \"gender\": 0, \"id\": 1398970, \"job\": \"Steadicam Operator\", \"name\": \"David Emmerichs\"}, {\"credit_id\": \"54959734c3a3686ae10045e0\", \"department\": \"Sound\", \"gender\": 0, \"id\": 1400906, \"job\": \"Sound Effects Editor\", \"name\": \"Christopher Scarabosio\"}, {\"credit_id\": \"549595dd92514130fc002d79\", \"department\": \"Production\", \"gender\": 0, \"id\": 1401784, \"job\": \"Production Supervisor\", \"name\": \"Jennifer Teves\"}, {\"credit_id\": \"549596009251413af70028cc\", \"department\": \"Production\", \"gender\": 0, \"id\": 1401785, \"job\": \"Production Manager\", \"name\": \"Brigitte Yorke\"}, {\"credit_id\": \"549596e892514130fc002d99\", \"department\": \"Sound\", \"gender\": 0, \"id\": 1401786, \"job\": \"Sound Effects Editor\", \"name\": \"Ken Fischer\"}, {\"credit_id\": \"549598229251412c4e002a1c\", \"department\": \"Crew\", \"gender\": 0, \"id\": 1401787, \"job\": \"Special Effects Coordinator\", \"name\": \"Iain Hutton\"}, {\"credit_id\": \"549598349251416e2b00432b\", \"department\": \"Crew\", \"gender\": 0, \"id\": 1401788, \"job\": \"Special Effects Coordinator\", \"name\": \"Steve Ingram\"}, {\"credit_id\": \"54959905c3a3686ae3004324\", \"department\": \"Visual Effects\", \"gender\": 0, \"id\": 1401789, \"job\": \"Visual Effects Producer\", \"name\": \"Joyce Cox\"}, {\"credit_id\": \"5495994b92514132ed002951\", \"department\": \"Visual Effects\", \"gender\": 0, \"id\": 1401790, \"job\": \"Visual Effects Producer\", \"name\": \"Jenny Foster\"}, {\"credit_id\": \"549599cbc3a3686ae1004613\", \"department\": \"Crew\", \"gender\": 0, \"id\": 1401791, \"job\": \"Visual Effects Editor\", \"name\": \"Christopher Marino\"}, {\"credit_id\": \"549599f2c3a3686ae100461e\", \"department\": \"Crew\", \"gender\": 0, \"id\": 1401792, \"job\": \"Visual Effects Editor\", \"name\": \"Jim Milton\"}, {\"credit_id\": \"54959a51c3a3686af3003eb5\", \"department\": \"Visual Effects\", \"gender\": 0, \"id\": 1401793, \"job\": \"Visual Effects Producer\", \"name\": \"Cyndi Ochs\"}, {\"credit_id\": \"54959a7cc3a36811530026f4\", \"department\": \"Crew\", \"gender\": 0, \"id\": 1401794, \"job\": \"Visual Effects Editor\", \"name\": \"Lucas Putnam\"}, {\"credit_id\": \"54959b91c3a3680ff5002cb4\", \"department\": \"Visual Effects\", \"gender\": 0, \"id\": 1401795, \"job\": \"Visual Effects Supervisor\", \"name\": \"Anthony \\'Max\\' Ivins\"}, {\"credit_id\": \"54959bb69251412c4e002a5f\", \"department\": \"Visual Effects\", \"gender\": 0, \"id\": 1401796, \"job\": \"Visual Effects Supervisor\", \"name\": \"John Knoll\"}, {\"credit_id\": \"54959cbbc3a3686ae3004391\", \"department\": \"Visual Effects\", \"gender\": 2, \"id\": 1401799, \"job\": \"Visual Effects Supervisor\", \"name\": \"Eric Saindon\"}, {\"credit_id\": \"54959d06c3a3686ae90043f6\", \"department\": \"Visual Effects\", \"gender\": 0, \"id\": 1401800, \"job\": \"Visual Effects Supervisor\", \"name\": \"Wayne Stables\"}, {\"credit_id\": \"54959d259251416e1e003f11\", \"department\": \"Visual Effects\", \"gender\": 0, \"id\": 1401801, \"job\": \"Visual Effects Supervisor\", \"name\": \"David Stinnett\"}, {\"credit_id\": \"54959db49251413af7002975\", \"department\": \"Visual Effects\", \"gender\": 0, \"id\": 1401803, \"job\": \"Visual Effects Supervisor\", \"name\": \"Guy Williams\"}, {\"credit_id\": \"54959de4c3a3681153002750\", \"department\": \"Crew\", \"gender\": 0, \"id\": 1401804, \"job\": \"Stunt Coordinator\", \"name\": \"Stuart Thorp\"}, {\"credit_id\": \"54959ef2c3a3680fc60027f2\", \"department\": \"Lighting\", \"gender\": 0, \"id\": 1401805, \"job\": \"Best Boy Electric\", \"name\": \"Giles Coburn\"}, {\"credit_id\": \"54959f07c3a3680fc60027f9\", \"department\": \"Camera\", \"gender\": 2, \"id\": 1401806, \"job\": \"Still Photographer\", \"name\": \"Mark Fellman\"}, {\"credit_id\": \"54959f47c3a3681153002774\", \"department\": \"Lighting\", \"gender\": 0, \"id\": 1401807, \"job\": \"Lighting Technician\", \"name\": \"Scott Sprague\"}, {\"credit_id\": \"54959f8cc3a36831b8001df2\", \"department\": \"Visual Effects\", \"gender\": 0, \"id\": 1401808, \"job\": \"Animation Director\", \"name\": \"Jeremy Hollobon\"}, {\"credit_id\": \"54959fa0c3a36831b8001dfb\", \"department\": \"Visual Effects\", \"gender\": 0, \"id\": 1401809, \"job\": \"Animation Director\", \"name\": \"Orlando Meunier\"}, {\"credit_id\": \"54959fb6c3a3686af3003f54\", \"department\": \"Visual Effects\", \"gender\": 0, \"id\": 1401810, \"job\": \"Animation Director\", \"name\": \"Taisuke Tanimura\"}, {\"credit_id\": \"54959fd2c3a36831b8001e02\", \"department\": \"Costume & Make-Up\", \"gender\": 0, \"id\": 1401812, \"job\": \"Set Costumer\", \"name\": \"Lilia Mishel Acevedo\"}, {\"credit_id\": \"54959ff9c3a3686ae300440c\", \"department\": \"Costume & Make-Up\", \"gender\": 0, \"id\": 1401814, \"job\": \"Set Costumer\", \"name\": \"Alejandro M. Hernandez\"}, {\"credit_id\": \"5495a0ddc3a3686ae10046fe\", \"department\": \"Editing\", \"gender\": 0, \"id\": 1401815, \"job\": \"Digital Intermediate\", \"name\": \"Marvin Hall\"}, {\"credit_id\": \"5495a1f7c3a3686ae3004443\", \"department\": \"Production\", \"gender\": 0, \"id\": 1401816, \"job\": \"Publicist\", \"name\": \"Judy Alley\"}, {\"credit_id\": \"5592b29fc3a36869d100002f\", \"department\": \"Crew\", \"gender\": 0, \"id\": 1418381, \"job\": \"CG Supervisor\", \"name\": \"Mike Perry\"}, {\"credit_id\": \"5592b23a9251415df8001081\", \"department\": \"Crew\", \"gender\": 0, \"id\": 1426854, \"job\": \"CG Supervisor\", \"name\": \"Andrew Morley\"}, {\"credit_id\": \"55491e1192514104c40002d8\", \"department\": \"Art\", \"gender\": 0, \"id\": 1438901, \"job\": \"Conceptual Design\", \"name\": \"Seth Engstrom\"}, {\"credit_id\": \"5525d5809251417276002b06\", \"department\": \"Crew\", \"gender\": 0, \"id\": 1447362, \"job\": \"Visual Effects Art Director\", \"name\": \"Eric Oliver\"}, {\"credit_id\": \"554427ca925141586500312a\", \"department\": \"Visual Effects\", \"gender\": 0, \"id\": 1447503, \"job\": \"Modeling\", \"name\": \"Matsune Suzuki\"}, {\"credit_id\": \"551906889251415aab001c88\", \"department\": \"Art\", \"gender\": 0, \"id\": 1447524, \"job\": \"Art Department Manager\", \"name\": \"Paul Tobin\"}, {\"credit_id\": \"5592af8492514152cc0010de\", \"department\": \"Costume & Make-Up\", \"gender\": 0, \"id\": 1452643, \"job\": \"Hairstylist\", \"name\": \"Roxane Griffin\"}, {\"credit_id\": \"553d3c109251415852001318\", \"department\": \"Lighting\", \"gender\": 0, \"id\": 1453938, \"job\": \"Lighting Artist\", \"name\": \"Arun Ram-Mohan\"}, {\"credit_id\": \"5592af4692514152d5001355\", \"department\": \"Costume & Make-Up\", \"gender\": 0, \"id\": 1457305, \"job\": \"Makeup Artist\", \"name\": \"Georgia Lockhart-Adams\"}, {\"credit_id\": \"5592b2eac3a36877470012a5\", \"department\": \"Crew\", \"gender\": 0, \"id\": 1466035, \"job\": \"CG Supervisor\", \"name\": \"Thrain Shadbolt\"}, {\"credit_id\": \"5592b032c3a36877450015f1\", \"department\": \"Crew\", \"gender\": 0, \"id\": 1483220, \"job\": \"CG Supervisor\", \"name\": \"Brad Alexander\"}, {\"credit_id\": \"5592b05592514152d80012f6\", \"department\": \"Crew\", \"gender\": 0, \"id\": 1483221, \"job\": \"CG Supervisor\", \"name\": \"Shadi Almassizadeh\"}, {\"credit_id\": \"5592b090c3a36877570010b5\", \"department\": \"Crew\", \"gender\": 0, \"id\": 1483222, \"job\": \"CG Supervisor\", \"name\": \"Simon Clutterbuck\"}, {\"credit_id\": \"5592b0dbc3a368774b00112c\", \"department\": \"Crew\", \"gender\": 0, \"id\": 1483223, \"job\": \"CG Supervisor\", \"name\": \"Graeme Demmocks\"}, {\"credit_id\": \"5592b0fe92514152db0010c1\", \"department\": \"Crew\", \"gender\": 0, \"id\": 1483224, \"job\": \"CG Supervisor\", \"name\": \"Adrian Fernandes\"}, {\"credit_id\": \"5592b11f9251415df8001059\", \"department\": \"Crew\", \"gender\": 0, \"id\": 1483225, \"job\": \"CG Supervisor\", \"name\": \"Mitch Gates\"}, {\"credit_id\": \"5592b15dc3a3687745001645\", \"department\": \"Crew\", \"gender\": 0, \"id\": 1483226, \"job\": \"CG Supervisor\", \"name\": \"Jerry Kung\"}, {\"credit_id\": \"5592b18e925141645a0004ae\", \"department\": \"Crew\", \"gender\": 0, \"id\": 1483227, \"job\": \"CG Supervisor\", \"name\": \"Andy Lomas\"}, {\"credit_id\": \"5592b1bfc3a368775d0010e7\", \"department\": \"Crew\", \"gender\": 0, \"id\": 1483228, \"job\": \"CG Supervisor\", \"name\": \"Sebastian Marino\"}, {\"credit_id\": \"5592b2049251415df8001078\", \"department\": \"Crew\", \"gender\": 0, \"id\": 1483229, \"job\": \"CG Supervisor\", \"name\": \"Matthias Menz\"}, {\"credit_id\": \"5592b27b92514152d800136a\", \"department\": \"Crew\", \"gender\": 0, \"id\": 1483230, \"job\": \"CG Supervisor\", \"name\": \"Sergei Nevshupov\"}, {\"credit_id\": \"5592b2c3c3a36869e800003c\", \"department\": \"Crew\", \"gender\": 0, \"id\": 1483231, \"job\": \"CG Supervisor\", \"name\": \"Philippe Rebours\"}, {\"credit_id\": \"5592b317c3a36877470012af\", \"department\": \"Crew\", \"gender\": 0, \"id\": 1483232, \"job\": \"CG Supervisor\", \"name\": \"Michael Takarangi\"}, {\"credit_id\": \"5592b345c3a36877470012bb\", \"department\": \"Crew\", \"gender\": 0, \"id\": 1483233, \"job\": \"CG Supervisor\", \"name\": \"David Weitzberg\"}, {\"credit_id\": \"5592b37cc3a368775100113b\", \"department\": \"Crew\", \"gender\": 0, \"id\": 1483234, \"job\": \"CG Supervisor\", \"name\": \"Ben White\"}, {\"credit_id\": \"573c8e2f9251413f5d000094\", \"department\": \"Crew\", \"gender\": 1, \"id\": 1621932, \"job\": \"Stunts\", \"name\": \"Min Windle\"}]',\n",
       "       '[{\"credit_id\": \"52fe4232c3a36847f800b579\", \"department\": \"Camera\", \"gender\": 2, \"id\": 120, \"job\": \"Director of Photography\", \"name\": \"Dariusz Wolski\"}, {\"credit_id\": \"52fe4232c3a36847f800b4fd\", \"department\": \"Directing\", \"gender\": 2, \"id\": 1704, \"job\": \"Director\", \"name\": \"Gore Verbinski\"}, {\"credit_id\": \"52fe4232c3a36847f800b54f\", \"department\": \"Production\", \"gender\": 2, \"id\": 770, \"job\": \"Producer\", \"name\": \"Jerry Bruckheimer\"}, {\"credit_id\": \"52fe4232c3a36847f800b503\", \"department\": \"Writing\", \"gender\": 2, \"id\": 1705, \"job\": \"Screenplay\", \"name\": \"Ted Elliott\"}, {\"credit_id\": \"52fe4232c3a36847f800b509\", \"department\": \"Writing\", \"gender\": 2, \"id\": 1706, \"job\": \"Screenplay\", \"name\": \"Terry Rossio\"}, {\"credit_id\": \"52fe4232c3a36847f800b57f\", \"department\": \"Editing\", \"gender\": 0, \"id\": 1721, \"job\": \"Editor\", \"name\": \"Stephen E. Rivkin\"}, {\"credit_id\": \"52fe4232c3a36847f800b585\", \"department\": \"Editing\", \"gender\": 2, \"id\": 1722, \"job\": \"Editor\", \"name\": \"Craig Wood\"}, {\"credit_id\": \"52fe4232c3a36847f800b573\", \"department\": \"Sound\", \"gender\": 2, \"id\": 947, \"job\": \"Original Music Composer\", \"name\": \"Hans Zimmer\"}, {\"credit_id\": \"52fe4232c3a36847f800b555\", \"department\": \"Production\", \"gender\": 2, \"id\": 2444, \"job\": \"Executive Producer\", \"name\": \"Mike Stenson\"}, {\"credit_id\": \"52fe4232c3a36847f800b561\", \"department\": \"Production\", \"gender\": 2, \"id\": 2445, \"job\": \"Producer\", \"name\": \"Eric McLeod\"}, {\"credit_id\": \"52fe4232c3a36847f800b55b\", \"department\": \"Production\", \"gender\": 2, \"id\": 2446, \"job\": \"Producer\", \"name\": \"Chad Oman\"}, {\"credit_id\": \"52fe4232c3a36847f800b567\", \"department\": \"Production\", \"gender\": 0, \"id\": 2447, \"job\": \"Producer\", \"name\": \"Peter Kohn\"}, {\"credit_id\": \"52fe4232c3a36847f800b56d\", \"department\": \"Production\", \"gender\": 0, \"id\": 2448, \"job\": \"Producer\", \"name\": \"Pat Sandston\"}, {\"credit_id\": \"52fe4232c3a36847f800b58b\", \"department\": \"Production\", \"gender\": 1, \"id\": 2215, \"job\": \"Casting\", \"name\": \"Denise Chamian\"}, {\"credit_id\": \"52fe4232c3a36847f800b597\", \"department\": \"Art\", \"gender\": 2, \"id\": 1226, \"job\": \"Production Design\", \"name\": \"Rick Heinrichs\"}, {\"credit_id\": \"52fe4232c3a36847f800b59d\", \"department\": \"Art\", \"gender\": 2, \"id\": 553, \"job\": \"Art Direction\", \"name\": \"John Dexter\"}, {\"credit_id\": \"52fe4232c3a36847f800b591\", \"department\": \"Production\", \"gender\": 1, \"id\": 3311, \"job\": \"Casting\", \"name\": \"Priscilla John\"}, {\"credit_id\": \"52fe4232c3a36847f800b5a3\", \"department\": \"Art\", \"gender\": 1, \"id\": 4032, \"job\": \"Set Decoration\", \"name\": \"Cheryl Carasik\"}, {\"credit_id\": \"52fe4232c3a36847f800b5a9\", \"department\": \"Costume & Make-Up\", \"gender\": 0, \"id\": 4033, \"job\": \"Costume Design\", \"name\": \"Liz Dann\"}, {\"credit_id\": \"52fe4232c3a36847f800b5af\", \"department\": \"Costume & Make-Up\", \"gender\": 1, \"id\": 4034, \"job\": \"Costume Design\", \"name\": \"Penny Rose\"}, {\"credit_id\": \"56427ce8c3a3686a53000d8b\", \"department\": \"Sound\", \"gender\": 2, \"id\": 5132, \"job\": \"Music Supervisor\", \"name\": \"Bob Badami\"}, {\"credit_id\": \"55993c15c3a36855db002f33\", \"department\": \"Art\", \"gender\": 2, \"id\": 146439, \"job\": \"Conceptual Design\", \"name\": \"James Ward Byrkit\"}, {\"credit_id\": \"52fe4232c3a36847f800b5b9\", \"department\": \"Costume & Make-Up\", \"gender\": 1, \"id\": 406204, \"job\": \"Makeup Department Head\", \"name\": \"Ve Neill\"}, {\"credit_id\": \"56e47f7892514132690017bd\", \"department\": \"Crew\", \"gender\": 2, \"id\": 1259516, \"job\": \"Stunts\", \"name\": \"John Dixon\"}, {\"credit_id\": \"5740be639251416597000849\", \"department\": \"Crew\", \"gender\": 0, \"id\": 1336716, \"job\": \"CGI Supervisor\", \"name\": \"Dottie Starling\"}, {\"credit_id\": \"56427c639251412fc8000dc1\", \"department\": \"Directing\", \"gender\": 1, \"id\": 1344278, \"job\": \"Script Supervisor\", \"name\": \"Pamela Alch\"}, {\"credit_id\": \"57083101c3a3681d320004e6\", \"department\": \"Crew\", \"gender\": 0, \"id\": 1368867, \"job\": \"Special Effects Coordinator\", \"name\": \"Allen Hall\"}, {\"credit_id\": \"56427d5ec3a3686a62000d4a\", \"department\": \"Sound\", \"gender\": 0, \"id\": 1368884, \"job\": \"Music Editor\", \"name\": \"Melissa Muik\"}, {\"credit_id\": \"56427c7b9251412fd4000e07\", \"department\": \"Directing\", \"gender\": 1, \"id\": 1395290, \"job\": \"Script Supervisor\", \"name\": \"Sharron Reynolds\"}, {\"credit_id\": \"56427d2bc3a3686a53000d9b\", \"department\": \"Sound\", \"gender\": 0, \"id\": 1399327, \"job\": \"Music Editor\", \"name\": \"Barbara McDermott\"}, {\"credit_id\": \"56427cb4c3a3686a53000d87\", \"department\": \"Directing\", \"gender\": 1, \"id\": 1400738, \"job\": \"Script Supervisor\", \"name\": \"Karen Golden\"}, {\"credit_id\": \"56427d169251412fd4000e23\", \"department\": \"Sound\", \"gender\": 0, \"id\": 1534197, \"job\": \"Music Editor\", \"name\": \"Katie Greathouse\"}]',\n",
       "       '[{\"credit_id\": \"54805967c3a36829b5002c41\", \"department\": \"Sound\", \"gender\": 2, \"id\": 153, \"job\": \"Original Music Composer\", \"name\": \"Thomas Newman\"}, {\"credit_id\": \"52fe4d22c3a368484e1d8d77\", \"department\": \"Directing\", \"gender\": 2, \"id\": 39, \"job\": \"Director\", \"name\": \"Sam Mendes\"}, {\"credit_id\": \"5677cd99925141691a005333\", \"department\": \"Art\", \"gender\": 1, \"id\": 8384, \"job\": \"Set Decoration\", \"name\": \"Anna Pinnock\"}, {\"credit_id\": \"52fe4d22c3a368484e1d8d8d\", \"department\": \"Writing\", \"gender\": 2, \"id\": 932, \"job\": \"Screenplay\", \"name\": \"John Logan\"}, {\"credit_id\": \"562fc9bb92514129fe0006b4\", \"department\": \"Writing\", \"gender\": 2, \"id\": 932, \"job\": \"Story\", \"name\": \"John Logan\"}, {\"credit_id\": \"5654d41c92514145c3000373\", \"department\": \"Art\", \"gender\": 2, \"id\": 4248, \"job\": \"Production Design\", \"name\": \"Dennis Gassner\"}, {\"credit_id\": \"52fe4d22c3a368484e1d8d71\", \"department\": \"Writing\", \"gender\": 2, \"id\": 9856, \"job\": \"Characters\", \"name\": \"Ian Fleming\"}, {\"credit_id\": \"54805989c3a36829ae0022d8\", \"department\": \"Editing\", \"gender\": 0, \"id\": 3904, \"job\": \"Editor\", \"name\": \"Lee Smith\"}, {\"credit_id\": \"5677df82c3a3681683008748\", \"department\": \"Sound\", \"gender\": 2, \"id\": 7538, \"job\": \"Music Editor\", \"name\": \"Bill Bernstein\"}, {\"credit_id\": \"5720e370c3a368117e00045b\", \"department\": \"Production\", \"gender\": 2, \"id\": 8784, \"job\": \"Co-Producer\", \"name\": \"Daniel Craig\"}, {\"credit_id\": \"5522fdd09251416d4a0024b6\", \"department\": \"Costume & Make-Up\", \"gender\": 1, \"id\": 11227, \"job\": \"Costume Design\", \"name\": \"Jany Temime\"}, {\"credit_id\": \"5677cc9ac3a368167c0089b5\", \"department\": \"Production\", \"gender\": 1, \"id\": 10496, \"job\": \"Casting\", \"name\": \"Debbie McWilliams\"}, {\"credit_id\": \"52fe4d22c3a368484e1d8d7d\", \"department\": \"Production\", \"gender\": 1, \"id\": 10666, \"job\": \"Producer\", \"name\": \"Barbara Broccoli\"}, {\"credit_id\": \"5720e3afc3a368117e00046a\", \"department\": \"Production\", \"gender\": 0, \"id\": 11268, \"job\": \"Line Producer\", \"name\": \"Roberto Malerba\"}, {\"credit_id\": \"5677df58c3a368167c008c82\", \"department\": \"Sound\", \"gender\": 0, \"id\": 40827, \"job\": \"Music Editor\", \"name\": \"Peter Clarke\"}, {\"credit_id\": \"5677dd1ec3a36816890085d3\", \"department\": \"Sound\", \"gender\": 0, \"id\": 14764, \"job\": \"Sound Designer\", \"name\": \"Christopher Assells\"}, {\"credit_id\": \"566046b9c3a36875f400323a\", \"department\": \"Sound\", \"gender\": 0, \"id\": 14765, \"job\": \"Supervising Sound Editor\", \"name\": \"Per Hallberg\"}, {\"credit_id\": \"5677ccab925141691a00530f\", \"department\": \"Production\", \"gender\": 0, \"id\": 36108, \"job\": \"Casting\", \"name\": \"Nicole Schmied\"}, {\"credit_id\": \"5677cfe4c3a36816850087d2\", \"department\": \"Production\", \"gender\": 0, \"id\": 36108, \"job\": \"Casting Associate\", \"name\": \"Nicole Schmied\"}, {\"credit_id\": \"562fc984c3a3681b5400e16f\", \"department\": \"Writing\", \"gender\": 2, \"id\": 10783, \"job\": \"Screenplay\", \"name\": \"Robert Wade\"}, {\"credit_id\": \"562fc9cec3a3681b4b00d168\", \"department\": \"Writing\", \"gender\": 2, \"id\": 10783, \"job\": \"Story\", \"name\": \"Robert Wade\"}, {\"credit_id\": \"562fc976c3a3681b5c00dd64\", \"department\": \"Writing\", \"gender\": 0, \"id\": 10782, \"job\": \"Screenplay\", \"name\": \"Neal Purvis\"}, {\"credit_id\": \"562fc9d79251414ad800c103\", \"department\": \"Writing\", \"gender\": 0, \"id\": 10782, \"job\": \"Story\", \"name\": \"Neal Purvis\"}, {\"credit_id\": \"5720e61d9251414235000477\", \"department\": \"Production\", \"gender\": 2, \"id\": 10876, \"job\": \"Executive Producer\", \"name\": \"Callum McDougall\"}, {\"credit_id\": \"562fc9a89251414ad800c0fe\", \"department\": \"Writing\", \"gender\": 2, \"id\": 21339, \"job\": \"Screenplay\", \"name\": \"Jez Butterworth\"}, {\"credit_id\": \"570bd7f2c3a36802a9000412\", \"department\": \"Art\", \"gender\": 0, \"id\": 23425, \"job\": \"Supervising Art Director\", \"name\": \"Chris Lowe\"}, {\"credit_id\": \"5677e45ac3a368168b0084fd\", \"department\": \"Art\", \"gender\": 0, \"id\": 23491, \"job\": \"Assistant Art Director\", \"name\": \"Roxana Alexandru \"}, {\"credit_id\": \"5677e29c925141691a00561c\", \"department\": \"Crew\", \"gender\": 0, \"id\": 23774, \"job\": \"Makeup Effects\", \"name\": \"Jo Grover\"}, {\"credit_id\": \"5677cf8492514179d20088ae\", \"department\": \"Production\", \"gender\": 2, \"id\": 10907, \"job\": \"Casting\", \"name\": \"St\\\\u00e9phane Foenkinos\"}, {\"credit_id\": \"5677d7b192514179d20089c6\", \"department\": \"Camera\", \"gender\": 2, \"id\": 61851, \"job\": \"Camera Operator\", \"name\": \"Lorenzo Senatore\"}, {\"credit_id\": \"5720e6f7925141423000046b\", \"department\": \"Production\", \"gender\": 0, \"id\": 64000, \"job\": \"Line Producer\", \"name\": \"Wolfgang Ramml\"}, {\"credit_id\": \"5677dfabc3a368168000899f\", \"department\": \"Sound\", \"gender\": 2, \"id\": 66941, \"job\": \"Orchestrator\", \"name\": \"J.A.C. Redford\"}, {\"credit_id\": \"5720e72e92514142320007fc\", \"department\": \"Production\", \"gender\": 0, \"id\": 81517, \"job\": \"Associate Producer\", \"name\": \"Gregg Wilson\"}, {\"credit_id\": \"52fe4d22c3a368484e1d8d83\", \"department\": \"Production\", \"gender\": 2, \"id\": 69678, \"job\": \"Producer\", \"name\": \"Michael G. Wilson\"}, {\"credit_id\": \"5720e325c3a368118100043e\", \"department\": \"Production\", \"gender\": 0, \"id\": 77511, \"job\": \"Line Producer\", \"name\": \"Zakaria Alaoui\"}, {\"credit_id\": \"548059799251416e7e00265c\", \"department\": \"Camera\", \"gender\": 0, \"id\": 74401, \"job\": \"Director of Photography\", \"name\": \"Hoyte van Hoytema\"}, {\"credit_id\": \"5677cef792514179db00904d\", \"department\": \"Crew\", \"gender\": 0, \"id\": 239885, \"job\": \"Special Effects Coordinator\", \"name\": \"Franco Ragusa\"}, {\"credit_id\": \"5677d7e992514179e7008654\", \"department\": \"Camera\", \"gender\": 0, \"id\": 937946, \"job\": \"Camera Operator\", \"name\": \"Peter Field\"}, {\"credit_id\": \"5677cd21c3a3681680008700\", \"department\": \"Art\", \"gender\": 2, \"id\": 979698, \"job\": \"Art Direction\", \"name\": \"Neal Callow\"}, {\"credit_id\": \"5677cd5a92514179e30086fb\", \"department\": \"Art\", \"gender\": 2, \"id\": 986687, \"job\": \"Art Direction\", \"name\": \"Mark Harris\"}, {\"credit_id\": \"5678090392514179e1009958\", \"department\": \"Crew\", \"gender\": 0, \"id\": 1024842, \"job\": \"Visual Effects Editor\", \"name\": \"Billy A. Campbell\"}, {\"credit_id\": \"5720e6749251414240000470\", \"department\": \"Production\", \"gender\": 0, \"id\": 1026247, \"job\": \"Co-Producer\", \"name\": \"Stacy Perskie\"}, {\"credit_id\": \"56780a2292514179dd008d18\", \"department\": \"Visual Effects\", \"gender\": 0, \"id\": 1029804, \"job\": \"Visual Effects Producer\", \"name\": \"Laura Schultz\"}, {\"credit_id\": \"5677e174925141691a0055f1\", \"department\": \"Costume & Make-Up\", \"gender\": 0, \"id\": 1087452, \"job\": \"Key Hair Stylist\", \"name\": \"Mari Paz Robles\"}, {\"credit_id\": \"5677e0cf9251417845001631\", \"department\": \"Costume & Make-Up\", \"gender\": 0, \"id\": 1099281, \"job\": \"Hairstylist\", \"name\": \"Gerardo Perez Arreola\"}, {\"credit_id\": \"5677d73b92514179dd008471\", \"department\": \"Camera\", \"gender\": 0, \"id\": 1118711, \"job\": \"Camera Operator\", \"name\": \"Kenji Katori\"}, {\"credit_id\": \"5677cd3a92514179d2008852\", \"department\": \"Art\", \"gender\": 0, \"id\": 1296445, \"job\": \"Art Direction\", \"name\": \"Ben Collins\"}, {\"credit_id\": \"5677cfc3c3a3681680008755\", \"department\": \"Production\", \"gender\": 0, \"id\": 1305251, \"job\": \"Casting Associate\", \"name\": \"Tusse Lande\"}, {\"credit_id\": \"5677e24f92514179e70087da\", \"department\": \"Costume & Make-Up\", \"gender\": 0, \"id\": 1315700, \"job\": \"Makeup Artist\", \"name\": \"Donald Mowat\"}, {\"credit_id\": \"5677d622c3a368167c008b25\", \"department\": \"Costume & Make-Up\", \"gender\": 0, \"id\": 1319160, \"job\": \"Costume Supervisor\", \"name\": \"Ken Crouch\"}, {\"credit_id\": \"5677cd0ec3a368168e008f75\", \"department\": \"Art\", \"gender\": 0, \"id\": 1335539, \"job\": \"Art Direction\", \"name\": \"Andrew Bennett\"}, {\"credit_id\": \"56780833925141691a005c2f\", \"department\": \"Visual Effects\", \"gender\": 0, \"id\": 1338241, \"job\": \"Visual Effects Coordinator\", \"name\": \"Sean McGrath\"}, {\"credit_id\": \"5677dcc7c3a36816830086cc\", \"department\": \"Sound\", \"gender\": 0, \"id\": 1338372, \"job\": \"Foley\", \"name\": \"Dan O\\'Connell\"}, {\"credit_id\": \"56780ac692514179dd008d31\", \"department\": \"Visual Effects\", \"gender\": 0, \"id\": 1341741, \"job\": \"Visual Effects Supervisor\", \"name\": \"Mark Curtis\"}, {\"credit_id\": \"5677dd9fc3a368168b0083f0\", \"department\": \"Sound\", \"gender\": 2, \"id\": 1341858, \"job\": \"Sound Re-Recording Mixer\", \"name\": \"Gregg Rudloff\"}, {\"credit_id\": \"566047029251412204002337\", \"department\": \"Directing\", \"gender\": 0, \"id\": 1342669, \"job\": \"Script Supervisor\", \"name\": \"Jayne-Ann Tenggren\"}, {\"credit_id\": \"5720e713925141423000046d\", \"department\": \"Production\", \"gender\": 0, \"id\": 1342669, \"job\": \"Associate Producer\", \"name\": \"Jayne-Ann Tenggren\"}, {\"credit_id\": \"5677dd8792514179db009235\", \"department\": \"Sound\", \"gender\": 0, \"id\": 1345595, \"job\": \"Sound Re-Recording Mixer\", \"name\": \"Scott Millan\"}, {\"credit_id\": \"5677def192514179e700875b\", \"department\": \"Directing\", \"gender\": 0, \"id\": 1358025, \"job\": \"Script Supervisor\", \"name\": \"Nicoletta Mani\"}, {\"credit_id\": \"5677dcb0925141691a00552a\", \"department\": \"Sound\", \"gender\": 0, \"id\": 1367493, \"job\": \"Foley\", \"name\": \"John T. Cucci\"}, {\"credit_id\": \"5677d7ff92514179e300884b\", \"department\": \"Camera\", \"gender\": 0, \"id\": 1377503, \"job\": \"Camera Operator\", \"name\": \"Sebastian Meuschel\"}, {\"credit_id\": \"5677d94192514179d20089ff\", \"department\": \"Camera\", \"gender\": 2, \"id\": 1388897, \"job\": \"Steadicam Operator\", \"name\": \"Julian Morson\"}, {\"credit_id\": \"5677dce5c3a36816830086d3\", \"department\": \"Sound\", \"gender\": 0, \"id\": 1389614, \"job\": \"Foley\", \"name\": \"Peter Michael Sullivan\"}, {\"credit_id\": \"56780a5a92514179e300908d\", \"department\": \"Visual Effects\", \"gender\": 0, \"id\": 1391691, \"job\": \"Visual Effects Producer\", \"name\": \"Ken Dailey\"}, {\"credit_id\": \"5677dd38c3a368167c008c21\", \"department\": \"Sound\", \"gender\": 0, \"id\": 1392083, \"job\": \"Sound Designer\", \"name\": \"Ann Scibelli\"}, {\"credit_id\": \"5677d7cd92514179db009178\", \"department\": \"Camera\", \"gender\": 0, \"id\": 1392246, \"job\": \"Camera Operator\", \"name\": \"Clive Jackson\"}, {\"credit_id\": \"5677de6192514179dd008566\", \"department\": \"Directing\", \"gender\": 0, \"id\": 1392661, \"job\": \"Script Supervisor\", \"name\": \"Susie Jones\"}, {\"credit_id\": \"5677d98fc3a3681685008904\", \"department\": \"Camera\", \"gender\": 2, \"id\": 1392718, \"job\": \"Still Photographer\", \"name\": \"Jasin Boland\"}, {\"credit_id\": \"5677cdd8c3a368168b0081e1\", \"department\": \"Art\", \"gender\": 0, \"id\": 1394117, \"job\": \"Art Department Coordinator\", \"name\": \"Jennifer Lewicki\"}, {\"credit_id\": \"5677e58cc3a3681685008adb\", \"department\": \"Art\", \"gender\": 0, \"id\": 1398089, \"job\": \"Greensman\", \"name\": \"Ian Whiteford\"}, {\"credit_id\": \"56780a7592514179db0099c4\", \"department\": \"Visual Effects\", \"gender\": 0, \"id\": 1398100, \"job\": \"Visual Effects Producer\", \"name\": \"Kilou Picard\"}, {\"credit_id\": \"5677d8ba92514179d20089f0\", \"department\": \"Camera\", \"gender\": 0, \"id\": 1399071, \"job\": \"Helicopter Camera\", \"name\": \"Hans Bjerno\"}, {\"credit_id\": \"5677dd02c3a368167a0091a2\", \"department\": \"Editing\", \"gender\": 2, \"id\": 1399862, \"job\": \"Dialogue Editor\", \"name\": \"Daniel Saxlid\"}, {\"credit_id\": \"5677e2e1c3a368167c008d1a\", \"department\": \"Costume & Make-Up\", \"gender\": 0, \"id\": 1401126, \"job\": \"Wigmaker\", \"name\": \"Alex Rouse\"}, {\"credit_id\": \"5678096bc3a368167c0093d2\", \"department\": \"Crew\", \"gender\": 0, \"id\": 1401147, \"job\": \"Visual Effects Editor\", \"name\": \"Anik Seguin\"}, {\"credit_id\": \"5677dc90c3a368167a009190\", \"department\": \"Sound\", \"gender\": 0, \"id\": 1401631, \"job\": \"ADR & Dubbing\", \"name\": \"Michelle Pazer\"}, {\"credit_id\": \"5677d75ac3a368167a0090e9\", \"department\": \"Camera\", \"gender\": 2, \"id\": 1403411, \"job\": \"Camera Operator\", \"name\": \"Lucas Bielan\"}, {\"credit_id\": \"566046d7c3a36875e900359d\", \"department\": \"Sound\", \"gender\": 0, \"id\": 1404212, \"job\": \"Supervising Sound Editor\", \"name\": \"Karen Baker Landers\"}, {\"credit_id\": \"5677dd519251417845001588\", \"department\": \"Sound\", \"gender\": 0, \"id\": 1404217, \"job\": \"Sound Designer\", \"name\": \"Peter Staubli\"}, {\"credit_id\": \"5677d8d192514179e1009100\", \"department\": \"Camera\", \"gender\": 0, \"id\": 1404244, \"job\": \"Helicopter Camera\", \"name\": \"John Marzano\"}, {\"credit_id\": \"5677d927c3a36816850088f2\", \"department\": \"Camera\", \"gender\": 0, \"id\": 1405241, \"job\": \"Helicopter Camera\", \"name\": \"Adam Dale\"}, {\"credit_id\": \"5677dff292514179e100921a\", \"department\": \"Editing\", \"gender\": 0, \"id\": 1408363, \"job\": \"First Assistant Editor\", \"name\": \"Emma McCleave\"}, {\"credit_id\": \"5677e191925141784500164f\", \"department\": \"Costume & Make-Up\", \"gender\": 0, \"id\": 1409821, \"job\": \"Makeup Designer\", \"name\": \"Naomi Donne\"}, {\"credit_id\": \"5677e2b5c3a368168e0092aa\", \"department\": \"Crew\", \"gender\": 0, \"id\": 1411323, \"job\": \"Makeup Effects\", \"name\": \"Susan Howard\"}, {\"credit_id\": \"5677d869c3a36816850088e3\", \"department\": \"Lighting\", \"gender\": 0, \"id\": 1414096, \"job\": \"Gaffer\", \"name\": \"David Smith\"}, {\"credit_id\": \"56780712c3a368168b008ace\", \"department\": \"Crew\", \"gender\": 0, \"id\": 1415157, \"job\": \"CG Supervisor\", \"name\": \"Joel Green\"}, {\"credit_id\": \"567806ba92514179e10098ee\", \"department\": \"Crew\", \"gender\": 0, \"id\": 1425484, \"job\": \"CG Supervisor\", \"name\": \"Laurent Hugueniot\"}, {\"credit_id\": \"56780a92c3a36816850090af\", \"department\": \"Visual Effects\", \"gender\": 0, \"id\": 1425488, \"job\": \"Visual Effects Producer\", \"name\": \"Tim Keene\"}, {\"credit_id\": \"5677e087c3a368167a00922b\", \"department\": \"Costume & Make-Up\", \"gender\": 0, \"id\": 1425971, \"job\": \"Hair Designer\", \"name\": \"Zoe Tahir\"}, {\"credit_id\": \"567808eb92514179e300904a\", \"department\": \"Crew\", \"gender\": 0, \"id\": 1428902, \"job\": \"Visual Effects Editor\", \"name\": \"Conor Byrne\"}, {\"credit_id\": \"5677e22d925141691a00560d\", \"department\": \"Costume & Make-Up\", \"gender\": 0, \"id\": 1439128, \"job\": \"Makeup Artist\", \"name\": \"Charlotte Hayward\"}, {\"credit_id\": \"5677cf3fc3a36816850087c1\", \"department\": \"Visual Effects\", \"gender\": 0, \"id\": 1442137, \"job\": \"Animation Supervisor\", \"name\": \"Catherine Mullan\"}, {\"credit_id\": \"56780988c3a3681683008e99\", \"department\": \"Crew\", \"gender\": 0, \"id\": 1447617, \"job\": \"Visual Effects Editor\", \"name\": \"Crystal Hadcroft\"}, {\"credit_id\": \"5677e0ec925141691a0055d6\", \"department\": \"Costume & Make-Up\", \"gender\": 0, \"id\": 1458416, \"job\": \"Hairstylist\", \"name\": \"Francesca Crowder\"}, {\"credit_id\": \"5677cf2892514179dd008356\", \"department\": \"Visual Effects\", \"gender\": 0, \"id\": 1459878, \"job\": \"Animation Director\", \"name\": \"Marlene Chazot\"}, {\"credit_id\": \"5678091d92514179db009985\", \"department\": \"Crew\", \"gender\": 0, \"id\": 1459899, \"job\": \"Visual Effects Editor\", \"name\": \"Struan Farquhar\"}, {\"credit_id\": \"56780731c3a3681680009013\", \"department\": \"Crew\", \"gender\": 0, \"id\": 1459925, \"job\": \"CG Supervisor\", \"name\": \"Daniel Pastore\"}, {\"credit_id\": \"5677d969c3a368168b00834a\", \"department\": \"Camera\", \"gender\": 0, \"id\": 1470167, \"job\": \"Still Photographer\", \"name\": \"Jonathan Olley\"}, {\"credit_id\": \"5677e48dc3a368167a0092c8\", \"department\": \"Art\", \"gender\": 0, \"id\": 1472773, \"job\": \"Assistant Art Director\", \"name\": \"Sami Gaidi\"}, {\"credit_id\": \"5751eed59251416b60000637\", \"department\": \"Production\", \"gender\": 2, \"id\": 1477203, \"job\": \"Co-Producer\", \"name\": \"Luca Marco Paracels\"}, {\"credit_id\": \"5677e157c3a36816800089ee\", \"department\": \"Costume & Make-Up\", \"gender\": 0, \"id\": 1480629, \"job\": \"Key Hair Stylist\", \"name\": \"Luca Vannella\"}, {\"credit_id\": \"56780b0e925141691a005c8f\", \"department\": \"Visual Effects\", \"gender\": 0, \"id\": 1483141, \"job\": \"Visual Effects Supervisor\", \"name\": \"Stuart Bullen\"}, {\"credit_id\": \"582f29fa925141022e003a74\", \"department\": \"Sound\", \"gender\": 0, \"id\": 1494824, \"job\": \"Sound Effects Editor\", \"name\": \"Russell Edwards\"}, {\"credit_id\": \"5677d63dc3a368167a0090b4\", \"department\": \"Costume & Make-Up\", \"gender\": 0, \"id\": 1510431, \"job\": \"Costume Supervisor\", \"name\": \"Stefano De Nardis\"}, {\"credit_id\": \"5677d79992514179d20089c2\", \"department\": \"Camera\", \"gender\": 0, \"id\": 1512767, \"job\": \"Camera Operator\", \"name\": \"Luis David Sansans\"}, {\"credit_id\": \"5677d609c3a368168000881a\", \"department\": \"Costume & Make-Up\", \"gender\": 0, \"id\": 1545912, \"job\": \"Costume Supervisor\", \"name\": \"Abderrahim Benkhayi\"}, {\"credit_id\": \"5677d66cc3a368167a0090be\", \"department\": \"Costume & Make-Up\", \"gender\": 0, \"id\": 1545913, \"job\": \"Set Costumer\", \"name\": \"Rachid Aadassi\"}, {\"credit_id\": \"5677da26c3a368167a009139\", \"department\": \"Camera\", \"gender\": 0, \"id\": 1545995, \"job\": \"Additional Camera\", \"name\": \"Carlos De Carvalho\"}, {\"credit_id\": \"5677d5bec3a368167c008b13\", \"department\": \"Costume & Make-Up\", \"gender\": 0, \"id\": 1546747, \"job\": \"Assistant Costume Designer\", \"name\": \"Vivienne Jones\"}, {\"credit_id\": \"5677dfcac3a368168300875b\", \"department\": \"Editing\", \"gender\": 0, \"id\": 1548406, \"job\": \"Digital Intermediate\", \"name\": \"Kim Honeyman\"}, {\"credit_id\": \"5677e105c3a368168b00846d\", \"department\": \"Costume & Make-Up\", \"gender\": 0, \"id\": 1550637, \"job\": \"Hairstylist\", \"name\": \"Kathryn Fa\"}, {\"credit_id\": \"5677ce0c9251417845001384\", \"department\": \"Crew\", \"gender\": 0, \"id\": 1551770, \"job\": \"Carpenter\", \"name\": \"Paul Duff\"}, {\"credit_id\": \"5677ce5192514179e300871b\", \"department\": \"Crew\", \"gender\": 0, \"id\": 1551771, \"job\": \"Property Master\", \"name\": \"Ben Wilkinson\"}, {\"credit_id\": \"5677cec292514179dd00834d\", \"department\": \"Crew\", \"gender\": 0, \"id\": 1551772, \"job\": \"Special Effects Coordinator\", \"name\": \"Lynne Corbould\"}, {\"credit_id\": \"5677cf57c3a368168e008fcc\", \"department\": \"Production\", \"gender\": 0, \"id\": 1551773, \"job\": \"Casting\", \"name\": \"Amal El-Farfachi\"}, {\"credit_id\": \"5677cf99c3a368168b00821d\", \"department\": \"Production\", \"gender\": 0, \"id\": 1551774, \"job\": \"Casting Associate\", \"name\": \"Celebrity Booker\"}, {\"credit_id\": \"5677cfadc3a368167c008a30\", \"department\": \"Production\", \"gender\": 0, \"id\": 1551775, \"job\": \"Casting Associate\", \"name\": \"Lucy Hellier\"}, {\"credit_id\": \"5677d5a392514179db00911d\", \"department\": \"Costume & Make-Up\", \"gender\": 0, \"id\": 1551777, \"job\": \"Assistant Costume Designer\", \"name\": \"Richard Davies\"}, {\"credit_id\": \"5677dd6bc3a368168b0083e2\", \"department\": \"Sound\", \"gender\": 0, \"id\": 1551789, \"job\": \"Sound Effects Editor\", \"name\": \"Ando Johnson\"}, {\"credit_id\": \"5677de2dc3a3681683008713\", \"department\": \"Crew\", \"gender\": 0, \"id\": 1551791, \"job\": \"Armorer\", \"name\": \"Greg Corke\"}, {\"credit_id\": \"5677de8a92514179e10091d9\", \"department\": \"Production\", \"gender\": 0, \"id\": 1551796, \"job\": \"Researcher\", \"name\": \"Amin Rharda\"}, {\"credit_id\": \"5677dea9c3a368168e00921c\", \"department\": \"Crew\", \"gender\": 0, \"id\": 1551797, \"job\": \"Armorer\", \"name\": \"Joss Skottowe\"}, {\"credit_id\": \"5677e11c92514179dd0085e3\", \"department\": \"Costume & Make-Up\", \"gender\": 0, \"id\": 1551798, \"job\": \"Hairstylist\", \"name\": \"Joseph Koniak\"}, {\"credit_id\": \"5677e1b19251417845001657\", \"department\": \"Costume & Make-Up\", \"gender\": 0, \"id\": 1551800, \"job\": \"Makeup Artist\", \"name\": \"Thal\\\\u00eda Echeveste\"}, {\"credit_id\": \"5677e1c7c3a368167c008cd8\", \"department\": \"Costume & Make-Up\", \"gender\": 0, \"id\": 1551801, \"job\": \"Makeup Artist\", \"name\": \"Charlie Hounslow\"}, {\"credit_id\": \"5677e1e592514179d2008b7b\", \"department\": \"Costume & Make-Up\", \"gender\": 0, \"id\": 1551802, \"job\": \"Makeup Artist\", \"name\": \"Lucy Friend\"}, {\"credit_id\": \"5677e1fa92514179e1009265\", \"department\": \"Costume & Make-Up\", \"gender\": 0, \"id\": 1551803, \"job\": \"Makeup Artist\", \"name\": \"Yelska Labrada\"}, {\"credit_id\": \"5677e20fc3a36816830087d9\", \"department\": \"Costume & Make-Up\", \"gender\": 0, \"id\": 1551804, \"job\": \"Makeup Artist\", \"name\": \"Ana Gabriela Quinonez\"}, {\"credit_id\": \"5677e32d9251417845001683\", \"department\": \"Production\", \"gender\": 0, \"id\": 1551807, \"job\": \"Researcher\", \"name\": \"Gina De Ferrer\"}, {\"credit_id\": \"5677e47592514179e10092dd\", \"department\": \"Art\", \"gender\": 0, \"id\": 1551809, \"job\": \"Assistant Art Director\", \"name\": \"Lydia Fry\"}, {\"credit_id\": \"5677e4a492514179db009373\", \"department\": \"Art\", \"gender\": 0, \"id\": 1551810, \"job\": \"Assistant Art Director\", \"name\": \"Liam Georgensen\"}, {\"credit_id\": \"5677e4bb92514179dd00868a\", \"department\": \"Art\", \"gender\": 0, \"id\": 1551811, \"job\": \"Assistant Art Director\", \"name\": \"Hugh McClelland\"}, {\"credit_id\": \"5677e53092514179db00938e\", \"department\": \"Crew\", \"gender\": 0, \"id\": 1551812, \"job\": \"Carpenter\", \"name\": \"John Allen\"}, {\"credit_id\": \"5677e547c3a368167a0092ef\", \"department\": \"Crew\", \"gender\": 0, \"id\": 1551813, \"job\": \"Carpenter\", \"name\": \"Eddie Murphy\"}, {\"credit_id\": \"567806e092514179dd008c84\", \"department\": \"Crew\", \"gender\": 0, \"id\": 1551872, \"job\": \"CG Supervisor\", \"name\": \"Carlos-Christian Nickel\"}, {\"credit_id\": \"567806f7c3a368167a0098d7\", \"department\": \"Crew\", \"gender\": 0, \"id\": 1551874, \"job\": \"CG Supervisor\", \"name\": \"Chris Petts\"}, {\"credit_id\": \"567807b7c3a368167a0098f0\", \"department\": \"Visual Effects\", \"gender\": 0, \"id\": 1551892, \"job\": \"Visual Effects Coordinator\", \"name\": \"Hugh Brompton\"}, {\"credit_id\": \"567807d1c3a3681680009022\", \"department\": \"Visual Effects\", \"gender\": 0, \"id\": 1551893, \"job\": \"Visual Effects Coordinator\", \"name\": \"Jillian Brooks\"}, {\"credit_id\": \"567807eb92514179db00995e\", \"department\": \"Visual Effects\", \"gender\": 0, \"id\": 1551894, \"job\": \"Visual Effects Coordinator\", \"name\": \"Geraint Hixson\"}, {\"credit_id\": \"5678084f92514179d2009226\", \"department\": \"Visual Effects\", \"gender\": 0, \"id\": 1551896, \"job\": \"Visual Effects Coordinator\", \"name\": \"Shawn Smolensky\"}, {\"credit_id\": \"5678086992514179db00996d\", \"department\": \"Visual Effects\", \"gender\": 0, \"id\": 1551897, \"job\": \"Visual Effects Coordinator\", \"name\": \"Todd Whalen\"}, {\"credit_id\": \"56780884c3a3681689008d28\", \"department\": \"Visual Effects\", \"gender\": 0, \"id\": 1551898, \"job\": \"Visual Effects Coordinator\", \"name\": \"Alysia Wildman\"}, {\"credit_id\": \"567808a0c3a368167c0093a1\", \"department\": \"Visual Effects\", \"gender\": 0, \"id\": 1551899, \"job\": \"Visual Effects Coordinator\", \"name\": \"Sam Girdler\"}, {\"credit_id\": \"567808cdc3a3681685009073\", \"department\": \"Visual Effects\", \"gender\": 0, \"id\": 1551902, \"job\": \"Visual Effects Coordinator\", \"name\": \"Samantha Dark\"}, {\"credit_id\": \"567809519251417845001d1a\", \"department\": \"Crew\", \"gender\": 0, \"id\": 1551904, \"job\": \"Visual Effects Editor\", \"name\": \"Ty Gibson\"}, {\"credit_id\": \"567809bfc3a368167c0093e7\", \"department\": \"Crew\", \"gender\": 0, \"id\": 1551906, \"job\": \"Visual Effects Editor\", \"name\": \"James Mann\"}, {\"credit_id\": \"567809e392514179dd008d0c\", \"department\": \"Visual Effects\", \"gender\": 0, \"id\": 1551907, \"job\": \"Visual Effects Producer\", \"name\": \"Leslie Lerman\"}, {\"credit_id\": \"56780aef92514179d2009276\", \"department\": \"Visual Effects\", \"gender\": 0, \"id\": 1551908, \"job\": \"Visual Effects Supervisor\", \"name\": \"Steven Begg\"}, {\"credit_id\": \"56780b249251417845001d4a\", \"department\": \"Visual Effects\", \"gender\": 0, \"id\": 1551909, \"job\": \"Visual Effects Supervisor\", \"name\": \"Zave Jackson\"}, {\"credit_id\": \"56780b4e9251417845001d57\", \"department\": \"Visual Effects\", \"gender\": 2, \"id\": 1551910, \"job\": \"Visual Effects Supervisor\", \"name\": \"Jonathan Knight\"}, {\"credit_id\": \"56780bb692514179d2009291\", \"department\": \"Visual Effects\", \"gender\": 0, \"id\": 1551911, \"job\": \"Visual Effects Supervisor\", \"name\": \"Alex Wuttke\"}, {\"credit_id\": \"56780c5a92514179e7008f22\", \"department\": \"Visual Effects\", \"gender\": 0, \"id\": 1551913, \"job\": \"Visual Effects Supervisor\", \"name\": \"Mark Bakowski\"}, {\"credit_id\": \"56780c8292514179e30090d1\", \"department\": \"Visual Effects\", \"gender\": 0, \"id\": 1551914, \"job\": \"Visual Effects Supervisor\", \"name\": \"Paul Round\"}, {\"credit_id\": \"56cd782ac3a368275b001cae\", \"department\": \"Lighting\", \"gender\": 0, \"id\": 1553236, \"job\": \"Gaffer\", \"name\": \"Stefano Marino\"}, {\"credit_id\": \"56cd7899c3a3682759001bfd\", \"department\": \"Lighting\", \"gender\": 0, \"id\": 1582109, \"job\": \"Gaffer\", \"name\": \"Hanz Kawson\"}]',\n",
       "       ...,\n",
       "       '[{\"credit_id\": \"52fe4df3c3a36847f8275ecf\", \"department\": \"Costume & Make-Up\", \"gender\": 0, \"id\": 23816, \"job\": \"Costume Design\", \"name\": \"Carla Hetland\"}, {\"credit_id\": \"583328efc3a368675d0016e4\", \"department\": \"Production\", \"gender\": 2, \"id\": 32733, \"job\": \"Producer\", \"name\": \"Harvey Kahn\"}, {\"credit_id\": \"52fe4df3c3a36847f8275eb7\", \"department\": \"Camera\", \"gender\": 2, \"id\": 43925, \"job\": \"Director of Photography\", \"name\": \"Adam Sliwinski\"}, {\"credit_id\": \"52fe4df3c3a36847f8275eb1\", \"department\": \"Writing\", \"gender\": 1, \"id\": 166873, \"job\": \"Writer\", \"name\": \"Martha Williamson\"}, {\"credit_id\": \"58332c6ac3a3686753001dcf\", \"department\": \"Production\", \"gender\": 1, \"id\": 166873, \"job\": \"Executive Producer\", \"name\": \"Martha Williamson\"}, {\"credit_id\": \"554ea9ddc3a36879530001d9\", \"department\": \"Production\", \"gender\": 2, \"id\": 174065, \"job\": \"Executive Producer\", \"name\": \"Joel S. Rice\"}, {\"credit_id\": \"5833288e92514103450018f0\", \"department\": \"Production\", \"gender\": 1, \"id\": 435006, \"job\": \"Casting\", \"name\": \"Jackie Lind\"}, {\"credit_id\": \"5833289ac3a36867500019b1\", \"department\": \"Production\", \"gender\": 0, \"id\": 551521, \"job\": \"Casting\", \"name\": \"Shana Landsburg\"}, {\"credit_id\": \"52fe4df3c3a36847f8275ec9\", \"department\": \"Art\", \"gender\": 1, \"id\": 1012891, \"job\": \"Production Design\", \"name\": \"Renee Read\"}, {\"credit_id\": \"52fe4df3c3a36847f8275ec3\", \"department\": \"Sound\", \"gender\": 2, \"id\": 1099146, \"job\": \"Original Music Composer\", \"name\": \"Hal Beckett\"}, {\"credit_id\": \"52fe4df3c3a36847f8275eab\", \"department\": \"Directing\", \"gender\": 0, \"id\": 1219158, \"job\": \"Director\", \"name\": \"Scott Smith\"}, {\"credit_id\": \"58332c3f9251410348001bf2\", \"department\": \"Production\", \"gender\": 0, \"id\": 1219158, \"job\": \"Executive Producer\", \"name\": \"Scott Smith\"}, {\"credit_id\": \"52fe4df3c3a36847f8275ebd\", \"department\": \"Editing\", \"gender\": 0, \"id\": 1271268, \"job\": \"Editor\", \"name\": \"Lisa Binkley\"}]',\n",
       "       '[{\"credit_id\": \"52fe4ad9c3a368484e16a36b\", \"department\": \"Directing\", \"gender\": 2, \"id\": 208138, \"job\": \"Director\", \"name\": \"Daniel Hsia\"}, {\"credit_id\": \"52fe4ad9c3a368484e16a371\", \"department\": \"Writing\", \"gender\": 2, \"id\": 208138, \"job\": \"Writer\", \"name\": \"Daniel Hsia\"}]',\n",
       "       '[{\"credit_id\": \"58ce021b9251415a390165d9\", \"department\": \"Production\", \"gender\": 2, \"id\": 6888, \"job\": \"Executive Producer\", \"name\": \"Clark Peterson\"}, {\"credit_id\": \"58ce0232c3a36850e90157da\", \"department\": \"Production\", \"gender\": 2, \"id\": 61051, \"job\": \"Executive Producer\", \"name\": \"Andrew Reimer\"}, {\"credit_id\": \"52fe44e8c3a368484e03da8d\", \"department\": \"Directing\", \"gender\": 2, \"id\": 85563, \"job\": \"Director\", \"name\": \"Brian Herzlinger\"}, {\"credit_id\": \"52fe44e8c3a368484e03da87\", \"department\": \"Directing\", \"gender\": 2, \"id\": 94471, \"job\": \"Director\", \"name\": \"Jon Gunn\"}, {\"credit_id\": \"52fe44e8c3a368484e03da97\", \"department\": \"Directing\", \"gender\": 0, \"id\": 997560, \"job\": \"Director\", \"name\": \"Brett Winn\"}]'],\n",
       "      dtype=object)"
      ]
     },
     "execution_count": 30,
     "metadata": {},
     "output_type": "execute_result"
    }
   ],
   "source": [
    "movies['crew'].values"
   ]
  },
  {
   "cell_type": "code",
   "execution_count": 31,
   "id": "415076fd",
   "metadata": {},
   "outputs": [],
   "source": [
    "#Function to select only the director from the crews\n",
    "\n",
    "def director(obj):\n",
    "    L = []\n",
    "    for i in ast.literal_eval(obj):\n",
    "        if i['job'] == 'Director':\n",
    "            L.append(i['name'])\n",
    "            break\n",
    "    return L"
   ]
  },
  {
   "cell_type": "code",
   "execution_count": 32,
   "id": "05cf48d0",
   "metadata": {},
   "outputs": [],
   "source": [
    "movies['crew'] = movies['crew'].apply(director)"
   ]
  },
  {
   "cell_type": "code",
   "execution_count": 33,
   "id": "af349932",
   "metadata": {},
   "outputs": [
    {
     "data": {
      "text/html": [
       "<div>\n",
       "<style scoped>\n",
       "    .dataframe tbody tr th:only-of-type {\n",
       "        vertical-align: middle;\n",
       "    }\n",
       "\n",
       "    .dataframe tbody tr th {\n",
       "        vertical-align: top;\n",
       "    }\n",
       "\n",
       "    .dataframe thead th {\n",
       "        text-align: right;\n",
       "    }\n",
       "</style>\n",
       "<table border=\"1\" class=\"dataframe\">\n",
       "  <thead>\n",
       "    <tr style=\"text-align: right;\">\n",
       "      <th></th>\n",
       "      <th>movie_id</th>\n",
       "      <th>title</th>\n",
       "      <th>overview</th>\n",
       "      <th>genres</th>\n",
       "      <th>keywords</th>\n",
       "      <th>cast</th>\n",
       "      <th>crew</th>\n",
       "    </tr>\n",
       "  </thead>\n",
       "  <tbody>\n",
       "    <tr>\n",
       "      <th>0</th>\n",
       "      <td>19995</td>\n",
       "      <td>Avatar</td>\n",
       "      <td>In the 22nd century, a paraplegic Marine is di...</td>\n",
       "      <td>[Action, Adventure, Fantasy, Science Fiction]</td>\n",
       "      <td>[culture clash, future, space war, space colon...</td>\n",
       "      <td>[Sam Worthington, Zoe Saldana, Sigourney Weaver]</td>\n",
       "      <td>[James Cameron]</td>\n",
       "    </tr>\n",
       "    <tr>\n",
       "      <th>1</th>\n",
       "      <td>285</td>\n",
       "      <td>Pirates of the Caribbean: At World's End</td>\n",
       "      <td>Captain Barbossa, long believed to be dead, ha...</td>\n",
       "      <td>[Adventure, Fantasy, Action]</td>\n",
       "      <td>[ocean, drug abuse, exotic island, east india ...</td>\n",
       "      <td>[Johnny Depp, Orlando Bloom, Keira Knightley]</td>\n",
       "      <td>[Gore Verbinski]</td>\n",
       "    </tr>\n",
       "    <tr>\n",
       "      <th>2</th>\n",
       "      <td>206647</td>\n",
       "      <td>Spectre</td>\n",
       "      <td>A cryptic message from Bond’s past sends him o...</td>\n",
       "      <td>[Action, Adventure, Crime]</td>\n",
       "      <td>[spy, based on novel, secret agent, sequel, mi...</td>\n",
       "      <td>[Daniel Craig, Christoph Waltz, Léa Seydoux]</td>\n",
       "      <td>[Sam Mendes]</td>\n",
       "    </tr>\n",
       "    <tr>\n",
       "      <th>3</th>\n",
       "      <td>49026</td>\n",
       "      <td>The Dark Knight Rises</td>\n",
       "      <td>Following the death of District Attorney Harve...</td>\n",
       "      <td>[Action, Crime, Drama, Thriller]</td>\n",
       "      <td>[dc comics, crime fighter, terrorist, secret i...</td>\n",
       "      <td>[Christian Bale, Michael Caine, Gary Oldman]</td>\n",
       "      <td>[Christopher Nolan]</td>\n",
       "    </tr>\n",
       "    <tr>\n",
       "      <th>4</th>\n",
       "      <td>49529</td>\n",
       "      <td>John Carter</td>\n",
       "      <td>John Carter is a war-weary, former military ca...</td>\n",
       "      <td>[Action, Adventure, Science Fiction]</td>\n",
       "      <td>[based on novel, mars, medallion, space travel...</td>\n",
       "      <td>[Taylor Kitsch, Lynn Collins, Samantha Morton]</td>\n",
       "      <td>[Andrew Stanton]</td>\n",
       "    </tr>\n",
       "  </tbody>\n",
       "</table>\n",
       "</div>"
      ],
      "text/plain": [
       "   movie_id                                     title  \\\n",
       "0     19995                                    Avatar   \n",
       "1       285  Pirates of the Caribbean: At World's End   \n",
       "2    206647                                   Spectre   \n",
       "3     49026                     The Dark Knight Rises   \n",
       "4     49529                               John Carter   \n",
       "\n",
       "                                            overview  \\\n",
       "0  In the 22nd century, a paraplegic Marine is di...   \n",
       "1  Captain Barbossa, long believed to be dead, ha...   \n",
       "2  A cryptic message from Bond’s past sends him o...   \n",
       "3  Following the death of District Attorney Harve...   \n",
       "4  John Carter is a war-weary, former military ca...   \n",
       "\n",
       "                                          genres  \\\n",
       "0  [Action, Adventure, Fantasy, Science Fiction]   \n",
       "1                   [Adventure, Fantasy, Action]   \n",
       "2                     [Action, Adventure, Crime]   \n",
       "3               [Action, Crime, Drama, Thriller]   \n",
       "4           [Action, Adventure, Science Fiction]   \n",
       "\n",
       "                                            keywords  \\\n",
       "0  [culture clash, future, space war, space colon...   \n",
       "1  [ocean, drug abuse, exotic island, east india ...   \n",
       "2  [spy, based on novel, secret agent, sequel, mi...   \n",
       "3  [dc comics, crime fighter, terrorist, secret i...   \n",
       "4  [based on novel, mars, medallion, space travel...   \n",
       "\n",
       "                                               cast                 crew  \n",
       "0  [Sam Worthington, Zoe Saldana, Sigourney Weaver]      [James Cameron]  \n",
       "1     [Johnny Depp, Orlando Bloom, Keira Knightley]     [Gore Verbinski]  \n",
       "2      [Daniel Craig, Christoph Waltz, Léa Seydoux]         [Sam Mendes]  \n",
       "3      [Christian Bale, Michael Caine, Gary Oldman]  [Christopher Nolan]  \n",
       "4    [Taylor Kitsch, Lynn Collins, Samantha Morton]     [Andrew Stanton]  "
      ]
     },
     "execution_count": 33,
     "metadata": {},
     "output_type": "execute_result"
    }
   ],
   "source": [
    "movies.head()"
   ]
  },
  {
   "cell_type": "code",
   "execution_count": 34,
   "id": "a4b8c17d",
   "metadata": {},
   "outputs": [],
   "source": [
    "#Removing space characters from the features; genres, keywords, cast, crew\n",
    "\n",
    "movies['genres'] = movies['genres'].apply(lambda x:[i.replace(\" \",\"\") for i in x])\n",
    "movies['keywords'] = movies['keywords'].apply(lambda x:[i.replace(' ','') for i in x])\n",
    "movies['cast'] = movies['cast'].apply(lambda x:[i.replace(' ','') for i in x])\n",
    "movies['crew'] = movies['crew'].apply(lambda x:[i.replace(' ','') for i in x])"
   ]
  },
  {
   "cell_type": "code",
   "execution_count": 52,
   "id": "0d2448c4",
   "metadata": {},
   "outputs": [],
   "source": [
    "#Tokenizing the overview\n",
    "\n",
    "movies['overview'] = movies['overview'].apply(lambda x:x.split())"
   ]
  },
  {
   "cell_type": "code",
   "execution_count": 53,
   "id": "4c68c85e",
   "metadata": {},
   "outputs": [
    {
     "data": {
      "text/html": [
       "<div>\n",
       "<style scoped>\n",
       "    .dataframe tbody tr th:only-of-type {\n",
       "        vertical-align: middle;\n",
       "    }\n",
       "\n",
       "    .dataframe tbody tr th {\n",
       "        vertical-align: top;\n",
       "    }\n",
       "\n",
       "    .dataframe thead th {\n",
       "        text-align: right;\n",
       "    }\n",
       "</style>\n",
       "<table border=\"1\" class=\"dataframe\">\n",
       "  <thead>\n",
       "    <tr style=\"text-align: right;\">\n",
       "      <th></th>\n",
       "      <th>movie_id</th>\n",
       "      <th>title</th>\n",
       "      <th>overview</th>\n",
       "      <th>genres</th>\n",
       "      <th>keywords</th>\n",
       "      <th>cast</th>\n",
       "      <th>crew</th>\n",
       "    </tr>\n",
       "  </thead>\n",
       "  <tbody>\n",
       "    <tr>\n",
       "      <th>0</th>\n",
       "      <td>19995</td>\n",
       "      <td>Avatar</td>\n",
       "      <td>[In, the, 22nd, century,, a, paraplegic, Marin...</td>\n",
       "      <td>[Action, Adventure, Fantasy, ScienceFiction]</td>\n",
       "      <td>[cultureclash, future, spacewar, spacecolony, ...</td>\n",
       "      <td>[SamWorthington, ZoeSaldana, SigourneyWeaver]</td>\n",
       "      <td>[JamesCameron]</td>\n",
       "    </tr>\n",
       "    <tr>\n",
       "      <th>1</th>\n",
       "      <td>285</td>\n",
       "      <td>Pirates of the Caribbean: At World's End</td>\n",
       "      <td>[Captain, Barbossa,, long, believed, to, be, d...</td>\n",
       "      <td>[Adventure, Fantasy, Action]</td>\n",
       "      <td>[ocean, drugabuse, exoticisland, eastindiatrad...</td>\n",
       "      <td>[JohnnyDepp, OrlandoBloom, KeiraKnightley]</td>\n",
       "      <td>[GoreVerbinski]</td>\n",
       "    </tr>\n",
       "    <tr>\n",
       "      <th>2</th>\n",
       "      <td>206647</td>\n",
       "      <td>Spectre</td>\n",
       "      <td>[A, cryptic, message, from, Bond’s, past, send...</td>\n",
       "      <td>[Action, Adventure, Crime]</td>\n",
       "      <td>[spy, basedonnovel, secretagent, sequel, mi6, ...</td>\n",
       "      <td>[DanielCraig, ChristophWaltz, LéaSeydoux]</td>\n",
       "      <td>[SamMendes]</td>\n",
       "    </tr>\n",
       "    <tr>\n",
       "      <th>3</th>\n",
       "      <td>49026</td>\n",
       "      <td>The Dark Knight Rises</td>\n",
       "      <td>[Following, the, death, of, District, Attorney...</td>\n",
       "      <td>[Action, Crime, Drama, Thriller]</td>\n",
       "      <td>[dccomics, crimefighter, terrorist, secretiden...</td>\n",
       "      <td>[ChristianBale, MichaelCaine, GaryOldman]</td>\n",
       "      <td>[ChristopherNolan]</td>\n",
       "    </tr>\n",
       "    <tr>\n",
       "      <th>4</th>\n",
       "      <td>49529</td>\n",
       "      <td>John Carter</td>\n",
       "      <td>[John, Carter, is, a, war-weary,, former, mili...</td>\n",
       "      <td>[Action, Adventure, ScienceFiction]</td>\n",
       "      <td>[basedonnovel, mars, medallion, spacetravel, p...</td>\n",
       "      <td>[TaylorKitsch, LynnCollins, SamanthaMorton]</td>\n",
       "      <td>[AndrewStanton]</td>\n",
       "    </tr>\n",
       "  </tbody>\n",
       "</table>\n",
       "</div>"
      ],
      "text/plain": [
       "   movie_id                                     title  \\\n",
       "0     19995                                    Avatar   \n",
       "1       285  Pirates of the Caribbean: At World's End   \n",
       "2    206647                                   Spectre   \n",
       "3     49026                     The Dark Knight Rises   \n",
       "4     49529                               John Carter   \n",
       "\n",
       "                                            overview  \\\n",
       "0  [In, the, 22nd, century,, a, paraplegic, Marin...   \n",
       "1  [Captain, Barbossa,, long, believed, to, be, d...   \n",
       "2  [A, cryptic, message, from, Bond’s, past, send...   \n",
       "3  [Following, the, death, of, District, Attorney...   \n",
       "4  [John, Carter, is, a, war-weary,, former, mili...   \n",
       "\n",
       "                                         genres  \\\n",
       "0  [Action, Adventure, Fantasy, ScienceFiction]   \n",
       "1                  [Adventure, Fantasy, Action]   \n",
       "2                    [Action, Adventure, Crime]   \n",
       "3              [Action, Crime, Drama, Thriller]   \n",
       "4           [Action, Adventure, ScienceFiction]   \n",
       "\n",
       "                                            keywords  \\\n",
       "0  [cultureclash, future, spacewar, spacecolony, ...   \n",
       "1  [ocean, drugabuse, exoticisland, eastindiatrad...   \n",
       "2  [spy, basedonnovel, secretagent, sequel, mi6, ...   \n",
       "3  [dccomics, crimefighter, terrorist, secretiden...   \n",
       "4  [basedonnovel, mars, medallion, spacetravel, p...   \n",
       "\n",
       "                                            cast                crew  \n",
       "0  [SamWorthington, ZoeSaldana, SigourneyWeaver]      [JamesCameron]  \n",
       "1     [JohnnyDepp, OrlandoBloom, KeiraKnightley]     [GoreVerbinski]  \n",
       "2      [DanielCraig, ChristophWaltz, LéaSeydoux]         [SamMendes]  \n",
       "3      [ChristianBale, MichaelCaine, GaryOldman]  [ChristopherNolan]  \n",
       "4    [TaylorKitsch, LynnCollins, SamanthaMorton]     [AndrewStanton]  "
      ]
     },
     "execution_count": 53,
     "metadata": {},
     "output_type": "execute_result"
    }
   ],
   "source": [
    "movies.head()"
   ]
  },
  {
   "cell_type": "code",
   "execution_count": 54,
   "id": "dfa15726",
   "metadata": {},
   "outputs": [],
   "source": [
    "# Creating a new feature \"tags\" where we merge the corpus of the overview, genres, keywords,cast, and crew \n",
    "\n",
    "movies['tags'] = movies['overview'] + movies['genres'] + movies['keywords'] + movies['cast'] + movies['crew']"
   ]
  },
  {
   "cell_type": "code",
   "execution_count": 55,
   "id": "ef6eca75",
   "metadata": {},
   "outputs": [
    {
     "data": {
      "text/html": [
       "<div>\n",
       "<style scoped>\n",
       "    .dataframe tbody tr th:only-of-type {\n",
       "        vertical-align: middle;\n",
       "    }\n",
       "\n",
       "    .dataframe tbody tr th {\n",
       "        vertical-align: top;\n",
       "    }\n",
       "\n",
       "    .dataframe thead th {\n",
       "        text-align: right;\n",
       "    }\n",
       "</style>\n",
       "<table border=\"1\" class=\"dataframe\">\n",
       "  <thead>\n",
       "    <tr style=\"text-align: right;\">\n",
       "      <th></th>\n",
       "      <th>movie_id</th>\n",
       "      <th>title</th>\n",
       "      <th>overview</th>\n",
       "      <th>genres</th>\n",
       "      <th>keywords</th>\n",
       "      <th>cast</th>\n",
       "      <th>crew</th>\n",
       "      <th>tags</th>\n",
       "    </tr>\n",
       "  </thead>\n",
       "  <tbody>\n",
       "    <tr>\n",
       "      <th>0</th>\n",
       "      <td>19995</td>\n",
       "      <td>Avatar</td>\n",
       "      <td>[In, the, 22nd, century,, a, paraplegic, Marin...</td>\n",
       "      <td>[Action, Adventure, Fantasy, ScienceFiction]</td>\n",
       "      <td>[cultureclash, future, spacewar, spacecolony, ...</td>\n",
       "      <td>[SamWorthington, ZoeSaldana, SigourneyWeaver]</td>\n",
       "      <td>[JamesCameron]</td>\n",
       "      <td>[In, the, 22nd, century,, a, paraplegic, Marin...</td>\n",
       "    </tr>\n",
       "    <tr>\n",
       "      <th>1</th>\n",
       "      <td>285</td>\n",
       "      <td>Pirates of the Caribbean: At World's End</td>\n",
       "      <td>[Captain, Barbossa,, long, believed, to, be, d...</td>\n",
       "      <td>[Adventure, Fantasy, Action]</td>\n",
       "      <td>[ocean, drugabuse, exoticisland, eastindiatrad...</td>\n",
       "      <td>[JohnnyDepp, OrlandoBloom, KeiraKnightley]</td>\n",
       "      <td>[GoreVerbinski]</td>\n",
       "      <td>[Captain, Barbossa,, long, believed, to, be, d...</td>\n",
       "    </tr>\n",
       "    <tr>\n",
       "      <th>2</th>\n",
       "      <td>206647</td>\n",
       "      <td>Spectre</td>\n",
       "      <td>[A, cryptic, message, from, Bond’s, past, send...</td>\n",
       "      <td>[Action, Adventure, Crime]</td>\n",
       "      <td>[spy, basedonnovel, secretagent, sequel, mi6, ...</td>\n",
       "      <td>[DanielCraig, ChristophWaltz, LéaSeydoux]</td>\n",
       "      <td>[SamMendes]</td>\n",
       "      <td>[A, cryptic, message, from, Bond’s, past, send...</td>\n",
       "    </tr>\n",
       "    <tr>\n",
       "      <th>3</th>\n",
       "      <td>49026</td>\n",
       "      <td>The Dark Knight Rises</td>\n",
       "      <td>[Following, the, death, of, District, Attorney...</td>\n",
       "      <td>[Action, Crime, Drama, Thriller]</td>\n",
       "      <td>[dccomics, crimefighter, terrorist, secretiden...</td>\n",
       "      <td>[ChristianBale, MichaelCaine, GaryOldman]</td>\n",
       "      <td>[ChristopherNolan]</td>\n",
       "      <td>[Following, the, death, of, District, Attorney...</td>\n",
       "    </tr>\n",
       "    <tr>\n",
       "      <th>4</th>\n",
       "      <td>49529</td>\n",
       "      <td>John Carter</td>\n",
       "      <td>[John, Carter, is, a, war-weary,, former, mili...</td>\n",
       "      <td>[Action, Adventure, ScienceFiction]</td>\n",
       "      <td>[basedonnovel, mars, medallion, spacetravel, p...</td>\n",
       "      <td>[TaylorKitsch, LynnCollins, SamanthaMorton]</td>\n",
       "      <td>[AndrewStanton]</td>\n",
       "      <td>[John, Carter, is, a, war-weary,, former, mili...</td>\n",
       "    </tr>\n",
       "  </tbody>\n",
       "</table>\n",
       "</div>"
      ],
      "text/plain": [
       "   movie_id                                     title  \\\n",
       "0     19995                                    Avatar   \n",
       "1       285  Pirates of the Caribbean: At World's End   \n",
       "2    206647                                   Spectre   \n",
       "3     49026                     The Dark Knight Rises   \n",
       "4     49529                               John Carter   \n",
       "\n",
       "                                            overview  \\\n",
       "0  [In, the, 22nd, century,, a, paraplegic, Marin...   \n",
       "1  [Captain, Barbossa,, long, believed, to, be, d...   \n",
       "2  [A, cryptic, message, from, Bond’s, past, send...   \n",
       "3  [Following, the, death, of, District, Attorney...   \n",
       "4  [John, Carter, is, a, war-weary,, former, mili...   \n",
       "\n",
       "                                         genres  \\\n",
       "0  [Action, Adventure, Fantasy, ScienceFiction]   \n",
       "1                  [Adventure, Fantasy, Action]   \n",
       "2                    [Action, Adventure, Crime]   \n",
       "3              [Action, Crime, Drama, Thriller]   \n",
       "4           [Action, Adventure, ScienceFiction]   \n",
       "\n",
       "                                            keywords  \\\n",
       "0  [cultureclash, future, spacewar, spacecolony, ...   \n",
       "1  [ocean, drugabuse, exoticisland, eastindiatrad...   \n",
       "2  [spy, basedonnovel, secretagent, sequel, mi6, ...   \n",
       "3  [dccomics, crimefighter, terrorist, secretiden...   \n",
       "4  [basedonnovel, mars, medallion, spacetravel, p...   \n",
       "\n",
       "                                            cast                crew  \\\n",
       "0  [SamWorthington, ZoeSaldana, SigourneyWeaver]      [JamesCameron]   \n",
       "1     [JohnnyDepp, OrlandoBloom, KeiraKnightley]     [GoreVerbinski]   \n",
       "2      [DanielCraig, ChristophWaltz, LéaSeydoux]         [SamMendes]   \n",
       "3      [ChristianBale, MichaelCaine, GaryOldman]  [ChristopherNolan]   \n",
       "4    [TaylorKitsch, LynnCollins, SamanthaMorton]     [AndrewStanton]   \n",
       "\n",
       "                                                tags  \n",
       "0  [In, the, 22nd, century,, a, paraplegic, Marin...  \n",
       "1  [Captain, Barbossa,, long, believed, to, be, d...  \n",
       "2  [A, cryptic, message, from, Bond’s, past, send...  \n",
       "3  [Following, the, death, of, District, Attorney...  \n",
       "4  [John, Carter, is, a, war-weary,, former, mili...  "
      ]
     },
     "execution_count": 55,
     "metadata": {},
     "output_type": "execute_result"
    }
   ],
   "source": [
    "movies.head()"
   ]
  },
  {
   "cell_type": "code",
   "execution_count": 56,
   "id": "53450ac1",
   "metadata": {},
   "outputs": [],
   "source": [
    "new_movies = movies[['movie_id', 'title', 'tags']] "
   ]
  },
  {
   "cell_type": "code",
   "execution_count": 57,
   "id": "e9c3a387",
   "metadata": {},
   "outputs": [
    {
     "data": {
      "text/html": [
       "<div>\n",
       "<style scoped>\n",
       "    .dataframe tbody tr th:only-of-type {\n",
       "        vertical-align: middle;\n",
       "    }\n",
       "\n",
       "    .dataframe tbody tr th {\n",
       "        vertical-align: top;\n",
       "    }\n",
       "\n",
       "    .dataframe thead th {\n",
       "        text-align: right;\n",
       "    }\n",
       "</style>\n",
       "<table border=\"1\" class=\"dataframe\">\n",
       "  <thead>\n",
       "    <tr style=\"text-align: right;\">\n",
       "      <th></th>\n",
       "      <th>movie_id</th>\n",
       "      <th>title</th>\n",
       "      <th>tags</th>\n",
       "    </tr>\n",
       "  </thead>\n",
       "  <tbody>\n",
       "    <tr>\n",
       "      <th>0</th>\n",
       "      <td>19995</td>\n",
       "      <td>Avatar</td>\n",
       "      <td>[In, the, 22nd, century,, a, paraplegic, Marin...</td>\n",
       "    </tr>\n",
       "    <tr>\n",
       "      <th>1</th>\n",
       "      <td>285</td>\n",
       "      <td>Pirates of the Caribbean: At World's End</td>\n",
       "      <td>[Captain, Barbossa,, long, believed, to, be, d...</td>\n",
       "    </tr>\n",
       "    <tr>\n",
       "      <th>2</th>\n",
       "      <td>206647</td>\n",
       "      <td>Spectre</td>\n",
       "      <td>[A, cryptic, message, from, Bond’s, past, send...</td>\n",
       "    </tr>\n",
       "    <tr>\n",
       "      <th>3</th>\n",
       "      <td>49026</td>\n",
       "      <td>The Dark Knight Rises</td>\n",
       "      <td>[Following, the, death, of, District, Attorney...</td>\n",
       "    </tr>\n",
       "    <tr>\n",
       "      <th>4</th>\n",
       "      <td>49529</td>\n",
       "      <td>John Carter</td>\n",
       "      <td>[John, Carter, is, a, war-weary,, former, mili...</td>\n",
       "    </tr>\n",
       "    <tr>\n",
       "      <th>...</th>\n",
       "      <td>...</td>\n",
       "      <td>...</td>\n",
       "      <td>...</td>\n",
       "    </tr>\n",
       "    <tr>\n",
       "      <th>4804</th>\n",
       "      <td>9367</td>\n",
       "      <td>El Mariachi</td>\n",
       "      <td>[El, Mariachi, just, wants, to, play, his, gui...</td>\n",
       "    </tr>\n",
       "    <tr>\n",
       "      <th>4805</th>\n",
       "      <td>72766</td>\n",
       "      <td>Newlyweds</td>\n",
       "      <td>[A, newlywed, couple's, honeymoon, is, upended...</td>\n",
       "    </tr>\n",
       "    <tr>\n",
       "      <th>4806</th>\n",
       "      <td>231617</td>\n",
       "      <td>Signed, Sealed, Delivered</td>\n",
       "      <td>[\"Signed,, Sealed,, Delivered\", introduces, a,...</td>\n",
       "    </tr>\n",
       "    <tr>\n",
       "      <th>4807</th>\n",
       "      <td>126186</td>\n",
       "      <td>Shanghai Calling</td>\n",
       "      <td>[When, ambitious, New, York, attorney, Sam, is...</td>\n",
       "    </tr>\n",
       "    <tr>\n",
       "      <th>4808</th>\n",
       "      <td>25975</td>\n",
       "      <td>My Date with Drew</td>\n",
       "      <td>[Ever, since, the, second, grade, when, he, fi...</td>\n",
       "    </tr>\n",
       "  </tbody>\n",
       "</table>\n",
       "<p>4806 rows × 3 columns</p>\n",
       "</div>"
      ],
      "text/plain": [
       "      movie_id                                     title  \\\n",
       "0        19995                                    Avatar   \n",
       "1          285  Pirates of the Caribbean: At World's End   \n",
       "2       206647                                   Spectre   \n",
       "3        49026                     The Dark Knight Rises   \n",
       "4        49529                               John Carter   \n",
       "...        ...                                       ...   \n",
       "4804      9367                               El Mariachi   \n",
       "4805     72766                                 Newlyweds   \n",
       "4806    231617                 Signed, Sealed, Delivered   \n",
       "4807    126186                          Shanghai Calling   \n",
       "4808     25975                         My Date with Drew   \n",
       "\n",
       "                                                   tags  \n",
       "0     [In, the, 22nd, century,, a, paraplegic, Marin...  \n",
       "1     [Captain, Barbossa,, long, believed, to, be, d...  \n",
       "2     [A, cryptic, message, from, Bond’s, past, send...  \n",
       "3     [Following, the, death, of, District, Attorney...  \n",
       "4     [John, Carter, is, a, war-weary,, former, mili...  \n",
       "...                                                 ...  \n",
       "4804  [El, Mariachi, just, wants, to, play, his, gui...  \n",
       "4805  [A, newlywed, couple's, honeymoon, is, upended...  \n",
       "4806  [\"Signed,, Sealed,, Delivered\", introduces, a,...  \n",
       "4807  [When, ambitious, New, York, attorney, Sam, is...  \n",
       "4808  [Ever, since, the, second, grade, when, he, fi...  \n",
       "\n",
       "[4806 rows x 3 columns]"
      ]
     },
     "execution_count": 57,
     "metadata": {},
     "output_type": "execute_result"
    }
   ],
   "source": [
    "new_movies"
   ]
  },
  {
   "cell_type": "code",
   "execution_count": 58,
   "id": "1ed1a105",
   "metadata": {},
   "outputs": [
    {
     "name": "stderr",
     "output_type": "stream",
     "text": [
      "C:\\Users\\Olaitan\\AppData\\Local\\Temp\\ipykernel_23724\\1881512755.py:4: SettingWithCopyWarning: \n",
      "A value is trying to be set on a copy of a slice from a DataFrame.\n",
      "Try using .loc[row_indexer,col_indexer] = value instead\n",
      "\n",
      "See the caveats in the documentation: https://pandas.pydata.org/pandas-docs/stable/user_guide/indexing.html#returning-a-view-versus-a-copy\n",
      "  new_movies['tags'] = new_movies['tags'].apply(lambda x: re.sub(r',{2,}', ',', ','.join(' '.join(x).split())))\n"
     ]
    }
   ],
   "source": [
    "#importing re to remove double comma character in the tags feature\n",
    "\n",
    "import re\n",
    "new_movies['tags'] = new_movies['tags'].apply(lambda x: re.sub(r',{2,}', ',', ','.join(' '.join(x).split())))"
   ]
  },
  {
   "cell_type": "code",
   "execution_count": 59,
   "id": "4571f55b",
   "metadata": {},
   "outputs": [
    {
     "data": {
      "text/plain": [
       "'In,the,22nd,century,a,paraplegic,Marine,is,dispatched,to,the,moon,Pandora,on,a,unique,mission,but,becomes,torn,between,following,orders,and,protecting,an,alien,civilization.,Action,Adventure,Fantasy,ScienceFiction,cultureclash,future,spacewar,spacecolony,society,spacetravel,futuristic,romance,space,alien,tribe,alienplanet,cgi,marine,soldier,battle,loveaffair,antiwar,powerrelations,mindandsoul,3d,SamWorthington,ZoeSaldana,SigourneyWeaver,JamesCameron'"
      ]
     },
     "execution_count": 59,
     "metadata": {},
     "output_type": "execute_result"
    }
   ],
   "source": [
    "new_movies['tags'][0]"
   ]
  },
  {
   "cell_type": "code",
   "execution_count": 60,
   "id": "87b88499",
   "metadata": {},
   "outputs": [
    {
     "name": "stderr",
     "output_type": "stream",
     "text": [
      "C:\\Users\\Olaitan\\AppData\\Local\\Temp\\ipykernel_23724\\3357698245.py:3: SettingWithCopyWarning: \n",
      "A value is trying to be set on a copy of a slice from a DataFrame.\n",
      "Try using .loc[row_indexer,col_indexer] = value instead\n",
      "\n",
      "See the caveats in the documentation: https://pandas.pydata.org/pandas-docs/stable/user_guide/indexing.html#returning-a-view-versus-a-copy\n",
      "  new_movies['tags'] = new_movies['tags'].apply(lambda x:x.lower())\n"
     ]
    }
   ],
   "source": [
    "#LowerCase of all characters in the tags feature\n",
    "\n",
    "new_movies['tags'] = new_movies['tags'].apply(lambda x:x.lower())"
   ]
  },
  {
   "cell_type": "code",
   "execution_count": 61,
   "id": "8c2e95d4",
   "metadata": {},
   "outputs": [
    {
     "data": {
      "text/html": [
       "<div>\n",
       "<style scoped>\n",
       "    .dataframe tbody tr th:only-of-type {\n",
       "        vertical-align: middle;\n",
       "    }\n",
       "\n",
       "    .dataframe tbody tr th {\n",
       "        vertical-align: top;\n",
       "    }\n",
       "\n",
       "    .dataframe thead th {\n",
       "        text-align: right;\n",
       "    }\n",
       "</style>\n",
       "<table border=\"1\" class=\"dataframe\">\n",
       "  <thead>\n",
       "    <tr style=\"text-align: right;\">\n",
       "      <th></th>\n",
       "      <th>movie_id</th>\n",
       "      <th>title</th>\n",
       "      <th>tags</th>\n",
       "    </tr>\n",
       "  </thead>\n",
       "  <tbody>\n",
       "    <tr>\n",
       "      <th>0</th>\n",
       "      <td>19995</td>\n",
       "      <td>Avatar</td>\n",
       "      <td>in,the,22nd,century,a,paraplegic,marine,is,dis...</td>\n",
       "    </tr>\n",
       "    <tr>\n",
       "      <th>1</th>\n",
       "      <td>285</td>\n",
       "      <td>Pirates of the Caribbean: At World's End</td>\n",
       "      <td>captain,barbossa,long,believed,to,be,dead,has,...</td>\n",
       "    </tr>\n",
       "    <tr>\n",
       "      <th>2</th>\n",
       "      <td>206647</td>\n",
       "      <td>Spectre</td>\n",
       "      <td>a,cryptic,message,from,bond’s,past,sends,him,o...</td>\n",
       "    </tr>\n",
       "    <tr>\n",
       "      <th>3</th>\n",
       "      <td>49026</td>\n",
       "      <td>The Dark Knight Rises</td>\n",
       "      <td>following,the,death,of,district,attorney,harve...</td>\n",
       "    </tr>\n",
       "    <tr>\n",
       "      <th>4</th>\n",
       "      <td>49529</td>\n",
       "      <td>John Carter</td>\n",
       "      <td>john,carter,is,a,war-weary,former,military,cap...</td>\n",
       "    </tr>\n",
       "    <tr>\n",
       "      <th>...</th>\n",
       "      <td>...</td>\n",
       "      <td>...</td>\n",
       "      <td>...</td>\n",
       "    </tr>\n",
       "    <tr>\n",
       "      <th>4804</th>\n",
       "      <td>9367</td>\n",
       "      <td>El Mariachi</td>\n",
       "      <td>el,mariachi,just,wants,to,play,his,guitar,and,...</td>\n",
       "    </tr>\n",
       "    <tr>\n",
       "      <th>4805</th>\n",
       "      <td>72766</td>\n",
       "      <td>Newlyweds</td>\n",
       "      <td>a,newlywed,couple's,honeymoon,is,upended,by,th...</td>\n",
       "    </tr>\n",
       "    <tr>\n",
       "      <th>4806</th>\n",
       "      <td>231617</td>\n",
       "      <td>Signed, Sealed, Delivered</td>\n",
       "      <td>\"signed,sealed,delivered\",introduces,a,dedicat...</td>\n",
       "    </tr>\n",
       "    <tr>\n",
       "      <th>4807</th>\n",
       "      <td>126186</td>\n",
       "      <td>Shanghai Calling</td>\n",
       "      <td>when,ambitious,new,york,attorney,sam,is,sent,t...</td>\n",
       "    </tr>\n",
       "    <tr>\n",
       "      <th>4808</th>\n",
       "      <td>25975</td>\n",
       "      <td>My Date with Drew</td>\n",
       "      <td>ever,since,the,second,grade,when,he,first,saw,...</td>\n",
       "    </tr>\n",
       "  </tbody>\n",
       "</table>\n",
       "<p>4806 rows × 3 columns</p>\n",
       "</div>"
      ],
      "text/plain": [
       "      movie_id                                     title  \\\n",
       "0        19995                                    Avatar   \n",
       "1          285  Pirates of the Caribbean: At World's End   \n",
       "2       206647                                   Spectre   \n",
       "3        49026                     The Dark Knight Rises   \n",
       "4        49529                               John Carter   \n",
       "...        ...                                       ...   \n",
       "4804      9367                               El Mariachi   \n",
       "4805     72766                                 Newlyweds   \n",
       "4806    231617                 Signed, Sealed, Delivered   \n",
       "4807    126186                          Shanghai Calling   \n",
       "4808     25975                         My Date with Drew   \n",
       "\n",
       "                                                   tags  \n",
       "0     in,the,22nd,century,a,paraplegic,marine,is,dis...  \n",
       "1     captain,barbossa,long,believed,to,be,dead,has,...  \n",
       "2     a,cryptic,message,from,bond’s,past,sends,him,o...  \n",
       "3     following,the,death,of,district,attorney,harve...  \n",
       "4     john,carter,is,a,war-weary,former,military,cap...  \n",
       "...                                                 ...  \n",
       "4804  el,mariachi,just,wants,to,play,his,guitar,and,...  \n",
       "4805  a,newlywed,couple's,honeymoon,is,upended,by,th...  \n",
       "4806  \"signed,sealed,delivered\",introduces,a,dedicat...  \n",
       "4807  when,ambitious,new,york,attorney,sam,is,sent,t...  \n",
       "4808  ever,since,the,second,grade,when,he,first,saw,...  \n",
       "\n",
       "[4806 rows x 3 columns]"
      ]
     },
     "execution_count": 61,
     "metadata": {},
     "output_type": "execute_result"
    }
   ],
   "source": [
    "new_movies"
   ]
  },
  {
   "cell_type": "code",
   "execution_count": 62,
   "id": "5883bcb0",
   "metadata": {},
   "outputs": [
    {
     "data": {
      "text/plain": [
       "\"captain,barbossa,long,believed,to,be,dead,has,come,back,to,life,and,is,headed,to,the,edge,of,the,earth,with,will,turner,and,elizabeth,swann.,but,nothing,is,quite,as,it,seems.,adventure,fantasy,action,ocean,drugabuse,exoticisland,eastindiatradingcompany,loveofone'slife,traitor,shipwreck,strongwoman,ship,alliance,calypso,afterlife,fighter,pirate,swashbuckler,aftercreditsstinger,johnnydepp,orlandobloom,keiraknightley,goreverbinski\""
      ]
     },
     "execution_count": 62,
     "metadata": {},
     "output_type": "execute_result"
    }
   ],
   "source": [
    "new_movies['tags'][1]"
   ]
  },
  {
   "cell_type": "code",
   "execution_count": 63,
   "id": "17e23fbd",
   "metadata": {},
   "outputs": [],
   "source": [
    "#Vectorization\n",
    "\n",
    "from sklearn.feature_extraction.text import CountVectorizer\n",
    "cv = CountVectorizer(max_features=5000, stop_words='english')"
   ]
  },
  {
   "cell_type": "code",
   "execution_count": 64,
   "id": "ce6cbea9",
   "metadata": {},
   "outputs": [],
   "source": [
    "vectors = cv.fit_transform(new_movies['tags']).toarray()"
   ]
  },
  {
   "cell_type": "code",
   "execution_count": 65,
   "id": "3b1920f6",
   "metadata": {},
   "outputs": [
    {
     "data": {
      "text/plain": [
       "array([[0, 0, 0, ..., 0, 0, 0],\n",
       "       [0, 0, 0, ..., 0, 0, 0],\n",
       "       [0, 0, 0, ..., 0, 0, 0],\n",
       "       ...,\n",
       "       [0, 0, 0, ..., 0, 0, 0],\n",
       "       [0, 0, 0, ..., 0, 0, 0],\n",
       "       [0, 0, 0, ..., 0, 0, 0]], dtype=int64)"
      ]
     },
     "execution_count": 65,
     "metadata": {},
     "output_type": "execute_result"
    }
   ],
   "source": [
    "vectors"
   ]
  },
  {
   "cell_type": "code",
   "execution_count": 68,
   "id": "7f4d5f58",
   "metadata": {},
   "outputs": [
    {
     "data": {
      "text/plain": [
       "array(['000', '007', '10', ..., 'zone', 'zoo', 'zooeydeschanel'],\n",
       "      dtype=object)"
      ]
     },
     "execution_count": 68,
     "metadata": {},
     "output_type": "execute_result"
    }
   ],
   "source": [
    "cv.get_feature_names_out()"
   ]
  },
  {
   "cell_type": "code",
   "execution_count": 69,
   "id": "9017fd9b",
   "metadata": {},
   "outputs": [],
   "source": [
    "#Cosine Similarity\n",
    "\n",
    "from sklearn.metrics.pairwise import cosine_similarity"
   ]
  },
  {
   "cell_type": "code",
   "execution_count": 70,
   "id": "f8dcd695",
   "metadata": {},
   "outputs": [],
   "source": [
    "cs= cosine_similarity"
   ]
  },
  {
   "cell_type": "code",
   "execution_count": 71,
   "id": "3388a955",
   "metadata": {},
   "outputs": [
    {
     "data": {
      "text/plain": [
       "(4806, 4806)"
      ]
     },
     "execution_count": 71,
     "metadata": {},
     "output_type": "execute_result"
    }
   ],
   "source": [
    "cs(vectors).shape"
   ]
  },
  {
   "cell_type": "code",
   "execution_count": 72,
   "id": "eac0cd8a",
   "metadata": {},
   "outputs": [],
   "source": [
    "similar = cs(vectors)"
   ]
  },
  {
   "cell_type": "code",
   "execution_count": 73,
   "id": "b23ceeea",
   "metadata": {},
   "outputs": [
    {
     "data": {
      "text/plain": [
       "[(539, 0.26089696604360174),\n",
       " (1194, 0.2581988897471611),\n",
       " (507, 0.25302403842552984),\n",
       " (260, 0.25110592822973776)]"
      ]
     },
     "execution_count": 73,
     "metadata": {},
     "output_type": "execute_result"
    }
   ],
   "source": [
    "sorted(list(enumerate(similar[0])),reverse=True, key=lambda x:x[1])[1:5]"
   ]
  },
  {
   "cell_type": "code",
   "execution_count": 74,
   "id": "f301bf37",
   "metadata": {},
   "outputs": [],
   "source": [
    "#Creating a function to recommend 4 movies based on similarity\n",
    "\n",
    "def recommend(movie):\n",
    "    movie_index = new_movies[new_movies['title'] == movie].index[0]\n",
    "    distances = similar[movie_index]\n",
    "    movies_list = sorted(list(enumerate(distances)), reverse=True, key=lambda x:x[1])[1:5]\n",
    "    \n",
    "    for i in movies_list:\n",
    "        print(new_movies.iloc[i[0]].title)"
   ]
  },
  {
   "cell_type": "markdown",
   "id": "6d036e09",
   "metadata": {},
   "source": [
    "# Recommendation"
   ]
  },
  {
   "cell_type": "code",
   "execution_count": 75,
   "id": "42f684d1",
   "metadata": {},
   "outputs": [
    {
     "name": "stdout",
     "output_type": "stream",
     "text": [
      "The Dark Knight\n",
      "The Dark Knight Rises\n",
      "Batman\n",
      "Batman & Robin\n"
     ]
    }
   ],
   "source": [
    "#Recommendation\n",
    "\n",
    "recommend('Batman Begins')"
   ]
  },
  {
   "cell_type": "code",
   "execution_count": 76,
   "id": "eb91fcaa",
   "metadata": {},
   "outputs": [
    {
     "name": "stdout",
     "output_type": "stream",
     "text": [
      "Titan A.E.\n",
      "Small Soldiers\n",
      "Independence Day\n",
      "Ender's Game\n"
     ]
    }
   ],
   "source": [
    "recommend('Avatar')"
   ]
  },
  {
   "cell_type": "code",
   "execution_count": 78,
   "id": "25f7ac83",
   "metadata": {},
   "outputs": [
    {
     "name": "stdout",
     "output_type": "stream",
     "text": [
      "Star Trek: Insurrection\n",
      "Mission to Mars\n",
      "Captain America: The First Avenger\n",
      "Escape from Planet Earth\n"
     ]
    }
   ],
   "source": [
    "recommend('John Carter')"
   ]
  },
  {
   "cell_type": "code",
   "execution_count": 79,
   "id": "633aa42c",
   "metadata": {},
   "outputs": [],
   "source": [
    "import pickle"
   ]
  },
  {
   "cell_type": "code",
   "execution_count": 80,
   "id": "4074fb26",
   "metadata": {},
   "outputs": [],
   "source": [
    "pickle.dump(new_movies,open('movies.pkl','wb'))"
   ]
  },
  {
   "cell_type": "code",
   "execution_count": 81,
   "id": "c2dab310",
   "metadata": {},
   "outputs": [
    {
     "data": {
      "text/plain": [
       "array(['Avatar', \"Pirates of the Caribbean: At World's End\", 'Spectre',\n",
       "       ..., 'Signed, Sealed, Delivered', 'Shanghai Calling',\n",
       "       'My Date with Drew'], dtype=object)"
      ]
     },
     "execution_count": 81,
     "metadata": {},
     "output_type": "execute_result"
    }
   ],
   "source": [
    "new_movies['title'].values"
   ]
  },
  {
   "cell_type": "code",
   "execution_count": 82,
   "id": "028e9f8a",
   "metadata": {},
   "outputs": [],
   "source": [
    "pickle.dump(new_movies.to_dict(),open('movie_dict.pkl','wb'))"
   ]
  },
  {
   "cell_type": "code",
   "execution_count": 84,
   "id": "b62580ef",
   "metadata": {},
   "outputs": [],
   "source": [
    "pickle.dump(similar,open('similar.pkl','wb'))"
   ]
  },
  {
   "cell_type": "code",
   "execution_count": null,
   "id": "8c9c8b9c",
   "metadata": {},
   "outputs": [],
   "source": []
  }
 ],
 "metadata": {
  "kernelspec": {
   "display_name": "Python 3 (ipykernel)",
   "language": "python",
   "name": "python3"
  },
  "language_info": {
   "codemirror_mode": {
    "name": "ipython",
    "version": 3
   },
   "file_extension": ".py",
   "mimetype": "text/x-python",
   "name": "python",
   "nbconvert_exporter": "python",
   "pygments_lexer": "ipython3",
   "version": "3.11.5"
  }
 },
 "nbformat": 4,
 "nbformat_minor": 5
}
